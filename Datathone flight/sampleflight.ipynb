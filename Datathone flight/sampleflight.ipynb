{
 "cells": [
  {
   "cell_type": "markdown",
   "metadata": {},
   "source": [
    "# AIRFLIGHT PRICE PREDICTION"
   ]
  },
  {
   "cell_type": "code",
   "execution_count": 2,
   "metadata": {},
   "outputs": [],
   "source": [
    "#import libararies\n",
    "import pandas as pd\n",
    "import matplotlib.pyplot as plt\n",
    "import numpy as np\n",
    "import seaborn as sns"
   ]
  },
  {
   "cell_type": "code",
   "execution_count": 3,
   "metadata": {},
   "outputs": [
    {
     "data": {
      "text/plain": [
       "(5000, 14)"
      ]
     },
     "execution_count": 3,
     "metadata": {},
     "output_type": "execute_result"
    }
   ],
   "source": [
    "#loading the sample train data \n",
    "df_train = pd.read_csv('Xy_train_sample.csv')\n",
    "df_train.shape"
   ]
  },
  {
   "cell_type": "code",
   "execution_count": 47,
   "metadata": {},
   "outputs": [
    {
     "data": {
      "text/plain": [
       "(500, 11)"
      ]
     },
     "execution_count": 47,
     "metadata": {},
     "output_type": "execute_result"
    }
   ],
   "source": [
    "#loading the sample test data\n",
    "df_test = pd.read_csv('X_test_sample.csv')\n",
    "df_test.shape "
   ]
  },
  {
   "cell_type": "code",
   "execution_count": 5,
   "metadata": {},
   "outputs": [],
   "source": [
    "#shortcut name\n",
    "df = df_train"
   ]
  },
  {
   "cell_type": "code",
   "execution_count": 48,
   "metadata": {},
   "outputs": [],
   "source": [
    "#shortcut name\n",
    "df1 = df_test"
   ]
  },
  {
   "cell_type": "markdown",
   "metadata": {},
   "source": [
    "# Exploratory Data Analysis on Train and test Data"
   ]
  },
  {
   "cell_type": "markdown",
   "metadata": {},
   "source": [
    "## Data Information"
   ]
  },
  {
   "cell_type": "code",
   "execution_count": 6,
   "metadata": {},
   "outputs": [
    {
     "name": "stdout",
     "output_type": "stream",
     "text": [
      "<class 'pandas.core.frame.DataFrame'>\n",
      "RangeIndex: 5000 entries, 0 to 4999\n",
      "Data columns (total 14 columns):\n",
      " #   Column        Non-Null Count  Dtype  \n",
      "---  ------        --------------  -----  \n",
      " 0   Unnamed: 0    5000 non-null   int64  \n",
      " 1   Unnamed: 0.1  5000 non-null   int64  \n",
      " 2   f1            5000 non-null   object \n",
      " 3   f2            5000 non-null   object \n",
      " 4   f3            5000 non-null   object \n",
      " 5   f4            5000 non-null   object \n",
      " 6   f5            5000 non-null   object \n",
      " 7   f6            5000 non-null   object \n",
      " 8   f7            5000 non-null   bool   \n",
      " 9   f8            5000 non-null   float64\n",
      " 10  f9            5000 non-null   int64  \n",
      " 11  f10           5000 non-null   object \n",
      " 12  Unnamed: 0.2  5000 non-null   int64  \n",
      " 13  target        5000 non-null   float64\n",
      "dtypes: bool(1), float64(2), int64(4), object(7)\n",
      "memory usage: 512.8+ KB\n"
     ]
    }
   ],
   "source": [
    "# structure of data\n",
    "df.info()"
   ]
  },
  {
   "cell_type": "code",
   "execution_count": 49,
   "metadata": {},
   "outputs": [
    {
     "name": "stdout",
     "output_type": "stream",
     "text": [
      "<class 'pandas.core.frame.DataFrame'>\n",
      "RangeIndex: 500 entries, 0 to 499\n",
      "Data columns (total 11 columns):\n",
      " #   Column      Non-Null Count  Dtype  \n",
      "---  ------      --------------  -----  \n",
      " 0   Unnamed: 0  500 non-null    int64  \n",
      " 1   f1          500 non-null    object \n",
      " 2   f2          500 non-null    object \n",
      " 3   f3          500 non-null    object \n",
      " 4   f4          500 non-null    object \n",
      " 5   f5          500 non-null    object \n",
      " 6   f6          500 non-null    object \n",
      " 7   f7          500 non-null    bool   \n",
      " 8   f8          500 non-null    float64\n",
      " 9   f9          500 non-null    int64  \n",
      " 10  f10         500 non-null    object \n",
      "dtypes: bool(1), float64(1), int64(2), object(7)\n",
      "memory usage: 39.7+ KB\n"
     ]
    }
   ],
   "source": [
    "# structure of data\n",
    "df1.info()"
   ]
  },
  {
   "cell_type": "markdown",
   "metadata": {},
   "source": [
    "## Missing Values"
   ]
  },
  {
   "cell_type": "code",
   "execution_count": 7,
   "metadata": {},
   "outputs": [
    {
     "data": {
      "text/plain": [
       "Unnamed: 0      0\n",
       "Unnamed: 0.1    0\n",
       "f1              0\n",
       "f2              0\n",
       "f3              0\n",
       "f4              0\n",
       "f5              0\n",
       "f6              0\n",
       "f7              0\n",
       "f8              0\n",
       "f9              0\n",
       "f10             0\n",
       "Unnamed: 0.2    0\n",
       "target          0\n",
       "dtype: int64"
      ]
     },
     "execution_count": 7,
     "metadata": {},
     "output_type": "execute_result"
    }
   ],
   "source": [
    "#finding null values\n",
    "df.isnull().sum()"
   ]
  },
  {
   "cell_type": "code",
   "execution_count": 50,
   "metadata": {},
   "outputs": [
    {
     "data": {
      "text/plain": [
       "Unnamed: 0    0\n",
       "f1            0\n",
       "f2            0\n",
       "f3            0\n",
       "f4            0\n",
       "f5            0\n",
       "f6            0\n",
       "f7            0\n",
       "f8            0\n",
       "f9            0\n",
       "f10           0\n",
       "dtype: int64"
      ]
     },
     "execution_count": 50,
     "metadata": {},
     "output_type": "execute_result"
    }
   ],
   "source": [
    "#finding null values\n",
    "df1.isnull().sum()"
   ]
  },
  {
   "cell_type": "code",
   "execution_count": 9,
   "metadata": {},
   "outputs": [
    {
     "data": {
      "text/plain": [
       "Index(['Unnamed: 0', 'Unnamed: 0.1', 'f1', 'f2', 'f3', 'f4', 'f5', 'f6', 'f7',\n",
       "       'f8', 'f9', 'f10', 'Unnamed: 0.2', 'target'],\n",
       "      dtype='object')"
      ]
     },
     "execution_count": 9,
     "metadata": {},
     "output_type": "execute_result"
    }
   ],
   "source": [
    "# see columns\n",
    "df.columns"
   ]
  },
  {
   "cell_type": "code",
   "execution_count": 51,
   "metadata": {},
   "outputs": [
    {
     "data": {
      "text/plain": [
       "Index(['Unnamed: 0', 'f1', 'f2', 'f3', 'f4', 'f5', 'f6', 'f7', 'f8', 'f9',\n",
       "       'f10'],\n",
       "      dtype='object')"
      ]
     },
     "execution_count": 51,
     "metadata": {},
     "output_type": "execute_result"
    }
   ],
   "source": [
    "# see columns\n",
    "df1.columns"
   ]
  },
  {
   "cell_type": "code",
   "execution_count": 10,
   "metadata": {},
   "outputs": [
    {
     "name": "stdout",
     "output_type": "stream",
     "text": [
      "f2 ['x']\n",
      ".........................\n",
      "f3 ['y']\n",
      ".........................\n",
      "f6 ['gamma' 'beta' 'alpha' 'omega']\n",
      ".........................\n",
      "f8 [20. 40. 15. 35.  0. 32. 45.]\n",
      ".........................\n",
      "f9 [1 0 2]\n",
      ".........................\n",
      "f10 ['c-6' 'b-1' 'c-2' 'a-7' 'a-9' 'a-5' 'a-1' 'a-23' 'b-69' 'c-4' 'b-19'\n",
      " 'd-1' 'b-9' 'd-5' 'b-67' 'd-3' 'b-73' 'b-319' 'b-369']\n",
      ".........................\n"
     ]
    }
   ],
   "source": [
    "# finding unique values in a categorical lists\n",
    "cat_list = ['f2','f3','f6','f8','f9','f10']\n",
    "\n",
    "# to find unique values in each columns\n",
    "for i in cat_list:\n",
    "    print(i,df[i].unique())\n",
    "    print('.........................') # seperator line"
   ]
  },
  {
   "cell_type": "markdown",
   "metadata": {},
   "source": [
    "- f2 ['x'] is always karachi =constant\n",
    "- f3 ['y'] is always islamabad =constant\n",
    "- f10 is Flight number = which have no dependency or corr with flight price."
   ]
  },
  {
   "cell_type": "code",
   "execution_count": 11,
   "metadata": {},
   "outputs": [
    {
     "data": {
      "text/html": [
       "<div>\n",
       "<style scoped>\n",
       "    .dataframe tbody tr th:only-of-type {\n",
       "        vertical-align: middle;\n",
       "    }\n",
       "\n",
       "    .dataframe tbody tr th {\n",
       "        vertical-align: top;\n",
       "    }\n",
       "\n",
       "    .dataframe thead th {\n",
       "        text-align: right;\n",
       "    }\n",
       "</style>\n",
       "<table border=\"1\" class=\"dataframe\">\n",
       "  <thead>\n",
       "    <tr style=\"text-align: right;\">\n",
       "      <th></th>\n",
       "      <th>Unnamed: 0.1</th>\n",
       "      <th>f1</th>\n",
       "      <th>f4</th>\n",
       "      <th>f5</th>\n",
       "      <th>f6</th>\n",
       "      <th>f7</th>\n",
       "      <th>f8</th>\n",
       "      <th>f9</th>\n",
       "      <th>Unnamed: 0.2</th>\n",
       "      <th>target</th>\n",
       "    </tr>\n",
       "  </thead>\n",
       "  <tbody>\n",
       "    <tr>\n",
       "      <th>0</th>\n",
       "      <td>10029546</td>\n",
       "      <td>2021-06-15 19:24:40.127223+00:00</td>\n",
       "      <td>2021-07-23 17:00:00+00:00</td>\n",
       "      <td>2021-07-23 18:59:00+00:00</td>\n",
       "      <td>gamma</td>\n",
       "      <td>True</td>\n",
       "      <td>20.0</td>\n",
       "      <td>1</td>\n",
       "      <td>10029546</td>\n",
       "      <td>6620.0</td>\n",
       "    </tr>\n",
       "    <tr>\n",
       "      <th>1</th>\n",
       "      <td>13732076</td>\n",
       "      <td>2021-07-10 02:33:39.966495+00:00</td>\n",
       "      <td>2021-07-13 05:00:00+00:00</td>\n",
       "      <td>2021-07-13 06:55:00+00:00</td>\n",
       "      <td>beta</td>\n",
       "      <td>True</td>\n",
       "      <td>40.0</td>\n",
       "      <td>0</td>\n",
       "      <td>13732076</td>\n",
       "      <td>15390.0</td>\n",
       "    </tr>\n",
       "    <tr>\n",
       "      <th>2</th>\n",
       "      <td>4670699</td>\n",
       "      <td>2021-04-17 01:56:55.252825+00:00</td>\n",
       "      <td>2021-04-19 05:00:00+00:00</td>\n",
       "      <td>2021-04-19 07:00:00+00:00</td>\n",
       "      <td>gamma</td>\n",
       "      <td>True</td>\n",
       "      <td>20.0</td>\n",
       "      <td>1</td>\n",
       "      <td>4670699</td>\n",
       "      <td>7640.0</td>\n",
       "    </tr>\n",
       "    <tr>\n",
       "      <th>3</th>\n",
       "      <td>20958556</td>\n",
       "      <td>2021-08-25 16:57:57.890080+00:00</td>\n",
       "      <td>2021-09-26 17:00:00+00:00</td>\n",
       "      <td>2021-09-26 18:59:00+00:00</td>\n",
       "      <td>gamma</td>\n",
       "      <td>True</td>\n",
       "      <td>20.0</td>\n",
       "      <td>2</td>\n",
       "      <td>20958556</td>\n",
       "      <td>7870.0</td>\n",
       "    </tr>\n",
       "    <tr>\n",
       "      <th>4</th>\n",
       "      <td>3558166</td>\n",
       "      <td>2021-03-19 19:43:50.090062+00:00</td>\n",
       "      <td>2021-04-13 17:00:00+00:00</td>\n",
       "      <td>2021-04-13 18:59:00+00:00</td>\n",
       "      <td>gamma</td>\n",
       "      <td>True</td>\n",
       "      <td>20.0</td>\n",
       "      <td>1</td>\n",
       "      <td>3558166</td>\n",
       "      <td>9800.0</td>\n",
       "    </tr>\n",
       "  </tbody>\n",
       "</table>\n",
       "</div>"
      ],
      "text/plain": [
       "   Unnamed: 0.1                                f1                         f4  \\\n",
       "0      10029546  2021-06-15 19:24:40.127223+00:00  2021-07-23 17:00:00+00:00   \n",
       "1      13732076  2021-07-10 02:33:39.966495+00:00  2021-07-13 05:00:00+00:00   \n",
       "2       4670699  2021-04-17 01:56:55.252825+00:00  2021-04-19 05:00:00+00:00   \n",
       "3      20958556  2021-08-25 16:57:57.890080+00:00  2021-09-26 17:00:00+00:00   \n",
       "4       3558166  2021-03-19 19:43:50.090062+00:00  2021-04-13 17:00:00+00:00   \n",
       "\n",
       "                          f5     f6    f7    f8  f9  Unnamed: 0.2   target  \n",
       "0  2021-07-23 18:59:00+00:00  gamma  True  20.0   1      10029546   6620.0  \n",
       "1  2021-07-13 06:55:00+00:00   beta  True  40.0   0      13732076  15390.0  \n",
       "2  2021-04-19 07:00:00+00:00  gamma  True  20.0   1       4670699   7640.0  \n",
       "3  2021-09-26 18:59:00+00:00  gamma  True  20.0   2      20958556   7870.0  \n",
       "4  2021-04-13 18:59:00+00:00  gamma  True  20.0   1       3558166   9800.0  "
      ]
     },
     "execution_count": 11,
     "metadata": {},
     "output_type": "execute_result"
    }
   ],
   "source": [
    "# droping unnecessary colums from the data train\n",
    "df.drop(['f2','f3','f10', 'Unnamed: 0'], axis=1, inplace=True)\n",
    "df.head()"
   ]
  },
  {
   "cell_type": "code",
   "execution_count": 52,
   "metadata": {},
   "outputs": [
    {
     "data": {
      "text/html": [
       "<div>\n",
       "<style scoped>\n",
       "    .dataframe tbody tr th:only-of-type {\n",
       "        vertical-align: middle;\n",
       "    }\n",
       "\n",
       "    .dataframe tbody tr th {\n",
       "        vertical-align: top;\n",
       "    }\n",
       "\n",
       "    .dataframe thead th {\n",
       "        text-align: right;\n",
       "    }\n",
       "</style>\n",
       "<table border=\"1\" class=\"dataframe\">\n",
       "  <thead>\n",
       "    <tr style=\"text-align: right;\">\n",
       "      <th></th>\n",
       "      <th>f1</th>\n",
       "      <th>f4</th>\n",
       "      <th>f5</th>\n",
       "      <th>f6</th>\n",
       "      <th>f7</th>\n",
       "      <th>f8</th>\n",
       "      <th>f9</th>\n",
       "    </tr>\n",
       "  </thead>\n",
       "  <tbody>\n",
       "    <tr>\n",
       "      <th>0</th>\n",
       "      <td>2021-09-05 19:35:42.081374+00:00</td>\n",
       "      <td>2021-09-09 16:00:00+00:00</td>\n",
       "      <td>2021-09-09 18:00:00+00:00</td>\n",
       "      <td>alpha</td>\n",
       "      <td>True</td>\n",
       "      <td>20.0</td>\n",
       "      <td>1</td>\n",
       "    </tr>\n",
       "    <tr>\n",
       "      <th>1</th>\n",
       "      <td>2021-09-10 07:03:14.090857+00:00</td>\n",
       "      <td>2021-09-19 11:00:00+00:00</td>\n",
       "      <td>2021-09-19 12:55:00+00:00</td>\n",
       "      <td>beta</td>\n",
       "      <td>True</td>\n",
       "      <td>40.0</td>\n",
       "      <td>0</td>\n",
       "    </tr>\n",
       "    <tr>\n",
       "      <th>2</th>\n",
       "      <td>2021-09-08 08:41:02.553645+00:00</td>\n",
       "      <td>2021-09-20 10:00:00+00:00</td>\n",
       "      <td>2021-09-20 12:00:00+00:00</td>\n",
       "      <td>alpha</td>\n",
       "      <td>True</td>\n",
       "      <td>15.0</td>\n",
       "      <td>1</td>\n",
       "    </tr>\n",
       "    <tr>\n",
       "      <th>3</th>\n",
       "      <td>2021-09-04 09:29:54.247387+00:00</td>\n",
       "      <td>2021-09-30 05:30:00+00:00</td>\n",
       "      <td>2021-09-30 07:30:00+00:00</td>\n",
       "      <td>gamma</td>\n",
       "      <td>True</td>\n",
       "      <td>20.0</td>\n",
       "      <td>2</td>\n",
       "    </tr>\n",
       "    <tr>\n",
       "      <th>4</th>\n",
       "      <td>2021-09-05 08:15:39.818464+00:00</td>\n",
       "      <td>2021-09-09 04:40:00+00:00</td>\n",
       "      <td>2021-09-09 06:40:00+00:00</td>\n",
       "      <td>omega</td>\n",
       "      <td>True</td>\n",
       "      <td>20.0</td>\n",
       "      <td>1</td>\n",
       "    </tr>\n",
       "  </tbody>\n",
       "</table>\n",
       "</div>"
      ],
      "text/plain": [
       "                                 f1                         f4  \\\n",
       "0  2021-09-05 19:35:42.081374+00:00  2021-09-09 16:00:00+00:00   \n",
       "1  2021-09-10 07:03:14.090857+00:00  2021-09-19 11:00:00+00:00   \n",
       "2  2021-09-08 08:41:02.553645+00:00  2021-09-20 10:00:00+00:00   \n",
       "3  2021-09-04 09:29:54.247387+00:00  2021-09-30 05:30:00+00:00   \n",
       "4  2021-09-05 08:15:39.818464+00:00  2021-09-09 04:40:00+00:00   \n",
       "\n",
       "                          f5     f6    f7    f8  f9  \n",
       "0  2021-09-09 18:00:00+00:00  alpha  True  20.0   1  \n",
       "1  2021-09-19 12:55:00+00:00   beta  True  40.0   0  \n",
       "2  2021-09-20 12:00:00+00:00  alpha  True  15.0   1  \n",
       "3  2021-09-30 07:30:00+00:00  gamma  True  20.0   2  \n",
       "4  2021-09-09 06:40:00+00:00  omega  True  20.0   1  "
      ]
     },
     "execution_count": 52,
     "metadata": {},
     "output_type": "execute_result"
    }
   ],
   "source": [
    "# droping unnecessary colums from the data test\n",
    "df1.drop(['f2','f3','f10', 'Unnamed: 0'], axis=1, inplace=True)\n",
    "df1.head()"
   ]
  },
  {
   "cell_type": "code",
   "execution_count": 12,
   "metadata": {},
   "outputs": [],
   "source": [
    "# droping unnecessary colums from the data train\n",
    "df.drop(['Unnamed: 0.2','Unnamed: 0.1'], axis=1, inplace=True)"
   ]
  },
  {
   "cell_type": "code",
   "execution_count": 13,
   "metadata": {},
   "outputs": [
    {
     "data": {
      "text/html": [
       "<div>\n",
       "<style scoped>\n",
       "    .dataframe tbody tr th:only-of-type {\n",
       "        vertical-align: middle;\n",
       "    }\n",
       "\n",
       "    .dataframe tbody tr th {\n",
       "        vertical-align: top;\n",
       "    }\n",
       "\n",
       "    .dataframe thead th {\n",
       "        text-align: right;\n",
       "    }\n",
       "</style>\n",
       "<table border=\"1\" class=\"dataframe\">\n",
       "  <thead>\n",
       "    <tr style=\"text-align: right;\">\n",
       "      <th></th>\n",
       "      <th>f1</th>\n",
       "      <th>f4</th>\n",
       "      <th>f5</th>\n",
       "      <th>f6</th>\n",
       "      <th>f7</th>\n",
       "      <th>f8</th>\n",
       "      <th>f9</th>\n",
       "      <th>target</th>\n",
       "    </tr>\n",
       "  </thead>\n",
       "  <tbody>\n",
       "    <tr>\n",
       "      <th>0</th>\n",
       "      <td>2021-06-15 19:24:40.127223+00:00</td>\n",
       "      <td>2021-07-23 17:00:00+00:00</td>\n",
       "      <td>2021-07-23 18:59:00+00:00</td>\n",
       "      <td>gamma</td>\n",
       "      <td>True</td>\n",
       "      <td>20.0</td>\n",
       "      <td>1</td>\n",
       "      <td>6620.0</td>\n",
       "    </tr>\n",
       "    <tr>\n",
       "      <th>1</th>\n",
       "      <td>2021-07-10 02:33:39.966495+00:00</td>\n",
       "      <td>2021-07-13 05:00:00+00:00</td>\n",
       "      <td>2021-07-13 06:55:00+00:00</td>\n",
       "      <td>beta</td>\n",
       "      <td>True</td>\n",
       "      <td>40.0</td>\n",
       "      <td>0</td>\n",
       "      <td>15390.0</td>\n",
       "    </tr>\n",
       "    <tr>\n",
       "      <th>2</th>\n",
       "      <td>2021-04-17 01:56:55.252825+00:00</td>\n",
       "      <td>2021-04-19 05:00:00+00:00</td>\n",
       "      <td>2021-04-19 07:00:00+00:00</td>\n",
       "      <td>gamma</td>\n",
       "      <td>True</td>\n",
       "      <td>20.0</td>\n",
       "      <td>1</td>\n",
       "      <td>7640.0</td>\n",
       "    </tr>\n",
       "    <tr>\n",
       "      <th>3</th>\n",
       "      <td>2021-08-25 16:57:57.890080+00:00</td>\n",
       "      <td>2021-09-26 17:00:00+00:00</td>\n",
       "      <td>2021-09-26 18:59:00+00:00</td>\n",
       "      <td>gamma</td>\n",
       "      <td>True</td>\n",
       "      <td>20.0</td>\n",
       "      <td>2</td>\n",
       "      <td>7870.0</td>\n",
       "    </tr>\n",
       "    <tr>\n",
       "      <th>4</th>\n",
       "      <td>2021-03-19 19:43:50.090062+00:00</td>\n",
       "      <td>2021-04-13 17:00:00+00:00</td>\n",
       "      <td>2021-04-13 18:59:00+00:00</td>\n",
       "      <td>gamma</td>\n",
       "      <td>True</td>\n",
       "      <td>20.0</td>\n",
       "      <td>1</td>\n",
       "      <td>9800.0</td>\n",
       "    </tr>\n",
       "  </tbody>\n",
       "</table>\n",
       "</div>"
      ],
      "text/plain": [
       "                                 f1                         f4  \\\n",
       "0  2021-06-15 19:24:40.127223+00:00  2021-07-23 17:00:00+00:00   \n",
       "1  2021-07-10 02:33:39.966495+00:00  2021-07-13 05:00:00+00:00   \n",
       "2  2021-04-17 01:56:55.252825+00:00  2021-04-19 05:00:00+00:00   \n",
       "3  2021-08-25 16:57:57.890080+00:00  2021-09-26 17:00:00+00:00   \n",
       "4  2021-03-19 19:43:50.090062+00:00  2021-04-13 17:00:00+00:00   \n",
       "\n",
       "                          f5     f6    f7    f8  f9   target  \n",
       "0  2021-07-23 18:59:00+00:00  gamma  True  20.0   1   6620.0  \n",
       "1  2021-07-13 06:55:00+00:00   beta  True  40.0   0  15390.0  \n",
       "2  2021-04-19 07:00:00+00:00  gamma  True  20.0   1   7640.0  \n",
       "3  2021-09-26 18:59:00+00:00  gamma  True  20.0   2   7870.0  \n",
       "4  2021-04-13 18:59:00+00:00  gamma  True  20.0   1   9800.0  "
      ]
     },
     "execution_count": 13,
     "metadata": {},
     "output_type": "execute_result"
    }
   ],
   "source": [
    "df.head()"
   ]
  },
  {
   "cell_type": "markdown",
   "metadata": {},
   "source": [
    "## Type Casting / Conversion"
   ]
  },
  {
   "cell_type": "code",
   "execution_count": 14,
   "metadata": {},
   "outputs": [],
   "source": [
    "# Type casting for train set\n",
    "# convert time into datetime objects\n",
    "from datetime import date, datetime\n",
    "df['f1'] = pd.to_datetime(df['f1']) \n",
    "df['f4'] = pd.to_datetime(df['f4']) \n",
    "df['f5'] = pd.to_datetime(df['f5']) "
   ]
  },
  {
   "cell_type": "code",
   "execution_count": 54,
   "metadata": {},
   "outputs": [],
   "source": [
    "#Type casting for test set\n",
    "# convert time into datetime objects\n",
    "from datetime import date, datetime\n",
    "df1['f1'] = pd.to_datetime(df1['f1']) \n",
    "df1['f4'] = pd.to_datetime(df1['f4']) \n",
    "df1['f5'] = pd.to_datetime(df1['f5']) "
   ]
  },
  {
   "cell_type": "code",
   "execution_count": 15,
   "metadata": {},
   "outputs": [
    {
     "name": "stdout",
     "output_type": "stream",
     "text": [
      "<class 'pandas.core.frame.DataFrame'>\n",
      "RangeIndex: 5000 entries, 0 to 4999\n",
      "Data columns (total 8 columns):\n",
      " #   Column  Non-Null Count  Dtype              \n",
      "---  ------  --------------  -----              \n",
      " 0   f1      5000 non-null   datetime64[ns, UTC]\n",
      " 1   f4      5000 non-null   datetime64[ns, UTC]\n",
      " 2   f5      5000 non-null   datetime64[ns, UTC]\n",
      " 3   f6      5000 non-null   object             \n",
      " 4   f7      5000 non-null   bool               \n",
      " 5   f8      5000 non-null   float64            \n",
      " 6   f9      5000 non-null   int64              \n",
      " 7   target  5000 non-null   float64            \n",
      "dtypes: bool(1), datetime64[ns, UTC](3), float64(2), int64(1), object(1)\n",
      "memory usage: 278.4+ KB\n"
     ]
    }
   ],
   "source": [
    "df.info()"
   ]
  },
  {
   "cell_type": "code",
   "execution_count": 55,
   "metadata": {},
   "outputs": [
    {
     "name": "stdout",
     "output_type": "stream",
     "text": [
      "<class 'pandas.core.frame.DataFrame'>\n",
      "RangeIndex: 500 entries, 0 to 499\n",
      "Data columns (total 7 columns):\n",
      " #   Column  Non-Null Count  Dtype              \n",
      "---  ------  --------------  -----              \n",
      " 0   f1      500 non-null    datetime64[ns, UTC]\n",
      " 1   f4      500 non-null    datetime64[ns, UTC]\n",
      " 2   f5      500 non-null    datetime64[ns, UTC]\n",
      " 3   f6      500 non-null    object             \n",
      " 4   f7      500 non-null    bool               \n",
      " 5   f8      500 non-null    float64            \n",
      " 6   f9      500 non-null    int64              \n",
      "dtypes: bool(1), datetime64[ns, UTC](3), float64(1), int64(1), object(1)\n",
      "memory usage: 24.1+ KB\n"
     ]
    }
   ],
   "source": [
    "df1.info()"
   ]
  },
  {
   "cell_type": "markdown",
   "metadata": {},
   "source": [
    "- Type of time has been changed to datetime64[ns, UTC]"
   ]
  },
  {
   "cell_type": "markdown",
   "metadata": {},
   "source": [
    "## Feature Engeenering"
   ]
  },
  {
   "cell_type": "code",
   "execution_count": 16,
   "metadata": {},
   "outputs": [],
   "source": [
    "# adding new column after substractions *train\n",
    "\n",
    "#creating time_to_dep in seconds\n",
    "df.insert(0, 'time_to_dep(s)' , ((df['f4']-df['f1']).astype('timedelta64[s]')),True)\n",
    "\n",
    "#creating travel_time in seconds\n",
    "df.insert(1, 'travel_time(s)' , ((df['f5']-df['f4']).astype('timedelta64[s]')),True)"
   ]
  },
  {
   "cell_type": "code",
   "execution_count": 56,
   "metadata": {},
   "outputs": [],
   "source": [
    "# adding new column after substractions *test\n",
    "\n",
    "#creating time_to_dep in seconds \n",
    "df1.insert(0, 'time_to_dep(s)' , ((df1['f4']-df1['f1']).astype('timedelta64[s]')),True)\n",
    "\n",
    "#creating travel_time in seconds\n",
    "df1.insert(1, 'travel_time(s)' , ((df1['f5']-df1['f4']).astype('timedelta64[s]')),True)"
   ]
  },
  {
   "cell_type": "code",
   "execution_count": 17,
   "metadata": {},
   "outputs": [
    {
     "data": {
      "text/html": [
       "<div>\n",
       "<style scoped>\n",
       "    .dataframe tbody tr th:only-of-type {\n",
       "        vertical-align: middle;\n",
       "    }\n",
       "\n",
       "    .dataframe tbody tr th {\n",
       "        vertical-align: top;\n",
       "    }\n",
       "\n",
       "    .dataframe thead th {\n",
       "        text-align: right;\n",
       "    }\n",
       "</style>\n",
       "<table border=\"1\" class=\"dataframe\">\n",
       "  <thead>\n",
       "    <tr style=\"text-align: right;\">\n",
       "      <th></th>\n",
       "      <th>time_to_dep(s)</th>\n",
       "      <th>travel_time(s)</th>\n",
       "      <th>f1</th>\n",
       "      <th>f4</th>\n",
       "      <th>f5</th>\n",
       "      <th>f6</th>\n",
       "      <th>f7</th>\n",
       "      <th>f8</th>\n",
       "      <th>f9</th>\n",
       "      <th>target</th>\n",
       "    </tr>\n",
       "  </thead>\n",
       "  <tbody>\n",
       "    <tr>\n",
       "      <th>0</th>\n",
       "      <td>3274519.0</td>\n",
       "      <td>7140.0</td>\n",
       "      <td>2021-06-15 19:24:40.127223+00:00</td>\n",
       "      <td>2021-07-23 17:00:00+00:00</td>\n",
       "      <td>2021-07-23 18:59:00+00:00</td>\n",
       "      <td>gamma</td>\n",
       "      <td>True</td>\n",
       "      <td>20.0</td>\n",
       "      <td>1</td>\n",
       "      <td>6620.0</td>\n",
       "    </tr>\n",
       "    <tr>\n",
       "      <th>1</th>\n",
       "      <td>267980.0</td>\n",
       "      <td>6900.0</td>\n",
       "      <td>2021-07-10 02:33:39.966495+00:00</td>\n",
       "      <td>2021-07-13 05:00:00+00:00</td>\n",
       "      <td>2021-07-13 06:55:00+00:00</td>\n",
       "      <td>beta</td>\n",
       "      <td>True</td>\n",
       "      <td>40.0</td>\n",
       "      <td>0</td>\n",
       "      <td>15390.0</td>\n",
       "    </tr>\n",
       "    <tr>\n",
       "      <th>2</th>\n",
       "      <td>183784.0</td>\n",
       "      <td>7200.0</td>\n",
       "      <td>2021-04-17 01:56:55.252825+00:00</td>\n",
       "      <td>2021-04-19 05:00:00+00:00</td>\n",
       "      <td>2021-04-19 07:00:00+00:00</td>\n",
       "      <td>gamma</td>\n",
       "      <td>True</td>\n",
       "      <td>20.0</td>\n",
       "      <td>1</td>\n",
       "      <td>7640.0</td>\n",
       "    </tr>\n",
       "    <tr>\n",
       "      <th>3</th>\n",
       "      <td>2764922.0</td>\n",
       "      <td>7140.0</td>\n",
       "      <td>2021-08-25 16:57:57.890080+00:00</td>\n",
       "      <td>2021-09-26 17:00:00+00:00</td>\n",
       "      <td>2021-09-26 18:59:00+00:00</td>\n",
       "      <td>gamma</td>\n",
       "      <td>True</td>\n",
       "      <td>20.0</td>\n",
       "      <td>2</td>\n",
       "      <td>7870.0</td>\n",
       "    </tr>\n",
       "    <tr>\n",
       "      <th>4</th>\n",
       "      <td>2150169.0</td>\n",
       "      <td>7140.0</td>\n",
       "      <td>2021-03-19 19:43:50.090062+00:00</td>\n",
       "      <td>2021-04-13 17:00:00+00:00</td>\n",
       "      <td>2021-04-13 18:59:00+00:00</td>\n",
       "      <td>gamma</td>\n",
       "      <td>True</td>\n",
       "      <td>20.0</td>\n",
       "      <td>1</td>\n",
       "      <td>9800.0</td>\n",
       "    </tr>\n",
       "  </tbody>\n",
       "</table>\n",
       "</div>"
      ],
      "text/plain": [
       "   time_to_dep(s)  travel_time(s)                               f1  \\\n",
       "0       3274519.0          7140.0 2021-06-15 19:24:40.127223+00:00   \n",
       "1        267980.0          6900.0 2021-07-10 02:33:39.966495+00:00   \n",
       "2        183784.0          7200.0 2021-04-17 01:56:55.252825+00:00   \n",
       "3       2764922.0          7140.0 2021-08-25 16:57:57.890080+00:00   \n",
       "4       2150169.0          7140.0 2021-03-19 19:43:50.090062+00:00   \n",
       "\n",
       "                         f4                        f5     f6    f7    f8  f9  \\\n",
       "0 2021-07-23 17:00:00+00:00 2021-07-23 18:59:00+00:00  gamma  True  20.0   1   \n",
       "1 2021-07-13 05:00:00+00:00 2021-07-13 06:55:00+00:00   beta  True  40.0   0   \n",
       "2 2021-04-19 05:00:00+00:00 2021-04-19 07:00:00+00:00  gamma  True  20.0   1   \n",
       "3 2021-09-26 17:00:00+00:00 2021-09-26 18:59:00+00:00  gamma  True  20.0   2   \n",
       "4 2021-04-13 17:00:00+00:00 2021-04-13 18:59:00+00:00  gamma  True  20.0   1   \n",
       "\n",
       "    target  \n",
       "0   6620.0  \n",
       "1  15390.0  \n",
       "2   7640.0  \n",
       "3   7870.0  \n",
       "4   9800.0  "
      ]
     },
     "execution_count": 17,
     "metadata": {},
     "output_type": "execute_result"
    }
   ],
   "source": [
    "df.head()"
   ]
  },
  {
   "cell_type": "code",
   "execution_count": 57,
   "metadata": {},
   "outputs": [
    {
     "data": {
      "text/html": [
       "<div>\n",
       "<style scoped>\n",
       "    .dataframe tbody tr th:only-of-type {\n",
       "        vertical-align: middle;\n",
       "    }\n",
       "\n",
       "    .dataframe tbody tr th {\n",
       "        vertical-align: top;\n",
       "    }\n",
       "\n",
       "    .dataframe thead th {\n",
       "        text-align: right;\n",
       "    }\n",
       "</style>\n",
       "<table border=\"1\" class=\"dataframe\">\n",
       "  <thead>\n",
       "    <tr style=\"text-align: right;\">\n",
       "      <th></th>\n",
       "      <th>time_to_dep(s)</th>\n",
       "      <th>travel_time(s)</th>\n",
       "      <th>f1</th>\n",
       "      <th>f4</th>\n",
       "      <th>f5</th>\n",
       "      <th>f6</th>\n",
       "      <th>f7</th>\n",
       "      <th>f8</th>\n",
       "      <th>f9</th>\n",
       "    </tr>\n",
       "  </thead>\n",
       "  <tbody>\n",
       "    <tr>\n",
       "      <th>0</th>\n",
       "      <td>332657.0</td>\n",
       "      <td>7200.0</td>\n",
       "      <td>2021-09-05 19:35:42.081374+00:00</td>\n",
       "      <td>2021-09-09 16:00:00+00:00</td>\n",
       "      <td>2021-09-09 18:00:00+00:00</td>\n",
       "      <td>alpha</td>\n",
       "      <td>True</td>\n",
       "      <td>20.0</td>\n",
       "      <td>1</td>\n",
       "    </tr>\n",
       "    <tr>\n",
       "      <th>1</th>\n",
       "      <td>791805.0</td>\n",
       "      <td>6900.0</td>\n",
       "      <td>2021-09-10 07:03:14.090857+00:00</td>\n",
       "      <td>2021-09-19 11:00:00+00:00</td>\n",
       "      <td>2021-09-19 12:55:00+00:00</td>\n",
       "      <td>beta</td>\n",
       "      <td>True</td>\n",
       "      <td>40.0</td>\n",
       "      <td>0</td>\n",
       "    </tr>\n",
       "    <tr>\n",
       "      <th>2</th>\n",
       "      <td>1041537.0</td>\n",
       "      <td>7200.0</td>\n",
       "      <td>2021-09-08 08:41:02.553645+00:00</td>\n",
       "      <td>2021-09-20 10:00:00+00:00</td>\n",
       "      <td>2021-09-20 12:00:00+00:00</td>\n",
       "      <td>alpha</td>\n",
       "      <td>True</td>\n",
       "      <td>15.0</td>\n",
       "      <td>1</td>\n",
       "    </tr>\n",
       "    <tr>\n",
       "      <th>3</th>\n",
       "      <td>2232005.0</td>\n",
       "      <td>7200.0</td>\n",
       "      <td>2021-09-04 09:29:54.247387+00:00</td>\n",
       "      <td>2021-09-30 05:30:00+00:00</td>\n",
       "      <td>2021-09-30 07:30:00+00:00</td>\n",
       "      <td>gamma</td>\n",
       "      <td>True</td>\n",
       "      <td>20.0</td>\n",
       "      <td>2</td>\n",
       "    </tr>\n",
       "    <tr>\n",
       "      <th>4</th>\n",
       "      <td>332660.0</td>\n",
       "      <td>7200.0</td>\n",
       "      <td>2021-09-05 08:15:39.818464+00:00</td>\n",
       "      <td>2021-09-09 04:40:00+00:00</td>\n",
       "      <td>2021-09-09 06:40:00+00:00</td>\n",
       "      <td>omega</td>\n",
       "      <td>True</td>\n",
       "      <td>20.0</td>\n",
       "      <td>1</td>\n",
       "    </tr>\n",
       "  </tbody>\n",
       "</table>\n",
       "</div>"
      ],
      "text/plain": [
       "   time_to_dep(s)  travel_time(s)                               f1  \\\n",
       "0        332657.0          7200.0 2021-09-05 19:35:42.081374+00:00   \n",
       "1        791805.0          6900.0 2021-09-10 07:03:14.090857+00:00   \n",
       "2       1041537.0          7200.0 2021-09-08 08:41:02.553645+00:00   \n",
       "3       2232005.0          7200.0 2021-09-04 09:29:54.247387+00:00   \n",
       "4        332660.0          7200.0 2021-09-05 08:15:39.818464+00:00   \n",
       "\n",
       "                         f4                        f5     f6    f7    f8  f9  \n",
       "0 2021-09-09 16:00:00+00:00 2021-09-09 18:00:00+00:00  alpha  True  20.0   1  \n",
       "1 2021-09-19 11:00:00+00:00 2021-09-19 12:55:00+00:00   beta  True  40.0   0  \n",
       "2 2021-09-20 10:00:00+00:00 2021-09-20 12:00:00+00:00  alpha  True  15.0   1  \n",
       "3 2021-09-30 05:30:00+00:00 2021-09-30 07:30:00+00:00  gamma  True  20.0   2  \n",
       "4 2021-09-09 04:40:00+00:00 2021-09-09 06:40:00+00:00  omega  True  20.0   1  "
      ]
     },
     "execution_count": 57,
     "metadata": {},
     "output_type": "execute_result"
    }
   ],
   "source": [
    "df1.head()"
   ]
  },
  {
   "cell_type": "markdown",
   "metadata": {},
   "source": [
    "## Visualization"
   ]
  },
  {
   "cell_type": "code",
   "execution_count": 18,
   "metadata": {},
   "outputs": [],
   "source": [
    "#separating catagorical and numerical variables *train set\n",
    "\n",
    "cat_cols = ['f6','f7','f8','f9']\n",
    "\n",
    "num_cols = ['time_to_dep(s)', 'travel_time(s)']"
   ]
  },
  {
   "cell_type": "code",
   "execution_count": 20,
   "metadata": {},
   "outputs": [
    {
     "name": "stderr",
     "output_type": "stream",
     "text": [
      "C:\\Users\\Azka\\anaconda3\\lib\\site-packages\\seaborn\\_decorators.py:36: FutureWarning: Pass the following variable as a keyword arg: x. From version 0.12, the only valid positional argument will be `data`, and passing other arguments without an explicit keyword will result in an error or misinterpretation.\n",
      "  warnings.warn(\n",
      "C:\\Users\\Azka\\anaconda3\\lib\\site-packages\\seaborn\\_decorators.py:36: FutureWarning: Pass the following variable as a keyword arg: x. From version 0.12, the only valid positional argument will be `data`, and passing other arguments without an explicit keyword will result in an error or misinterpretation.\n",
      "  warnings.warn(\n",
      "C:\\Users\\Azka\\anaconda3\\lib\\site-packages\\seaborn\\_decorators.py:36: FutureWarning: Pass the following variable as a keyword arg: x. From version 0.12, the only valid positional argument will be `data`, and passing other arguments without an explicit keyword will result in an error or misinterpretation.\n",
      "  warnings.warn(\n",
      "C:\\Users\\Azka\\anaconda3\\lib\\site-packages\\seaborn\\_decorators.py:36: FutureWarning: Pass the following variable as a keyword arg: x. From version 0.12, the only valid positional argument will be `data`, and passing other arguments without an explicit keyword will result in an error or misinterpretation.\n",
      "  warnings.warn(\n"
     ]
    },
    {
     "data": {
      "image/png": "[encoded data removed]",
      "text/plain": [
       "<Figure size 720x720 with 4 Axes>"
      ]
     },
     "metadata": {},
     "output_type": "display_data"
    }
   ],
   "source": [
    "# plotting cat count plot\n",
    "c=1\n",
    "plt.figure(figsize= (10,10),facecolor=(1, 1, 1))\n",
    "for i in cat_cols:\n",
    "    plt.subplot(2,2,c)\n",
    "    sns.countplot(df[i])\n",
    "    plt.xticks(rotation=90)\n",
    "    plt.tight_layout(pad=3.0)\n",
    "    c= c+1\n",
    "plt.show()"
   ]
  },
  {
   "cell_type": "markdown",
   "metadata": {},
   "source": [
    "- We can visually explore the catagorical variables here and understand their insights.\n",
    "1. Airline alpha is most used airline while omega is the least one.\n",
    "2. Refundable tickets are attractive while non refundable tickets are likely less purchased.\n",
    "3. 20 kg baggage is most common while very rare pepole carry no baggage or upto 45kg baggage.\n",
    "4. one piece bagggage is common while some carry no bag or 2 bags."
   ]
  },
  {
   "cell_type": "markdown",
   "metadata": {},
   "source": [
    "## Check Normal Distribution"
   ]
  },
  {
   "cell_type": "code",
   "execution_count": 21,
   "metadata": {},
   "outputs": [
    {
     "name": "stderr",
     "output_type": "stream",
     "text": [
      "C:\\Users\\Azka\\anaconda3\\lib\\site-packages\\seaborn\\distributions.py:2619: FutureWarning: `distplot` is a deprecated function and will be removed in a future version. Please adapt your code to use either `displot` (a figure-level function with similar flexibility) or `histplot` (an axes-level function for histograms).\n",
      "  warnings.warn(msg, FutureWarning)\n",
      "C:\\Users\\Azka\\anaconda3\\lib\\site-packages\\seaborn\\distributions.py:2619: FutureWarning: `distplot` is a deprecated function and will be removed in a future version. Please adapt your code to use either `displot` (a figure-level function with similar flexibility) or `histplot` (an axes-level function for histograms).\n",
      "  warnings.warn(msg, FutureWarning)\n"
     ]
    },
    {
     "data": {
      "image/png": "[encoded data removed]",
      "text/plain": [
       "<Figure size 720x720 with 2 Axes>"
      ]
     },
     "metadata": {},
     "output_type": "display_data"
    }
   ],
   "source": [
    "# plotting numerical count plot\n",
    "c=1\n",
    "plt.figure(figsize=(10,10),facecolor=(1, 1, 1))\n",
    "for i in num_cols:\n",
    "    plt.subplot(2,2,c)\n",
    "    sns.distplot(df[i])\n",
    "    c= c+1\n",
    "plt.show()"
   ]
  },
  {
   "cell_type": "code",
   "execution_count": 22,
   "metadata": {},
   "outputs": [
    {
     "name": "stderr",
     "output_type": "stream",
     "text": [
      "C:\\Users\\Azka\\anaconda3\\lib\\site-packages\\seaborn\\distributions.py:2619: FutureWarning: `distplot` is a deprecated function and will be removed in a future version. Please adapt your code to use either `displot` (a figure-level function with similar flexibility) or `histplot` (an axes-level function for histograms).\n",
      "  warnings.warn(msg, FutureWarning)\n"
     ]
    },
    {
     "data": {
      "text/plain": [
       "<AxesSubplot:xlabel='target', ylabel='Density'>"
      ]
     },
     "execution_count": 22,
     "metadata": {},
     "output_type": "execute_result"
    },
    {
     "data": {
      "image/png": "[encoded data removed]",
      "text/plain": [
       "<Figure size 432x288 with 1 Axes>"
      ]
     },
     "metadata": {
      "needs_background": "light"
     },
     "output_type": "display_data"
    }
   ],
   "source": [
    "# target\n",
    "sns.distplot(df.target)"
   ]
  },
  {
   "cell_type": "markdown",
   "metadata": {},
   "source": [
    "- The target(Price) variable is looking positively skewed."
   ]
  },
  {
   "cell_type": "code",
   "execution_count": 23,
   "metadata": {},
   "outputs": [
    {
     "name": "stderr",
     "output_type": "stream",
     "text": [
      "C:\\Users\\Azka\\anaconda3\\lib\\site-packages\\seaborn\\_decorators.py:36: FutureWarning: Pass the following variable as a keyword arg: x. From version 0.12, the only valid positional argument will be `data`, and passing other arguments without an explicit keyword will result in an error or misinterpretation.\n",
      "  warnings.warn(\n"
     ]
    },
    {
     "data": {
      "text/plain": [
       "<AxesSubplot:xlabel='target'>"
      ]
     },
     "execution_count": 23,
     "metadata": {},
     "output_type": "execute_result"
    },
    {
     "data": {
      "image/png": "[encoded data removed]",
      "text/plain": [
       "<Figure size 432x288 with 1 Axes>"
      ]
     },
     "metadata": {
      "needs_background": "light"
     },
     "output_type": "display_data"
    }
   ],
   "source": [
    "sns.boxplot(df['target'])"
   ]
  },
  {
   "cell_type": "markdown",
   "metadata": {},
   "source": [
    "- The target(Price) variable have outliers after 17000 pkr."
   ]
  },
  {
   "cell_type": "code",
   "execution_count": 24,
   "metadata": {},
   "outputs": [
    {
     "name": "stderr",
     "output_type": "stream",
     "text": [
      "C:\\Users\\Azka\\AppData\\Local\\Temp/ipykernel_11816/3319951774.py:2: FutureWarning: Dropping of nuisance columns in DataFrame reductions (with 'numeric_only=None') is deprecated; in a future version this will raise TypeError.  Select only valid columns before calling the reduction.\n",
      "  df.skew()\n"
     ]
    },
    {
     "data": {
      "text/plain": [
       "time_to_dep(s)     3.462771\n",
       "travel_time(s)     1.398727\n",
       "f7               -11.829969\n",
       "f8                 0.361096\n",
       "f9                 0.029301\n",
       "target             2.143744\n",
       "dtype: float64"
      ]
     },
     "execution_count": 24,
     "metadata": {},
     "output_type": "execute_result"
    }
   ],
   "source": [
    "# measure of skewness for all possible vars *train set\n",
    "df.skew()"
   ]
  },
  {
   "cell_type": "code",
   "execution_count": 25,
   "metadata": {},
   "outputs": [
    {
     "name": "stderr",
     "output_type": "stream",
     "text": [
      "C:\\Users\\Azka\\AppData\\Local\\Temp/ipykernel_11816/4194022645.py:2: FutureWarning: Dropping of nuisance columns in DataFrame reductions (with 'numeric_only=None') is deprecated; in a future version this will raise TypeError.  Select only valid columns before calling the reduction.\n",
      "  df.kurtosis()\n"
     ]
    },
    {
     "data": {
      "text/plain": [
       "time_to_dep(s)     18.370107\n",
       "travel_time(s)      5.142289\n",
       "f7                138.003357\n",
       "f8                 -0.071376\n",
       "f9                 -0.308231\n",
       "target              6.793502\n",
       "dtype: float64"
      ]
     },
     "execution_count": 25,
     "metadata": {},
     "output_type": "execute_result"
    }
   ],
   "source": [
    "# measure of kurtosis for all possible vars *train set\n",
    "df.kurtosis()"
   ]
  },
  {
   "cell_type": "markdown",
   "metadata": {},
   "source": [
    "**Outliers Removal**\n",
    "- Outliers as samples that are exceptionally far from the mainstream of the data. \n",
    "- Sometimes it's best to completely remove those records from your dataset to stop them from skewing your analysis.\n",
    "- But here in this case; \n",
    "- My results are critical, minor changes will matter a lot.\n",
    "- There are a lot of outliers, means that something is interesting going on with my data that I need to look further into."
   ]
  },
  {
   "cell_type": "code",
   "execution_count": 27,
   "metadata": {},
   "outputs": [],
   "source": [
    "# droping timeseries because our new features are enough to make sense now.\n",
    "df.drop(['f1','f4','f5'], axis=1, inplace=True)"
   ]
  },
  {
   "cell_type": "code",
   "execution_count": 58,
   "metadata": {},
   "outputs": [],
   "source": [
    "# droping timeseries because our new features are enough to make sense now.\n",
    "df1.drop(['f1','f4','f5'], axis=1, inplace=True)"
   ]
  },
  {
   "cell_type": "code",
   "execution_count": 28,
   "metadata": {},
   "outputs": [
    {
     "data": {
      "text/html": [
       "<div>\n",
       "<style scoped>\n",
       "    .dataframe tbody tr th:only-of-type {\n",
       "        vertical-align: middle;\n",
       "    }\n",
       "\n",
       "    .dataframe tbody tr th {\n",
       "        vertical-align: top;\n",
       "    }\n",
       "\n",
       "    .dataframe thead th {\n",
       "        text-align: right;\n",
       "    }\n",
       "</style>\n",
       "<table border=\"1\" class=\"dataframe\">\n",
       "  <thead>\n",
       "    <tr style=\"text-align: right;\">\n",
       "      <th></th>\n",
       "      <th>time_to_dep(s)</th>\n",
       "      <th>travel_time(s)</th>\n",
       "      <th>f6</th>\n",
       "      <th>f7</th>\n",
       "      <th>f8</th>\n",
       "      <th>f9</th>\n",
       "      <th>target</th>\n",
       "    </tr>\n",
       "  </thead>\n",
       "  <tbody>\n",
       "    <tr>\n",
       "      <th>0</th>\n",
       "      <td>3274519.0</td>\n",
       "      <td>7140.0</td>\n",
       "      <td>gamma</td>\n",
       "      <td>True</td>\n",
       "      <td>20.0</td>\n",
       "      <td>1</td>\n",
       "      <td>6620.0</td>\n",
       "    </tr>\n",
       "    <tr>\n",
       "      <th>1</th>\n",
       "      <td>267980.0</td>\n",
       "      <td>6900.0</td>\n",
       "      <td>beta</td>\n",
       "      <td>True</td>\n",
       "      <td>40.0</td>\n",
       "      <td>0</td>\n",
       "      <td>15390.0</td>\n",
       "    </tr>\n",
       "    <tr>\n",
       "      <th>2</th>\n",
       "      <td>183784.0</td>\n",
       "      <td>7200.0</td>\n",
       "      <td>gamma</td>\n",
       "      <td>True</td>\n",
       "      <td>20.0</td>\n",
       "      <td>1</td>\n",
       "      <td>7640.0</td>\n",
       "    </tr>\n",
       "    <tr>\n",
       "      <th>3</th>\n",
       "      <td>2764922.0</td>\n",
       "      <td>7140.0</td>\n",
       "      <td>gamma</td>\n",
       "      <td>True</td>\n",
       "      <td>20.0</td>\n",
       "      <td>2</td>\n",
       "      <td>7870.0</td>\n",
       "    </tr>\n",
       "    <tr>\n",
       "      <th>4</th>\n",
       "      <td>2150169.0</td>\n",
       "      <td>7140.0</td>\n",
       "      <td>gamma</td>\n",
       "      <td>True</td>\n",
       "      <td>20.0</td>\n",
       "      <td>1</td>\n",
       "      <td>9800.0</td>\n",
       "    </tr>\n",
       "  </tbody>\n",
       "</table>\n",
       "</div>"
      ],
      "text/plain": [
       "   time_to_dep(s)  travel_time(s)     f6    f7    f8  f9   target\n",
       "0       3274519.0          7140.0  gamma  True  20.0   1   6620.0\n",
       "1        267980.0          6900.0   beta  True  40.0   0  15390.0\n",
       "2        183784.0          7200.0  gamma  True  20.0   1   7640.0\n",
       "3       2764922.0          7140.0  gamma  True  20.0   2   7870.0\n",
       "4       2150169.0          7140.0  gamma  True  20.0   1   9800.0"
      ]
     },
     "execution_count": 28,
     "metadata": {},
     "output_type": "execute_result"
    }
   ],
   "source": [
    "df.head()"
   ]
  },
  {
   "cell_type": "code",
   "execution_count": 59,
   "metadata": {},
   "outputs": [
    {
     "data": {
      "text/html": [
       "<div>\n",
       "<style scoped>\n",
       "    .dataframe tbody tr th:only-of-type {\n",
       "        vertical-align: middle;\n",
       "    }\n",
       "\n",
       "    .dataframe tbody tr th {\n",
       "        vertical-align: top;\n",
       "    }\n",
       "\n",
       "    .dataframe thead th {\n",
       "        text-align: right;\n",
       "    }\n",
       "</style>\n",
       "<table border=\"1\" class=\"dataframe\">\n",
       "  <thead>\n",
       "    <tr style=\"text-align: right;\">\n",
       "      <th></th>\n",
       "      <th>time_to_dep(s)</th>\n",
       "      <th>travel_time(s)</th>\n",
       "      <th>f6</th>\n",
       "      <th>f7</th>\n",
       "      <th>f8</th>\n",
       "      <th>f9</th>\n",
       "    </tr>\n",
       "  </thead>\n",
       "  <tbody>\n",
       "    <tr>\n",
       "      <th>0</th>\n",
       "      <td>332657.0</td>\n",
       "      <td>7200.0</td>\n",
       "      <td>alpha</td>\n",
       "      <td>True</td>\n",
       "      <td>20.0</td>\n",
       "      <td>1</td>\n",
       "    </tr>\n",
       "    <tr>\n",
       "      <th>1</th>\n",
       "      <td>791805.0</td>\n",
       "      <td>6900.0</td>\n",
       "      <td>beta</td>\n",
       "      <td>True</td>\n",
       "      <td>40.0</td>\n",
       "      <td>0</td>\n",
       "    </tr>\n",
       "    <tr>\n",
       "      <th>2</th>\n",
       "      <td>1041537.0</td>\n",
       "      <td>7200.0</td>\n",
       "      <td>alpha</td>\n",
       "      <td>True</td>\n",
       "      <td>15.0</td>\n",
       "      <td>1</td>\n",
       "    </tr>\n",
       "    <tr>\n",
       "      <th>3</th>\n",
       "      <td>2232005.0</td>\n",
       "      <td>7200.0</td>\n",
       "      <td>gamma</td>\n",
       "      <td>True</td>\n",
       "      <td>20.0</td>\n",
       "      <td>2</td>\n",
       "    </tr>\n",
       "    <tr>\n",
       "      <th>4</th>\n",
       "      <td>332660.0</td>\n",
       "      <td>7200.0</td>\n",
       "      <td>omega</td>\n",
       "      <td>True</td>\n",
       "      <td>20.0</td>\n",
       "      <td>1</td>\n",
       "    </tr>\n",
       "  </tbody>\n",
       "</table>\n",
       "</div>"
      ],
      "text/plain": [
       "   time_to_dep(s)  travel_time(s)     f6    f7    f8  f9\n",
       "0        332657.0          7200.0  alpha  True  20.0   1\n",
       "1        791805.0          6900.0   beta  True  40.0   0\n",
       "2       1041537.0          7200.0  alpha  True  15.0   1\n",
       "3       2232005.0          7200.0  gamma  True  20.0   2\n",
       "4        332660.0          7200.0  omega  True  20.0   1"
      ]
     },
     "execution_count": 59,
     "metadata": {},
     "output_type": "execute_result"
    }
   ],
   "source": [
    "df1.head()"
   ]
  },
  {
   "cell_type": "markdown",
   "metadata": {},
   "source": [
    "## Label Encoding"
   ]
  },
  {
   "cell_type": "code",
   "execution_count": 30,
   "metadata": {},
   "outputs": [],
   "source": [
    "# label encoding\n",
    "from sklearn.preprocessing import LabelEncoder\n",
    "le = LabelEncoder()\n",
    "\n",
    "#apply label encoder *train\n",
    "df['f6']= le.fit_transform(df['f6'])\n",
    "df['f7']= le.fit_transform(df['f7'])\n",
    "df['f8']= le.fit_transform(df['f8'])"
   ]
  },
  {
   "cell_type": "code",
   "execution_count": 60,
   "metadata": {},
   "outputs": [],
   "source": [
    "#apply label encoder  *test\n",
    "df1['f6']= le.fit_transform(df1['f6'])\n",
    "df1['f7']= le.fit_transform(df1['f7'])\n",
    "df1['f8']= le.fit_transform(df1['f8'])"
   ]
  },
  {
   "cell_type": "code",
   "execution_count": 31,
   "metadata": {},
   "outputs": [
    {
     "data": {
      "text/html": [
       "<div>\n",
       "<style scoped>\n",
       "    .dataframe tbody tr th:only-of-type {\n",
       "        vertical-align: middle;\n",
       "    }\n",
       "\n",
       "    .dataframe tbody tr th {\n",
       "        vertical-align: top;\n",
       "    }\n",
       "\n",
       "    .dataframe thead th {\n",
       "        text-align: right;\n",
       "    }\n",
       "</style>\n",
       "<table border=\"1\" class=\"dataframe\">\n",
       "  <thead>\n",
       "    <tr style=\"text-align: right;\">\n",
       "      <th></th>\n",
       "      <th>time_to_dep(s)</th>\n",
       "      <th>travel_time(s)</th>\n",
       "      <th>f6</th>\n",
       "      <th>f7</th>\n",
       "      <th>f8</th>\n",
       "      <th>f9</th>\n",
       "      <th>target</th>\n",
       "    </tr>\n",
       "  </thead>\n",
       "  <tbody>\n",
       "    <tr>\n",
       "      <th>1889</th>\n",
       "      <td>2752748.0</td>\n",
       "      <td>7200.0</td>\n",
       "      <td>0</td>\n",
       "      <td>1</td>\n",
       "      <td>1</td>\n",
       "      <td>1</td>\n",
       "      <td>6810.0</td>\n",
       "    </tr>\n",
       "    <tr>\n",
       "      <th>3802</th>\n",
       "      <td>1740452.0</td>\n",
       "      <td>7200.0</td>\n",
       "      <td>0</td>\n",
       "      <td>1</td>\n",
       "      <td>4</td>\n",
       "      <td>1</td>\n",
       "      <td>9707.0</td>\n",
       "    </tr>\n",
       "    <tr>\n",
       "      <th>1142</th>\n",
       "      <td>903911.0</td>\n",
       "      <td>7200.0</td>\n",
       "      <td>0</td>\n",
       "      <td>1</td>\n",
       "      <td>4</td>\n",
       "      <td>1</td>\n",
       "      <td>12645.0</td>\n",
       "    </tr>\n",
       "    <tr>\n",
       "      <th>1048</th>\n",
       "      <td>808793.0</td>\n",
       "      <td>6900.0</td>\n",
       "      <td>1</td>\n",
       "      <td>1</td>\n",
       "      <td>2</td>\n",
       "      <td>0</td>\n",
       "      <td>6375.0</td>\n",
       "    </tr>\n",
       "    <tr>\n",
       "      <th>1669</th>\n",
       "      <td>377161.0</td>\n",
       "      <td>7140.0</td>\n",
       "      <td>2</td>\n",
       "      <td>1</td>\n",
       "      <td>2</td>\n",
       "      <td>2</td>\n",
       "      <td>9025.0</td>\n",
       "    </tr>\n",
       "    <tr>\n",
       "      <th>1195</th>\n",
       "      <td>1584937.0</td>\n",
       "      <td>7200.0</td>\n",
       "      <td>0</td>\n",
       "      <td>1</td>\n",
       "      <td>4</td>\n",
       "      <td>1</td>\n",
       "      <td>7124.0</td>\n",
       "    </tr>\n",
       "    <tr>\n",
       "      <th>3924</th>\n",
       "      <td>352919.0</td>\n",
       "      <td>7200.0</td>\n",
       "      <td>0</td>\n",
       "      <td>1</td>\n",
       "      <td>1</td>\n",
       "      <td>1</td>\n",
       "      <td>10006.0</td>\n",
       "    </tr>\n",
       "    <tr>\n",
       "      <th>2890</th>\n",
       "      <td>856057.0</td>\n",
       "      <td>7200.0</td>\n",
       "      <td>0</td>\n",
       "      <td>1</td>\n",
       "      <td>1</td>\n",
       "      <td>1</td>\n",
       "      <td>9045.0</td>\n",
       "    </tr>\n",
       "    <tr>\n",
       "      <th>3889</th>\n",
       "      <td>972446.0</td>\n",
       "      <td>7200.0</td>\n",
       "      <td>2</td>\n",
       "      <td>1</td>\n",
       "      <td>2</td>\n",
       "      <td>2</td>\n",
       "      <td>11900.0</td>\n",
       "    </tr>\n",
       "    <tr>\n",
       "      <th>4510</th>\n",
       "      <td>1963100.0</td>\n",
       "      <td>7200.0</td>\n",
       "      <td>2</td>\n",
       "      <td>1</td>\n",
       "      <td>2</td>\n",
       "      <td>1</td>\n",
       "      <td>7390.0</td>\n",
       "    </tr>\n",
       "  </tbody>\n",
       "</table>\n",
       "</div>"
      ],
      "text/plain": [
       "      time_to_dep(s)  travel_time(s)  f6  f7  f8  f9   target\n",
       "1889       2752748.0          7200.0   0   1   1   1   6810.0\n",
       "3802       1740452.0          7200.0   0   1   4   1   9707.0\n",
       "1142        903911.0          7200.0   0   1   4   1  12645.0\n",
       "1048        808793.0          6900.0   1   1   2   0   6375.0\n",
       "1669        377161.0          7140.0   2   1   2   2   9025.0\n",
       "1195       1584937.0          7200.0   0   1   4   1   7124.0\n",
       "3924        352919.0          7200.0   0   1   1   1  10006.0\n",
       "2890        856057.0          7200.0   0   1   1   1   9045.0\n",
       "3889        972446.0          7200.0   2   1   2   2  11900.0\n",
       "4510       1963100.0          7200.0   2   1   2   1   7390.0"
      ]
     },
     "execution_count": 31,
     "metadata": {},
     "output_type": "execute_result"
    }
   ],
   "source": [
    "df.sample(10)"
   ]
  },
  {
   "cell_type": "markdown",
   "metadata": {},
   "source": [
    "- At this point my data is clean and sensible.\n",
    "- Now i can move further to see summary statistics and machine learning."
   ]
  },
  {
   "cell_type": "markdown",
   "metadata": {},
   "source": [
    "##  Basic Statistics"
   ]
  },
  {
   "cell_type": "code",
   "execution_count": 61,
   "metadata": {},
   "outputs": [
    {
     "data": {
      "text/html": [
       "<div>\n",
       "<style scoped>\n",
       "    .dataframe tbody tr th:only-of-type {\n",
       "        vertical-align: middle;\n",
       "    }\n",
       "\n",
       "    .dataframe tbody tr th {\n",
       "        vertical-align: top;\n",
       "    }\n",
       "\n",
       "    .dataframe thead th {\n",
       "        text-align: right;\n",
       "    }\n",
       "</style>\n",
       "<table border=\"1\" class=\"dataframe\">\n",
       "  <thead>\n",
       "    <tr style=\"text-align: right;\">\n",
       "      <th></th>\n",
       "      <th>time_to_dep(s)</th>\n",
       "      <th>travel_time(s)</th>\n",
       "      <th>f6</th>\n",
       "      <th>f7</th>\n",
       "      <th>f8</th>\n",
       "      <th>f9</th>\n",
       "    </tr>\n",
       "  </thead>\n",
       "  <tbody>\n",
       "    <tr>\n",
       "      <th>count</th>\n",
       "      <td>5.000000e+02</td>\n",
       "      <td>500.000000</td>\n",
       "      <td>500.000000</td>\n",
       "      <td>500.0</td>\n",
       "      <td>500.000000</td>\n",
       "      <td>500.000000</td>\n",
       "    </tr>\n",
       "    <tr>\n",
       "      <th>mean</th>\n",
       "      <td>1.691862e+06</td>\n",
       "      <td>7142.400000</td>\n",
       "      <td>1.262000</td>\n",
       "      <td>0.0</td>\n",
       "      <td>1.006000</td>\n",
       "      <td>0.974000</td>\n",
       "    </tr>\n",
       "    <tr>\n",
       "      <th>std</th>\n",
       "      <td>2.006665e+06</td>\n",
       "      <td>112.079273</td>\n",
       "      <td>1.111678</td>\n",
       "      <td>0.0</td>\n",
       "      <td>0.578475</td>\n",
       "      <td>0.563879</td>\n",
       "    </tr>\n",
       "    <tr>\n",
       "      <th>min</th>\n",
       "      <td>5.829000e+03</td>\n",
       "      <td>6900.000000</td>\n",
       "      <td>0.000000</td>\n",
       "      <td>0.0</td>\n",
       "      <td>0.000000</td>\n",
       "      <td>0.000000</td>\n",
       "    </tr>\n",
       "    <tr>\n",
       "      <th>25%</th>\n",
       "      <td>3.394902e+05</td>\n",
       "      <td>7140.000000</td>\n",
       "      <td>0.000000</td>\n",
       "      <td>0.0</td>\n",
       "      <td>1.000000</td>\n",
       "      <td>1.000000</td>\n",
       "    </tr>\n",
       "    <tr>\n",
       "      <th>50%</th>\n",
       "      <td>9.884050e+05</td>\n",
       "      <td>7200.000000</td>\n",
       "      <td>1.000000</td>\n",
       "      <td>0.0</td>\n",
       "      <td>1.000000</td>\n",
       "      <td>1.000000</td>\n",
       "    </tr>\n",
       "    <tr>\n",
       "      <th>75%</th>\n",
       "      <td>2.204218e+06</td>\n",
       "      <td>7200.000000</td>\n",
       "      <td>2.000000</td>\n",
       "      <td>0.0</td>\n",
       "      <td>1.000000</td>\n",
       "      <td>1.000000</td>\n",
       "    </tr>\n",
       "    <tr>\n",
       "      <th>max</th>\n",
       "      <td>1.345503e+07</td>\n",
       "      <td>7200.000000</td>\n",
       "      <td>3.000000</td>\n",
       "      <td>0.0</td>\n",
       "      <td>2.000000</td>\n",
       "      <td>2.000000</td>\n",
       "    </tr>\n",
       "  </tbody>\n",
       "</table>\n",
       "</div>"
      ],
      "text/plain": [
       "       time_to_dep(s)  travel_time(s)          f6     f7          f8  \\\n",
       "count    5.000000e+02      500.000000  500.000000  500.0  500.000000   \n",
       "mean     1.691862e+06     7142.400000    1.262000    0.0    1.006000   \n",
       "std      2.006665e+06      112.079273    1.111678    0.0    0.578475   \n",
       "min      5.829000e+03     6900.000000    0.000000    0.0    0.000000   \n",
       "25%      3.394902e+05     7140.000000    0.000000    0.0    1.000000   \n",
       "50%      9.884050e+05     7200.000000    1.000000    0.0    1.000000   \n",
       "75%      2.204218e+06     7200.000000    2.000000    0.0    1.000000   \n",
       "max      1.345503e+07     7200.000000    3.000000    0.0    2.000000   \n",
       "\n",
       "               f9  \n",
       "count  500.000000  \n",
       "mean     0.974000  \n",
       "std      0.563879  \n",
       "min      0.000000  \n",
       "25%      1.000000  \n",
       "50%      1.000000  \n",
       "75%      1.000000  \n",
       "max      2.000000  "
      ]
     },
     "execution_count": 61,
     "metadata": {},
     "output_type": "execute_result"
    }
   ],
   "source": [
    "df1.describe()"
   ]
  },
  {
   "cell_type": "code",
   "execution_count": 33,
   "metadata": {},
   "outputs": [],
   "source": [
    "#sklearn function to scale our data\n",
    "from sklearn.preprocessing import StandardScaler\n",
    "sc = StandardScaler()"
   ]
  },
  {
   "cell_type": "markdown",
   "metadata": {},
   "source": [
    "- I will not scale my data because it is not needed here."
   ]
  },
  {
   "cell_type": "code",
   "execution_count": null,
   "metadata": {},
   "outputs": [],
   "source": [
    "# to apply sc on numerical cols\n",
    "# df['time_to_dep(s)']= sc.fit_transform(df['time_to_dep(s)'])\n",
    "# df['travel_time(s)']= sc.fit_transform(df['travel_time(s)'])\n",
    "# df['target']= sc.fit_transform(df['target'])"
   ]
  },
  {
   "cell_type": "markdown",
   "metadata": {},
   "source": [
    "- Let's assign X and y from the training set for ML Modeling."
   ]
  },
  {
   "cell_type": "markdown",
   "metadata": {},
   "source": [
    "## Splitting X and y"
   ]
  },
  {
   "cell_type": "code",
   "execution_count": 38,
   "metadata": {},
   "outputs": [],
   "source": [
    "# assigning X and y \n",
    "\n",
    "X= df.drop(['target'],axis=1)\n",
    "y= df['target']"
   ]
  },
  {
   "cell_type": "code",
   "execution_count": 39,
   "metadata": {},
   "outputs": [
    {
     "data": {
      "text/html": [
       "<div>\n",
       "<style scoped>\n",
       "    .dataframe tbody tr th:only-of-type {\n",
       "        vertical-align: middle;\n",
       "    }\n",
       "\n",
       "    .dataframe tbody tr th {\n",
       "        vertical-align: top;\n",
       "    }\n",
       "\n",
       "    .dataframe thead th {\n",
       "        text-align: right;\n",
       "    }\n",
       "</style>\n",
       "<table border=\"1\" class=\"dataframe\">\n",
       "  <thead>\n",
       "    <tr style=\"text-align: right;\">\n",
       "      <th></th>\n",
       "      <th>time_to_dep(s)</th>\n",
       "      <th>travel_time(s)</th>\n",
       "      <th>f6</th>\n",
       "      <th>f7</th>\n",
       "      <th>f8</th>\n",
       "      <th>f9</th>\n",
       "    </tr>\n",
       "  </thead>\n",
       "  <tbody>\n",
       "    <tr>\n",
       "      <th>0</th>\n",
       "      <td>3274519.0</td>\n",
       "      <td>7140.0</td>\n",
       "      <td>2</td>\n",
       "      <td>1</td>\n",
       "      <td>2</td>\n",
       "      <td>1</td>\n",
       "    </tr>\n",
       "    <tr>\n",
       "      <th>1</th>\n",
       "      <td>267980.0</td>\n",
       "      <td>6900.0</td>\n",
       "      <td>1</td>\n",
       "      <td>1</td>\n",
       "      <td>5</td>\n",
       "      <td>0</td>\n",
       "    </tr>\n",
       "    <tr>\n",
       "      <th>2</th>\n",
       "      <td>183784.0</td>\n",
       "      <td>7200.0</td>\n",
       "      <td>2</td>\n",
       "      <td>1</td>\n",
       "      <td>2</td>\n",
       "      <td>1</td>\n",
       "    </tr>\n",
       "    <tr>\n",
       "      <th>3</th>\n",
       "      <td>2764922.0</td>\n",
       "      <td>7140.0</td>\n",
       "      <td>2</td>\n",
       "      <td>1</td>\n",
       "      <td>2</td>\n",
       "      <td>2</td>\n",
       "    </tr>\n",
       "    <tr>\n",
       "      <th>4</th>\n",
       "      <td>2150169.0</td>\n",
       "      <td>7140.0</td>\n",
       "      <td>2</td>\n",
       "      <td>1</td>\n",
       "      <td>2</td>\n",
       "      <td>1</td>\n",
       "    </tr>\n",
       "  </tbody>\n",
       "</table>\n",
       "</div>"
      ],
      "text/plain": [
       "   time_to_dep(s)  travel_time(s)  f6  f7  f8  f9\n",
       "0       3274519.0          7140.0   2   1   2   1\n",
       "1        267980.0          6900.0   1   1   5   0\n",
       "2        183784.0          7200.0   2   1   2   1\n",
       "3       2764922.0          7140.0   2   1   2   2\n",
       "4       2150169.0          7140.0   2   1   2   1"
      ]
     },
     "execution_count": 39,
     "metadata": {},
     "output_type": "execute_result"
    }
   ],
   "source": [
    "X.head()"
   ]
  },
  {
   "cell_type": "code",
   "execution_count": 40,
   "metadata": {},
   "outputs": [
    {
     "data": {
      "text/plain": [
       "0     6620.0\n",
       "1    15390.0\n",
       "2     7640.0\n",
       "3     7870.0\n",
       "4     9800.0\n",
       "Name: target, dtype: float64"
      ]
     },
     "execution_count": 40,
     "metadata": {},
     "output_type": "execute_result"
    }
   ],
   "source": [
    "y.head()"
   ]
  },
  {
   "cell_type": "markdown",
   "metadata": {},
   "source": [
    "# ML Modelling"
   ]
  },
  {
   "cell_type": "code",
   "execution_count": 41,
   "metadata": {},
   "outputs": [],
   "source": [
    "#regression pipeline or algos\n",
    "#import ML libararies required\n",
    "\n",
    "from sklearn.linear_model import LinearRegression\n",
    "from sklearn.tree import DecisionTreeRegressor\n",
    "from sklearn.svm import SVR\n",
    "from sklearn.neighbors import KNeighborsRegressor\n",
    "from sklearn.model_selection import train_test_split\n",
    "from sklearn.metrics import r2_score, mean_absolute_error,mean_squared_error\n",
    "\n",
    "#for Root mean squared error\n",
    "# rms= mean_absolute_error(y_test, y_pred, squared=False)"
   ]
  },
  {
   "cell_type": "code",
   "execution_count": 42,
   "metadata": {},
   "outputs": [],
   "source": [
    "#shorten the names\n",
    "lr = LinearRegression()\n",
    "dt = DecisionTreeRegressor()\n",
    "svr= SVR()\n",
    "knn= KNeighborsRegressor()"
   ]
  },
  {
   "cell_type": "markdown",
   "metadata": {},
   "source": [
    "## Model Loop 4 Algorithms and their Scores"
   ]
  },
  {
   "cell_type": "code",
   "execution_count": 44,
   "metadata": {},
   "outputs": [
    {
     "name": "stdout",
     "output_type": "stream",
     "text": [
      "LinearRegression()\n",
      "R2 score is:  0.08952894651282606\n",
      "Mean Absolute Error is  2207.4030516864686\n",
      "Mean Squared Error is  10019788.28782259\n",
      "RMSE is  3165.4049168822917\n",
      "-------------------------------------\n",
      "SVR()\n",
      "R2 score is:  -0.02981969070926449\n",
      "Mean Absolute Error is  2227.734475332809\n",
      "Mean Squared Error is  11333227.164133154\n",
      "RMSE is  3366.4858776078586\n",
      "-------------------------------------\n"
     ]
    }
   ],
   "source": [
    "# design model loop without scaler with 20/80 test train\n",
    "\n",
    "X_train, X_test, y_train, y_test = train_test_split(X,y, test_size=0.2, random_state=42)\n",
    "\n",
    "for i in [lr, dt, svr, knn]:  # read all model\n",
    "    i.fit(X_train, y_train)  # fitting all model\n",
    "    pred = i.predict(X_test)  # predict\n",
    "    test_score = r2_score(y_test, pred)  # test score\n",
    "    train_score= r2_score(y_train, i.predict(X_train))  # train score\n",
    "    if abs(train_score-test_score) <= 0.1:\n",
    "        print(i)\n",
    "        print('R2 score is: ', r2_score(y_test, pred))\n",
    "        print('Mean Absolute Error is ',mean_absolute_error(y_test,pred))\n",
    "        print('Mean Squared Error is ',mean_squared_error(y_test,pred))\n",
    "        print('RMSE is ',mean_squared_error(y_test,pred,squared=False))\n",
    "        print('-------------------------------------')"
   ]
  },
  {
   "cell_type": "markdown",
   "metadata": {},
   "source": [
    "- **random_state=42**\n",
    "- 42 is just a random number that helps to reproduce the same result after reuse the train_test_split. If we want, we can choose other numbers as well.\n",
    "- Without setting a number to random state, we will get different results every time we run program.\n",
    "- There's no optimal value for random seed, different pseudo random states produce different results. we may try a few and use the one which is suitable for specific problem. A simple trick is trying odd and even numbers."
   ]
  },
  {
   "cell_type": "markdown",
   "metadata": {},
   "source": [
    "- This upper loop is only giving out put for those algorithms which can be supposed on this moment, based on the condition '(train_score-test_score) <= 0.1' .\n",
    "- We can choose one of them based on their individual scores mentioned in the output.\n",
    "- We gonna choose Linear regression model here. \n",
    "- Now we will use the whole dataset in training and use the X-test data to predict y-test."
   ]
  },
  {
   "cell_type": "code",
   "execution_count": 45,
   "metadata": {},
   "outputs": [
    {
     "name": "stdout",
     "output_type": "stream",
     "text": [
      "LinearRegression()\n",
      "R2 score is:  0.0756640772615449\n",
      "Mean Absolute Error is  2272.80680793408\n",
      "Mean Squared Error is  10964001.954023026\n",
      "RMSE is  3311.1934334953953\n",
      "-------------------------------------\n",
      "SVR()\n",
      "R2 score is:  -0.036826563365337295\n",
      "Mean Absolute Error is  2284.0790197532992\n",
      "Mean Squared Error is  12298308.64199475\n",
      "RMSE is  3506.894444090776\n",
      "-------------------------------------\n"
     ]
    }
   ],
   "source": [
    "# design model loop without scaler with 30/70 test train\n",
    "\n",
    "X_train, X_test, y_train, y_test = train_test_split(X,y, test_size=0.3, random_state=42)\n",
    "\n",
    "for i in [lr, dt, svr, knn]:  # read all model\n",
    "    i.fit(X_train, y_train)  # fitting all model\n",
    "    pred = i.predict(X_test)  # predict\n",
    "    test_score = r2_score(y_test, pred)  # test score\n",
    "    train_score= r2_score(y_train, i.predict(X_train))  # train score\n",
    "    if abs(train_score-test_score) <= 0.1:\n",
    "        print(i)\n",
    "        print('R2 score is: ', r2_score(y_test, pred))\n",
    "        print('Mean Absolute Error is ',mean_absolute_error(y_test,pred))\n",
    "        print('Mean Squared Error is ',mean_squared_error(y_test,pred))\n",
    "        print('RMSE is ',mean_squared_error(y_test,pred,squared=False))\n",
    "        print('-------------------------------------')\n"
   ]
  },
  {
   "cell_type": "markdown",
   "metadata": {},
   "source": [
    "- This upper loop is only giving out put for those algorithms which can be supposed on this moment, based on the condition '(train_score-test_score) <= 0.1' .\n",
    "- We can choose one of them based on their individual scores mentioned in the output.\n",
    "- We gonna choose Linear regression model here. \n",
    "- Now we will use the whole dataset in training and use the X-test data to predict y-test."
   ]
  },
  {
   "cell_type": "code",
   "execution_count": 74,
   "metadata": {},
   "outputs": [],
   "source": [
    "#final data prediction\n",
    "\n",
    "lr= LinearRegression().fit(X,y)\n",
    "pred= lr.predict(df1)\n",
    "\n",
    "\n",
    "# to save prediction\n",
    "res = pd.DataFrame(pred)\n",
    "# res.index= X_test.index #its important for comparison\n",
    "res.columns= ['prediction']\n",
    "res.to_csv('predictionl.csv')"
   ]
  },
  {
   "cell_type": "markdown",
   "metadata": {},
   "source": [
    "- Here are the results you can find in saved csv file in the same folder."
   ]
  },
  {
   "cell_type": "markdown",
   "metadata": {},
   "source": [
    "## Another way of dealing with time series"
   ]
  },
  {
   "cell_type": "code",
   "execution_count": 75,
   "metadata": {},
   "outputs": [
    {
     "data": {
      "text/plain": [
       "(5000, 14)"
      ]
     },
     "execution_count": 75,
     "metadata": {},
     "output_type": "execute_result"
    }
   ],
   "source": [
    "#loading the sample data \n",
    "df_train = pd.read_csv('Xy_train_sample.csv')\n",
    "df_train.shape"
   ]
  },
  {
   "cell_type": "code",
   "execution_count": 77,
   "metadata": {},
   "outputs": [
    {
     "data": {
      "text/html": [
       "<div>\n",
       "<style scoped>\n",
       "    .dataframe tbody tr th:only-of-type {\n",
       "        vertical-align: middle;\n",
       "    }\n",
       "\n",
       "    .dataframe tbody tr th {\n",
       "        vertical-align: top;\n",
       "    }\n",
       "\n",
       "    .dataframe thead th {\n",
       "        text-align: right;\n",
       "    }\n",
       "</style>\n",
       "<table border=\"1\" class=\"dataframe\">\n",
       "  <thead>\n",
       "    <tr style=\"text-align: right;\">\n",
       "      <th></th>\n",
       "      <th>Unnamed: 0</th>\n",
       "      <th>Unnamed: 0.1</th>\n",
       "      <th>f1</th>\n",
       "      <th>f2</th>\n",
       "      <th>f3</th>\n",
       "      <th>f4</th>\n",
       "      <th>f5</th>\n",
       "      <th>f6</th>\n",
       "      <th>f7</th>\n",
       "      <th>f8</th>\n",
       "      <th>f9</th>\n",
       "      <th>f10</th>\n",
       "      <th>Unnamed: 0.2</th>\n",
       "      <th>target</th>\n",
       "    </tr>\n",
       "  </thead>\n",
       "  <tbody>\n",
       "    <tr>\n",
       "      <th>0</th>\n",
       "      <td>10029546</td>\n",
       "      <td>10029546</td>\n",
       "      <td>2021-06-15 19:24:40.127223+00:00</td>\n",
       "      <td>x</td>\n",
       "      <td>y</td>\n",
       "      <td>2021-07-23 17:00:00+00:00</td>\n",
       "      <td>2021-07-23 18:59:00+00:00</td>\n",
       "      <td>gamma</td>\n",
       "      <td>True</td>\n",
       "      <td>20.0</td>\n",
       "      <td>1</td>\n",
       "      <td>c-6</td>\n",
       "      <td>10029546</td>\n",
       "      <td>6620.0</td>\n",
       "    </tr>\n",
       "    <tr>\n",
       "      <th>1</th>\n",
       "      <td>13732076</td>\n",
       "      <td>13732076</td>\n",
       "      <td>2021-07-10 02:33:39.966495+00:00</td>\n",
       "      <td>x</td>\n",
       "      <td>y</td>\n",
       "      <td>2021-07-13 05:00:00+00:00</td>\n",
       "      <td>2021-07-13 06:55:00+00:00</td>\n",
       "      <td>beta</td>\n",
       "      <td>True</td>\n",
       "      <td>40.0</td>\n",
       "      <td>0</td>\n",
       "      <td>b-1</td>\n",
       "      <td>13732076</td>\n",
       "      <td>15390.0</td>\n",
       "    </tr>\n",
       "    <tr>\n",
       "      <th>2</th>\n",
       "      <td>4670699</td>\n",
       "      <td>4670699</td>\n",
       "      <td>2021-04-17 01:56:55.252825+00:00</td>\n",
       "      <td>x</td>\n",
       "      <td>y</td>\n",
       "      <td>2021-04-19 05:00:00+00:00</td>\n",
       "      <td>2021-04-19 07:00:00+00:00</td>\n",
       "      <td>gamma</td>\n",
       "      <td>True</td>\n",
       "      <td>20.0</td>\n",
       "      <td>1</td>\n",
       "      <td>c-2</td>\n",
       "      <td>4670699</td>\n",
       "      <td>7640.0</td>\n",
       "    </tr>\n",
       "    <tr>\n",
       "      <th>3</th>\n",
       "      <td>20958556</td>\n",
       "      <td>20958556</td>\n",
       "      <td>2021-08-25 16:57:57.890080+00:00</td>\n",
       "      <td>x</td>\n",
       "      <td>y</td>\n",
       "      <td>2021-09-26 17:00:00+00:00</td>\n",
       "      <td>2021-09-26 18:59:00+00:00</td>\n",
       "      <td>gamma</td>\n",
       "      <td>True</td>\n",
       "      <td>20.0</td>\n",
       "      <td>2</td>\n",
       "      <td>c-6</td>\n",
       "      <td>20958556</td>\n",
       "      <td>7870.0</td>\n",
       "    </tr>\n",
       "    <tr>\n",
       "      <th>4</th>\n",
       "      <td>3558166</td>\n",
       "      <td>3558166</td>\n",
       "      <td>2021-03-19 19:43:50.090062+00:00</td>\n",
       "      <td>x</td>\n",
       "      <td>y</td>\n",
       "      <td>2021-04-13 17:00:00+00:00</td>\n",
       "      <td>2021-04-13 18:59:00+00:00</td>\n",
       "      <td>gamma</td>\n",
       "      <td>True</td>\n",
       "      <td>20.0</td>\n",
       "      <td>1</td>\n",
       "      <td>c-6</td>\n",
       "      <td>3558166</td>\n",
       "      <td>9800.0</td>\n",
       "    </tr>\n",
       "  </tbody>\n",
       "</table>\n",
       "</div>"
      ],
      "text/plain": [
       "   Unnamed: 0  Unnamed: 0.1                                f1 f2 f3  \\\n",
       "0    10029546      10029546  2021-06-15 19:24:40.127223+00:00  x  y   \n",
       "1    13732076      13732076  2021-07-10 02:33:39.966495+00:00  x  y   \n",
       "2     4670699       4670699  2021-04-17 01:56:55.252825+00:00  x  y   \n",
       "3    20958556      20958556  2021-08-25 16:57:57.890080+00:00  x  y   \n",
       "4     3558166       3558166  2021-03-19 19:43:50.090062+00:00  x  y   \n",
       "\n",
       "                          f4                         f5     f6    f7    f8  \\\n",
       "0  2021-07-23 17:00:00+00:00  2021-07-23 18:59:00+00:00  gamma  True  20.0   \n",
       "1  2021-07-13 05:00:00+00:00  2021-07-13 06:55:00+00:00   beta  True  40.0   \n",
       "2  2021-04-19 05:00:00+00:00  2021-04-19 07:00:00+00:00  gamma  True  20.0   \n",
       "3  2021-09-26 17:00:00+00:00  2021-09-26 18:59:00+00:00  gamma  True  20.0   \n",
       "4  2021-04-13 17:00:00+00:00  2021-04-13 18:59:00+00:00  gamma  True  20.0   \n",
       "\n",
       "   f9  f10  Unnamed: 0.2   target  \n",
       "0   1  c-6      10029546   6620.0  \n",
       "1   0  b-1      13732076  15390.0  \n",
       "2   1  c-2       4670699   7640.0  \n",
       "3   2  c-6      20958556   7870.0  \n",
       "4   1  c-6       3558166   9800.0  "
      ]
     },
     "execution_count": 77,
     "metadata": {},
     "output_type": "execute_result"
    }
   ],
   "source": [
    "df3= df_train\n",
    "df3.head()"
   ]
  },
  {
   "cell_type": "code",
   "execution_count": 79,
   "metadata": {},
   "outputs": [],
   "source": [
    "# delta column tells time in days hrs mins an sec, oh how much time before departure ticket is purchased.\n",
    "\n",
    "data_format_str = '%Y/%m/%d %H:%M:%S.%f'\n",
    "\n",
    "df3['f1']= pd.to_datetime(df3['f1'])\n",
    "df3['f4']= pd.to_datetime(df3['f4'])\n",
    "\n",
    "f1= pd.to_datetime(df3['f1'],data_format_str)\n",
    "f4= pd.to_datetime(df3['f4'],data_format_str)\n",
    "\n",
    "diff = f4-f1\n",
    "df3['delta']= diff"
   ]
  },
  {
   "cell_type": "code",
   "execution_count": 80,
   "metadata": {},
   "outputs": [
    {
     "data": {
      "text/html": [
       "<div>\n",
       "<style scoped>\n",
       "    .dataframe tbody tr th:only-of-type {\n",
       "        vertical-align: middle;\n",
       "    }\n",
       "\n",
       "    .dataframe tbody tr th {\n",
       "        vertical-align: top;\n",
       "    }\n",
       "\n",
       "    .dataframe thead th {\n",
       "        text-align: right;\n",
       "    }\n",
       "</style>\n",
       "<table border=\"1\" class=\"dataframe\">\n",
       "  <thead>\n",
       "    <tr style=\"text-align: right;\">\n",
       "      <th></th>\n",
       "      <th>Unnamed: 0</th>\n",
       "      <th>Unnamed: 0.1</th>\n",
       "      <th>f1</th>\n",
       "      <th>f2</th>\n",
       "      <th>f3</th>\n",
       "      <th>f4</th>\n",
       "      <th>f5</th>\n",
       "      <th>f6</th>\n",
       "      <th>f7</th>\n",
       "      <th>f8</th>\n",
       "      <th>f9</th>\n",
       "      <th>f10</th>\n",
       "      <th>Unnamed: 0.2</th>\n",
       "      <th>target</th>\n",
       "      <th>delta</th>\n",
       "    </tr>\n",
       "  </thead>\n",
       "  <tbody>\n",
       "    <tr>\n",
       "      <th>0</th>\n",
       "      <td>10029546</td>\n",
       "      <td>10029546</td>\n",
       "      <td>2021-06-15 19:24:40.127223+00:00</td>\n",
       "      <td>x</td>\n",
       "      <td>y</td>\n",
       "      <td>2021-07-23 17:00:00+00:00</td>\n",
       "      <td>2021-07-23 18:59:00+00:00</td>\n",
       "      <td>gamma</td>\n",
       "      <td>True</td>\n",
       "      <td>20.0</td>\n",
       "      <td>1</td>\n",
       "      <td>c-6</td>\n",
       "      <td>10029546</td>\n",
       "      <td>6620.0</td>\n",
       "      <td>37 days 21:35:19.872777</td>\n",
       "    </tr>\n",
       "    <tr>\n",
       "      <th>1</th>\n",
       "      <td>13732076</td>\n",
       "      <td>13732076</td>\n",
       "      <td>2021-07-10 02:33:39.966495+00:00</td>\n",
       "      <td>x</td>\n",
       "      <td>y</td>\n",
       "      <td>2021-07-13 05:00:00+00:00</td>\n",
       "      <td>2021-07-13 06:55:00+00:00</td>\n",
       "      <td>beta</td>\n",
       "      <td>True</td>\n",
       "      <td>40.0</td>\n",
       "      <td>0</td>\n",
       "      <td>b-1</td>\n",
       "      <td>13732076</td>\n",
       "      <td>15390.0</td>\n",
       "      <td>3 days 02:26:20.033505</td>\n",
       "    </tr>\n",
       "    <tr>\n",
       "      <th>2</th>\n",
       "      <td>4670699</td>\n",
       "      <td>4670699</td>\n",
       "      <td>2021-04-17 01:56:55.252825+00:00</td>\n",
       "      <td>x</td>\n",
       "      <td>y</td>\n",
       "      <td>2021-04-19 05:00:00+00:00</td>\n",
       "      <td>2021-04-19 07:00:00+00:00</td>\n",
       "      <td>gamma</td>\n",
       "      <td>True</td>\n",
       "      <td>20.0</td>\n",
       "      <td>1</td>\n",
       "      <td>c-2</td>\n",
       "      <td>4670699</td>\n",
       "      <td>7640.0</td>\n",
       "      <td>2 days 03:03:04.747175</td>\n",
       "    </tr>\n",
       "    <tr>\n",
       "      <th>3</th>\n",
       "      <td>20958556</td>\n",
       "      <td>20958556</td>\n",
       "      <td>2021-08-25 16:57:57.890080+00:00</td>\n",
       "      <td>x</td>\n",
       "      <td>y</td>\n",
       "      <td>2021-09-26 17:00:00+00:00</td>\n",
       "      <td>2021-09-26 18:59:00+00:00</td>\n",
       "      <td>gamma</td>\n",
       "      <td>True</td>\n",
       "      <td>20.0</td>\n",
       "      <td>2</td>\n",
       "      <td>c-6</td>\n",
       "      <td>20958556</td>\n",
       "      <td>7870.0</td>\n",
       "      <td>32 days 00:02:02.109920</td>\n",
       "    </tr>\n",
       "    <tr>\n",
       "      <th>4</th>\n",
       "      <td>3558166</td>\n",
       "      <td>3558166</td>\n",
       "      <td>2021-03-19 19:43:50.090062+00:00</td>\n",
       "      <td>x</td>\n",
       "      <td>y</td>\n",
       "      <td>2021-04-13 17:00:00+00:00</td>\n",
       "      <td>2021-04-13 18:59:00+00:00</td>\n",
       "      <td>gamma</td>\n",
       "      <td>True</td>\n",
       "      <td>20.0</td>\n",
       "      <td>1</td>\n",
       "      <td>c-6</td>\n",
       "      <td>3558166</td>\n",
       "      <td>9800.0</td>\n",
       "      <td>24 days 21:16:09.909938</td>\n",
       "    </tr>\n",
       "  </tbody>\n",
       "</table>\n",
       "</div>"
      ],
      "text/plain": [
       "   Unnamed: 0  Unnamed: 0.1                               f1 f2 f3  \\\n",
       "0    10029546      10029546 2021-06-15 19:24:40.127223+00:00  x  y   \n",
       "1    13732076      13732076 2021-07-10 02:33:39.966495+00:00  x  y   \n",
       "2     4670699       4670699 2021-04-17 01:56:55.252825+00:00  x  y   \n",
       "3    20958556      20958556 2021-08-25 16:57:57.890080+00:00  x  y   \n",
       "4     3558166       3558166 2021-03-19 19:43:50.090062+00:00  x  y   \n",
       "\n",
       "                         f4                         f5     f6    f7    f8  f9  \\\n",
       "0 2021-07-23 17:00:00+00:00  2021-07-23 18:59:00+00:00  gamma  True  20.0   1   \n",
       "1 2021-07-13 05:00:00+00:00  2021-07-13 06:55:00+00:00   beta  True  40.0   0   \n",
       "2 2021-04-19 05:00:00+00:00  2021-04-19 07:00:00+00:00  gamma  True  20.0   1   \n",
       "3 2021-09-26 17:00:00+00:00  2021-09-26 18:59:00+00:00  gamma  True  20.0   2   \n",
       "4 2021-04-13 17:00:00+00:00  2021-04-13 18:59:00+00:00  gamma  True  20.0   1   \n",
       "\n",
       "   f10  Unnamed: 0.2   target                   delta  \n",
       "0  c-6      10029546   6620.0 37 days 21:35:19.872777  \n",
       "1  b-1      13732076  15390.0  3 days 02:26:20.033505  \n",
       "2  c-2       4670699   7640.0  2 days 03:03:04.747175  \n",
       "3  c-6      20958556   7870.0 32 days 00:02:02.109920  \n",
       "4  c-6       3558166   9800.0 24 days 21:16:09.909938  "
      ]
     },
     "execution_count": 80,
     "metadata": {},
     "output_type": "execute_result"
    }
   ],
   "source": [
    "#have a look we hv delta\n",
    "df3.head()"
   ]
  },
  {
   "cell_type": "code",
   "execution_count": 81,
   "metadata": {},
   "outputs": [
    {
     "data": {
      "text/html": [
       "<div>\n",
       "<style scoped>\n",
       "    .dataframe tbody tr th:only-of-type {\n",
       "        vertical-align: middle;\n",
       "    }\n",
       "\n",
       "    .dataframe tbody tr th {\n",
       "        vertical-align: top;\n",
       "    }\n",
       "\n",
       "    .dataframe thead th {\n",
       "        text-align: right;\n",
       "    }\n",
       "</style>\n",
       "<table border=\"1\" class=\"dataframe\">\n",
       "  <thead>\n",
       "    <tr style=\"text-align: right;\">\n",
       "      <th></th>\n",
       "      <th>Unnamed: 0</th>\n",
       "      <th>Unnamed: 0.1</th>\n",
       "      <th>f8</th>\n",
       "      <th>f9</th>\n",
       "      <th>Unnamed: 0.2</th>\n",
       "      <th>target</th>\n",
       "      <th>delta</th>\n",
       "    </tr>\n",
       "  </thead>\n",
       "  <tbody>\n",
       "    <tr>\n",
       "      <th>count</th>\n",
       "      <td>5.000000e+03</td>\n",
       "      <td>5.000000e+03</td>\n",
       "      <td>5000.000000</td>\n",
       "      <td>5000.000000</td>\n",
       "      <td>5.000000e+03</td>\n",
       "      <td>5000.00000</td>\n",
       "      <td>5000</td>\n",
       "    </tr>\n",
       "    <tr>\n",
       "      <th>mean</th>\n",
       "      <td>1.075704e+07</td>\n",
       "      <td>1.075704e+07</td>\n",
       "      <td>22.782400</td>\n",
       "      <td>0.940400</td>\n",
       "      <td>1.075704e+07</td>\n",
       "      <td>10175.82500</td>\n",
       "      <td>15 days 13:49:43.214624988</td>\n",
       "    </tr>\n",
       "    <tr>\n",
       "      <th>std</th>\n",
       "      <td>6.242796e+06</td>\n",
       "      <td>6.242796e+06</td>\n",
       "      <td>9.054582</td>\n",
       "      <td>0.607389</td>\n",
       "      <td>6.242796e+06</td>\n",
       "      <td>3462.78688</td>\n",
       "      <td>19 days 06:42:23.594830110</td>\n",
       "    </tr>\n",
       "    <tr>\n",
       "      <th>min</th>\n",
       "      <td>5.554000e+03</td>\n",
       "      <td>5.554000e+03</td>\n",
       "      <td>0.000000</td>\n",
       "      <td>0.000000</td>\n",
       "      <td>5.554000e+03</td>\n",
       "      <td>4990.00000</td>\n",
       "      <td>0 days 00:31:09.189974</td>\n",
       "    </tr>\n",
       "    <tr>\n",
       "      <th>25%</th>\n",
       "      <td>5.288046e+06</td>\n",
       "      <td>5.288046e+06</td>\n",
       "      <td>20.000000</td>\n",
       "      <td>1.000000</td>\n",
       "      <td>5.288046e+06</td>\n",
       "      <td>7870.00000</td>\n",
       "      <td>3 days 21:30:08.114749250</td>\n",
       "    </tr>\n",
       "    <tr>\n",
       "      <th>50%</th>\n",
       "      <td>1.074884e+07</td>\n",
       "      <td>1.074884e+07</td>\n",
       "      <td>20.000000</td>\n",
       "      <td>1.000000</td>\n",
       "      <td>1.074884e+07</td>\n",
       "      <td>9403.00000</td>\n",
       "      <td>9 days 21:31:30.758345500</td>\n",
       "    </tr>\n",
       "    <tr>\n",
       "      <th>75%</th>\n",
       "      <td>1.601012e+07</td>\n",
       "      <td>1.601012e+07</td>\n",
       "      <td>35.000000</td>\n",
       "      <td>1.000000</td>\n",
       "      <td>1.601012e+07</td>\n",
       "      <td>11285.00000</td>\n",
       "      <td>19 days 20:55:06.467473250</td>\n",
       "    </tr>\n",
       "    <tr>\n",
       "      <th>max</th>\n",
       "      <td>2.177172e+07</td>\n",
       "      <td>2.177172e+07</td>\n",
       "      <td>45.000000</td>\n",
       "      <td>2.000000</td>\n",
       "      <td>2.177172e+07</td>\n",
       "      <td>35000.00000</td>\n",
       "      <td>220 days 07:46:33.923620</td>\n",
       "    </tr>\n",
       "  </tbody>\n",
       "</table>\n",
       "</div>"
      ],
      "text/plain": [
       "         Unnamed: 0  Unnamed: 0.1           f8           f9  Unnamed: 0.2  \\\n",
       "count  5.000000e+03  5.000000e+03  5000.000000  5000.000000  5.000000e+03   \n",
       "mean   1.075704e+07  1.075704e+07    22.782400     0.940400  1.075704e+07   \n",
       "std    6.242796e+06  6.242796e+06     9.054582     0.607389  6.242796e+06   \n",
       "min    5.554000e+03  5.554000e+03     0.000000     0.000000  5.554000e+03   \n",
       "25%    5.288046e+06  5.288046e+06    20.000000     1.000000  5.288046e+06   \n",
       "50%    1.074884e+07  1.074884e+07    20.000000     1.000000  1.074884e+07   \n",
       "75%    1.601012e+07  1.601012e+07    35.000000     1.000000  1.601012e+07   \n",
       "max    2.177172e+07  2.177172e+07    45.000000     2.000000  2.177172e+07   \n",
       "\n",
       "            target                       delta  \n",
       "count   5000.00000                        5000  \n",
       "mean   10175.82500  15 days 13:49:43.214624988  \n",
       "std     3462.78688  19 days 06:42:23.594830110  \n",
       "min     4990.00000      0 days 00:31:09.189974  \n",
       "25%     7870.00000   3 days 21:30:08.114749250  \n",
       "50%     9403.00000   9 days 21:31:30.758345500  \n",
       "75%    11285.00000  19 days 20:55:06.467473250  \n",
       "max    35000.00000    220 days 07:46:33.923620  "
      ]
     },
     "execution_count": 81,
     "metadata": {},
     "output_type": "execute_result"
    }
   ],
   "source": [
    "# see the statistics summary\n",
    "df3.describe()"
   ]
  },
  {
   "cell_type": "markdown",
   "metadata": {},
   "source": [
    "- Delta Column is alternative of time_dep (s) column previously, but it tells duration in days and on format.\n",
    "- The summary statistics tells alot about the data, depends on how you interpret them and make sense out of it."
   ]
  },
  {
   "cell_type": "markdown",
   "metadata": {},
   "source": [
    "## Another more way"
   ]
  },
  {
   "cell_type": "code",
   "execution_count": 83,
   "metadata": {},
   "outputs": [
    {
     "data": {
      "text/html": [
       "<div>\n",
       "<style scoped>\n",
       "    .dataframe tbody tr th:only-of-type {\n",
       "        vertical-align: middle;\n",
       "    }\n",
       "\n",
       "    .dataframe tbody tr th {\n",
       "        vertical-align: top;\n",
       "    }\n",
       "\n",
       "    .dataframe thead th {\n",
       "        text-align: right;\n",
       "    }\n",
       "</style>\n",
       "<table border=\"1\" class=\"dataframe\">\n",
       "  <thead>\n",
       "    <tr style=\"text-align: right;\">\n",
       "      <th></th>\n",
       "      <th>time_to_dep(s)</th>\n",
       "      <th>travel_time(s)</th>\n",
       "      <th>f6</th>\n",
       "      <th>f7</th>\n",
       "      <th>f8</th>\n",
       "      <th>f9</th>\n",
       "      <th>target</th>\n",
       "      <th>time_dep</th>\n",
       "      <th>time_travel</th>\n",
       "    </tr>\n",
       "  </thead>\n",
       "  <tbody>\n",
       "    <tr>\n",
       "      <th>2987</th>\n",
       "      <td>165432.0</td>\n",
       "      <td>7200.0</td>\n",
       "      <td>2</td>\n",
       "      <td>1</td>\n",
       "      <td>0</td>\n",
       "      <td>0</td>\n",
       "      <td>7700.0</td>\n",
       "      <td>21:57:12</td>\n",
       "      <td>2:00:00</td>\n",
       "    </tr>\n",
       "    <tr>\n",
       "      <th>2618</th>\n",
       "      <td>1069587.0</td>\n",
       "      <td>7200.0</td>\n",
       "      <td>2</td>\n",
       "      <td>1</td>\n",
       "      <td>2</td>\n",
       "      <td>2</td>\n",
       "      <td>11900.0</td>\n",
       "      <td>9:06:27</td>\n",
       "      <td>2:00:00</td>\n",
       "    </tr>\n",
       "    <tr>\n",
       "      <th>2543</th>\n",
       "      <td>1499326.0</td>\n",
       "      <td>6900.0</td>\n",
       "      <td>1</td>\n",
       "      <td>1</td>\n",
       "      <td>5</td>\n",
       "      <td>0</td>\n",
       "      <td>9160.0</td>\n",
       "      <td>8:28:46</td>\n",
       "      <td>1:55:00</td>\n",
       "    </tr>\n",
       "    <tr>\n",
       "      <th>1093</th>\n",
       "      <td>249113.0</td>\n",
       "      <td>7200.0</td>\n",
       "      <td>3</td>\n",
       "      <td>1</td>\n",
       "      <td>2</td>\n",
       "      <td>1</td>\n",
       "      <td>22300.0</td>\n",
       "      <td>21:11:53</td>\n",
       "      <td>2:00:00</td>\n",
       "    </tr>\n",
       "    <tr>\n",
       "      <th>4061</th>\n",
       "      <td>1671497.0</td>\n",
       "      <td>7200.0</td>\n",
       "      <td>0</td>\n",
       "      <td>1</td>\n",
       "      <td>1</td>\n",
       "      <td>1</td>\n",
       "      <td>9045.0</td>\n",
       "      <td>8:18:17</td>\n",
       "      <td>2:00:00</td>\n",
       "    </tr>\n",
       "    <tr>\n",
       "      <th>4984</th>\n",
       "      <td>558527.0</td>\n",
       "      <td>7200.0</td>\n",
       "      <td>0</td>\n",
       "      <td>1</td>\n",
       "      <td>1</td>\n",
       "      <td>1</td>\n",
       "      <td>6531.0</td>\n",
       "      <td>11:08:47</td>\n",
       "      <td>2:00:00</td>\n",
       "    </tr>\n",
       "    <tr>\n",
       "      <th>2235</th>\n",
       "      <td>15334.0</td>\n",
       "      <td>7140.0</td>\n",
       "      <td>2</td>\n",
       "      <td>1</td>\n",
       "      <td>2</td>\n",
       "      <td>2</td>\n",
       "      <td>11410.0</td>\n",
       "      <td>4:15:34</td>\n",
       "      <td>1:59:00</td>\n",
       "    </tr>\n",
       "    <tr>\n",
       "      <th>444</th>\n",
       "      <td>327048.0</td>\n",
       "      <td>7200.0</td>\n",
       "      <td>3</td>\n",
       "      <td>1</td>\n",
       "      <td>2</td>\n",
       "      <td>1</td>\n",
       "      <td>13450.0</td>\n",
       "      <td>18:50:48</td>\n",
       "      <td>2:00:00</td>\n",
       "    </tr>\n",
       "    <tr>\n",
       "      <th>3360</th>\n",
       "      <td>1323969.0</td>\n",
       "      <td>7200.0</td>\n",
       "      <td>0</td>\n",
       "      <td>1</td>\n",
       "      <td>1</td>\n",
       "      <td>1</td>\n",
       "      <td>7524.0</td>\n",
       "      <td>7:46:09</td>\n",
       "      <td>2:00:00</td>\n",
       "    </tr>\n",
       "    <tr>\n",
       "      <th>2991</th>\n",
       "      <td>586810.0</td>\n",
       "      <td>7200.0</td>\n",
       "      <td>0</td>\n",
       "      <td>1</td>\n",
       "      <td>4</td>\n",
       "      <td>1</td>\n",
       "      <td>14645.0</td>\n",
       "      <td>19:00:10</td>\n",
       "      <td>2:00:00</td>\n",
       "    </tr>\n",
       "  </tbody>\n",
       "</table>\n",
       "</div>"
      ],
      "text/plain": [
       "      time_to_dep(s)  travel_time(s)  f6  f7  f8  f9   target  time_dep  \\\n",
       "2987        165432.0          7200.0   2   1   0   0   7700.0  21:57:12   \n",
       "2618       1069587.0          7200.0   2   1   2   2  11900.0   9:06:27   \n",
       "2543       1499326.0          6900.0   1   1   5   0   9160.0   8:28:46   \n",
       "1093        249113.0          7200.0   3   1   2   1  22300.0  21:11:53   \n",
       "4061       1671497.0          7200.0   0   1   1   1   9045.0   8:18:17   \n",
       "4984        558527.0          7200.0   0   1   1   1   6531.0  11:08:47   \n",
       "2235         15334.0          7140.0   2   1   2   2  11410.0   4:15:34   \n",
       "444         327048.0          7200.0   3   1   2   1  13450.0  18:50:48   \n",
       "3360       1323969.0          7200.0   0   1   1   1   7524.0   7:46:09   \n",
       "2991        586810.0          7200.0   0   1   4   1  14645.0  19:00:10   \n",
       "\n",
       "     time_travel  \n",
       "2987     2:00:00  \n",
       "2618     2:00:00  \n",
       "2543     1:55:00  \n",
       "1093     2:00:00  \n",
       "4061     2:00:00  \n",
       "4984     2:00:00  \n",
       "2235     1:59:00  \n",
       "444      2:00:00  \n",
       "3360     2:00:00  \n",
       "2991     2:00:00  "
      ]
     },
     "execution_count": 83,
     "metadata": {},
     "output_type": "execute_result"
    }
   ],
   "source": [
    "# function to calculate time in hrs min sec\n",
    "\n",
    "def convert(seconds):\n",
    "    seconds= seconds % (24 * 3600)\n",
    "    hour= seconds //3600\n",
    "    seconds %= 3600\n",
    "    minutes = seconds //60\n",
    "    seconds %= 60\n",
    "    return '%d:%02d:%02d' % (hour,minutes, seconds)\n",
    "\n",
    "#column addition of this time\n",
    "\n",
    "df['time_dep']= df['time_to_dep(s)'].apply(convert)\n",
    "df['time_travel']= df['travel_time(s)'].apply(convert)\n",
    "\n",
    "     \n",
    "df.sample(10)"
   ]
  },
  {
   "cell_type": "code",
   "execution_count": 93,
   "metadata": {},
   "outputs": [
    {
     "data": {
      "text/html": [
       "<div>\n",
       "<style scoped>\n",
       "    .dataframe tbody tr th:only-of-type {\n",
       "        vertical-align: middle;\n",
       "    }\n",
       "\n",
       "    .dataframe tbody tr th {\n",
       "        vertical-align: top;\n",
       "    }\n",
       "\n",
       "    .dataframe thead th {\n",
       "        text-align: right;\n",
       "    }\n",
       "</style>\n",
       "<table border=\"1\" class=\"dataframe\">\n",
       "  <thead>\n",
       "    <tr style=\"text-align: right;\">\n",
       "      <th></th>\n",
       "      <th>time_to_dep(s)</th>\n",
       "      <th>travel_time(s)</th>\n",
       "      <th>f6</th>\n",
       "      <th>f7</th>\n",
       "      <th>f8</th>\n",
       "      <th>f9</th>\n",
       "      <th>target</th>\n",
       "    </tr>\n",
       "  </thead>\n",
       "  <tbody>\n",
       "    <tr>\n",
       "      <th>count</th>\n",
       "      <td>5.000000e+03</td>\n",
       "      <td>5000.000000</td>\n",
       "      <td>5000.000000</td>\n",
       "      <td>5000.000000</td>\n",
       "      <td>5000.000000</td>\n",
       "      <td>5000.000000</td>\n",
       "      <td>5000.00000</td>\n",
       "    </tr>\n",
       "    <tr>\n",
       "      <th>mean</th>\n",
       "      <td>1.345783e+06</td>\n",
       "      <td>7162.512000</td>\n",
       "      <td>0.951400</td>\n",
       "      <td>0.993000</td>\n",
       "      <td>2.339600</td>\n",
       "      <td>0.940400</td>\n",
       "      <td>10175.82500</td>\n",
       "    </tr>\n",
       "    <tr>\n",
       "      <th>std</th>\n",
       "      <td>1.665744e+06</td>\n",
       "      <td>176.870423</td>\n",
       "      <td>0.947427</td>\n",
       "      <td>0.083381</td>\n",
       "      <td>1.270824</td>\n",
       "      <td>0.607389</td>\n",
       "      <td>3462.78688</td>\n",
       "    </tr>\n",
       "    <tr>\n",
       "      <th>min</th>\n",
       "      <td>1.869000e+03</td>\n",
       "      <td>6900.000000</td>\n",
       "      <td>0.000000</td>\n",
       "      <td>0.000000</td>\n",
       "      <td>0.000000</td>\n",
       "      <td>0.000000</td>\n",
       "      <td>4990.00000</td>\n",
       "    </tr>\n",
       "    <tr>\n",
       "      <th>25%</th>\n",
       "      <td>3.366078e+05</td>\n",
       "      <td>7140.000000</td>\n",
       "      <td>0.000000</td>\n",
       "      <td>1.000000</td>\n",
       "      <td>2.000000</td>\n",
       "      <td>1.000000</td>\n",
       "      <td>7870.00000</td>\n",
       "    </tr>\n",
       "    <tr>\n",
       "      <th>50%</th>\n",
       "      <td>8.550905e+05</td>\n",
       "      <td>7200.000000</td>\n",
       "      <td>1.000000</td>\n",
       "      <td>1.000000</td>\n",
       "      <td>2.000000</td>\n",
       "      <td>1.000000</td>\n",
       "      <td>9403.00000</td>\n",
       "    </tr>\n",
       "    <tr>\n",
       "      <th>75%</th>\n",
       "      <td>1.716906e+06</td>\n",
       "      <td>7200.000000</td>\n",
       "      <td>2.000000</td>\n",
       "      <td>1.000000</td>\n",
       "      <td>4.000000</td>\n",
       "      <td>1.000000</td>\n",
       "      <td>11285.00000</td>\n",
       "    </tr>\n",
       "    <tr>\n",
       "      <th>max</th>\n",
       "      <td>1.903599e+07</td>\n",
       "      <td>7800.000000</td>\n",
       "      <td>3.000000</td>\n",
       "      <td>1.000000</td>\n",
       "      <td>6.000000</td>\n",
       "      <td>2.000000</td>\n",
       "      <td>35000.00000</td>\n",
       "    </tr>\n",
       "  </tbody>\n",
       "</table>\n",
       "</div>"
      ],
      "text/plain": [
       "       time_to_dep(s)  travel_time(s)           f6           f7           f8  \\\n",
       "count    5.000000e+03     5000.000000  5000.000000  5000.000000  5000.000000   \n",
       "mean     1.345783e+06     7162.512000     0.951400     0.993000     2.339600   \n",
       "std      1.665744e+06      176.870423     0.947427     0.083381     1.270824   \n",
       "min      1.869000e+03     6900.000000     0.000000     0.000000     0.000000   \n",
       "25%      3.366078e+05     7140.000000     0.000000     1.000000     2.000000   \n",
       "50%      8.550905e+05     7200.000000     1.000000     1.000000     2.000000   \n",
       "75%      1.716906e+06     7200.000000     2.000000     1.000000     4.000000   \n",
       "max      1.903599e+07     7800.000000     3.000000     1.000000     6.000000   \n",
       "\n",
       "                f9       target  \n",
       "count  5000.000000   5000.00000  \n",
       "mean      0.940400  10175.82500  \n",
       "std       0.607389   3462.78688  \n",
       "min       0.000000   4990.00000  \n",
       "25%       1.000000   7870.00000  \n",
       "50%       1.000000   9403.00000  \n",
       "75%       1.000000  11285.00000  \n",
       "max       2.000000  35000.00000  "
      ]
     },
     "execution_count": 93,
     "metadata": {},
     "output_type": "execute_result"
    }
   ],
   "source": [
    "# summary statistics of numerical columns in df\n",
    "df.describe()"
   ]
  },
  {
   "cell_type": "code",
   "execution_count": 97,
   "metadata": {},
   "outputs": [
    {
     "name": "stdout",
     "output_type": "stream",
     "text": [
      "minimun time travelled  1:55:00 -------- maximun time travelled  2:10:00\n"
     ]
    }
   ],
   "source": [
    "#minimun and maximun time of travel duration\n",
    "print('minimun time travelled ' ,df['time_travel'].min() ,'--------', 'maximun time travelled ',df['time_travel'].max())\n"
   ]
  },
  {
   "cell_type": "code",
   "execution_count": 98,
   "metadata": {},
   "outputs": [
    {
     "name": "stdout",
     "output_type": "stream",
     "text": [
      "minimun time ticket purchase before departing  0:00:03 -------- maximun time ticket purchase before departing  9:59:51\n"
     ]
    }
   ],
   "source": [
    "#minimun and maximun time of of ticket purchase before departing\n",
    "print('minimun time ticket purchase before departing ' ,df['time_dep'].min() ,'--------', 'maximun time ticket purchase before departing ',df['time_dep'].max())"
   ]
  },
  {
   "cell_type": "markdown",
   "metadata": {},
   "source": [
    "- The summary statistics tells alot about the data, depends on how you interpret them and make sense out of it."
   ]
  }
 ],
 "metadata": {
  "interpreter": {
   "hash": "0d69e6d194a9951b421559ac9f165de68eeed9895d5d287c2d9854b2dca19775"
  },
  "kernelspec": {
   "display_name": "Python 3.9.7 ('base')",
   "language": "python",
   "name": "python3"
  },
  "language_info": {
   "codemirror_mode": {
    "name": "ipython",
    "version": 3
   },
   "file_extension": ".py",
   "mimetype": "text/x-python",
   "name": "python",
   "nbconvert_exporter": "python",
   "pygments_lexer": "ipython3",
   "version": "3.9.7"
  },
  "orig_nbformat": 4
 },
 "nbformat": 4,
 "nbformat_minor": 2
}
