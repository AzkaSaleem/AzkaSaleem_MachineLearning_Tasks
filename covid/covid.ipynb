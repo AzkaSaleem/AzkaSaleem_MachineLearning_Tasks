{
 "cells": [
  {
   "cell_type": "code",
   "execution_count": 2,
   "metadata": {},
   "outputs": [],
   "source": [
    "#import libararies\n",
    "import pandas as pd\n",
    "import matplotlib.pyplot as plt\n",
    "import numpy as np\n",
    "import seaborn as sns"
   ]
  },
  {
   "cell_type": "code",
   "execution_count": 29,
   "metadata": {},
   "outputs": [
    {
     "data": {
      "text/html": [
       "<div>\n",
       "<style scoped>\n",
       "    .dataframe tbody tr th:only-of-type {\n",
       "        vertical-align: middle;\n",
       "    }\n",
       "\n",
       "    .dataframe tbody tr th {\n",
       "        vertical-align: top;\n",
       "    }\n",
       "\n",
       "    .dataframe thead th {\n",
       "        text-align: right;\n",
       "    }\n",
       "</style>\n",
       "<table border=\"1\" class=\"dataframe\">\n",
       "  <thead>\n",
       "    <tr style=\"text-align: right;\">\n",
       "      <th></th>\n",
       "      <th>iso_code</th>\n",
       "      <th>continent</th>\n",
       "      <th>location</th>\n",
       "      <th>date</th>\n",
       "      <th>total_cases</th>\n",
       "      <th>new_cases</th>\n",
       "      <th>new_cases_smoothed</th>\n",
       "      <th>total_deaths</th>\n",
       "      <th>new_deaths</th>\n",
       "      <th>new_deaths_smoothed</th>\n",
       "      <th>...</th>\n",
       "      <th>female_smokers</th>\n",
       "      <th>male_smokers</th>\n",
       "      <th>handwashing_facilities</th>\n",
       "      <th>hospital_beds_per_thousand</th>\n",
       "      <th>life_expectancy</th>\n",
       "      <th>human_development_index</th>\n",
       "      <th>excess_mortality_cumulative_absolute</th>\n",
       "      <th>excess_mortality_cumulative</th>\n",
       "      <th>excess_mortality</th>\n",
       "      <th>excess_mortality_cumulative_per_million</th>\n",
       "    </tr>\n",
       "  </thead>\n",
       "  <tbody>\n",
       "    <tr>\n",
       "      <th>0</th>\n",
       "      <td>AFG</td>\n",
       "      <td>Asia</td>\n",
       "      <td>Afghanistan</td>\n",
       "      <td>2020-02-24</td>\n",
       "      <td>5.0</td>\n",
       "      <td>5.0</td>\n",
       "      <td>NaN</td>\n",
       "      <td>NaN</td>\n",
       "      <td>NaN</td>\n",
       "      <td>NaN</td>\n",
       "      <td>...</td>\n",
       "      <td>NaN</td>\n",
       "      <td>NaN</td>\n",
       "      <td>37.746</td>\n",
       "      <td>0.5</td>\n",
       "      <td>64.83</td>\n",
       "      <td>0.511</td>\n",
       "      <td>NaN</td>\n",
       "      <td>NaN</td>\n",
       "      <td>NaN</td>\n",
       "      <td>NaN</td>\n",
       "    </tr>\n",
       "    <tr>\n",
       "      <th>1</th>\n",
       "      <td>AFG</td>\n",
       "      <td>Asia</td>\n",
       "      <td>Afghanistan</td>\n",
       "      <td>2020-02-25</td>\n",
       "      <td>5.0</td>\n",
       "      <td>0.0</td>\n",
       "      <td>NaN</td>\n",
       "      <td>NaN</td>\n",
       "      <td>NaN</td>\n",
       "      <td>NaN</td>\n",
       "      <td>...</td>\n",
       "      <td>NaN</td>\n",
       "      <td>NaN</td>\n",
       "      <td>37.746</td>\n",
       "      <td>0.5</td>\n",
       "      <td>64.83</td>\n",
       "      <td>0.511</td>\n",
       "      <td>NaN</td>\n",
       "      <td>NaN</td>\n",
       "      <td>NaN</td>\n",
       "      <td>NaN</td>\n",
       "    </tr>\n",
       "    <tr>\n",
       "      <th>2</th>\n",
       "      <td>AFG</td>\n",
       "      <td>Asia</td>\n",
       "      <td>Afghanistan</td>\n",
       "      <td>2020-02-26</td>\n",
       "      <td>5.0</td>\n",
       "      <td>0.0</td>\n",
       "      <td>NaN</td>\n",
       "      <td>NaN</td>\n",
       "      <td>NaN</td>\n",
       "      <td>NaN</td>\n",
       "      <td>...</td>\n",
       "      <td>NaN</td>\n",
       "      <td>NaN</td>\n",
       "      <td>37.746</td>\n",
       "      <td>0.5</td>\n",
       "      <td>64.83</td>\n",
       "      <td>0.511</td>\n",
       "      <td>NaN</td>\n",
       "      <td>NaN</td>\n",
       "      <td>NaN</td>\n",
       "      <td>NaN</td>\n",
       "    </tr>\n",
       "    <tr>\n",
       "      <th>3</th>\n",
       "      <td>AFG</td>\n",
       "      <td>Asia</td>\n",
       "      <td>Afghanistan</td>\n",
       "      <td>2020-02-27</td>\n",
       "      <td>5.0</td>\n",
       "      <td>0.0</td>\n",
       "      <td>NaN</td>\n",
       "      <td>NaN</td>\n",
       "      <td>NaN</td>\n",
       "      <td>NaN</td>\n",
       "      <td>...</td>\n",
       "      <td>NaN</td>\n",
       "      <td>NaN</td>\n",
       "      <td>37.746</td>\n",
       "      <td>0.5</td>\n",
       "      <td>64.83</td>\n",
       "      <td>0.511</td>\n",
       "      <td>NaN</td>\n",
       "      <td>NaN</td>\n",
       "      <td>NaN</td>\n",
       "      <td>NaN</td>\n",
       "    </tr>\n",
       "    <tr>\n",
       "      <th>4</th>\n",
       "      <td>AFG</td>\n",
       "      <td>Asia</td>\n",
       "      <td>Afghanistan</td>\n",
       "      <td>2020-02-28</td>\n",
       "      <td>5.0</td>\n",
       "      <td>0.0</td>\n",
       "      <td>NaN</td>\n",
       "      <td>NaN</td>\n",
       "      <td>NaN</td>\n",
       "      <td>NaN</td>\n",
       "      <td>...</td>\n",
       "      <td>NaN</td>\n",
       "      <td>NaN</td>\n",
       "      <td>37.746</td>\n",
       "      <td>0.5</td>\n",
       "      <td>64.83</td>\n",
       "      <td>0.511</td>\n",
       "      <td>NaN</td>\n",
       "      <td>NaN</td>\n",
       "      <td>NaN</td>\n",
       "      <td>NaN</td>\n",
       "    </tr>\n",
       "  </tbody>\n",
       "</table>\n",
       "<p>5 rows × 67 columns</p>\n",
       "</div>"
      ],
      "text/plain": [
       "  iso_code continent     location        date  total_cases  new_cases  \\\n",
       "0      AFG      Asia  Afghanistan  2020-02-24          5.0        5.0   \n",
       "1      AFG      Asia  Afghanistan  2020-02-25          5.0        0.0   \n",
       "2      AFG      Asia  Afghanistan  2020-02-26          5.0        0.0   \n",
       "3      AFG      Asia  Afghanistan  2020-02-27          5.0        0.0   \n",
       "4      AFG      Asia  Afghanistan  2020-02-28          5.0        0.0   \n",
       "\n",
       "   new_cases_smoothed  total_deaths  new_deaths  new_deaths_smoothed  ...  \\\n",
       "0                 NaN           NaN         NaN                  NaN  ...   \n",
       "1                 NaN           NaN         NaN                  NaN  ...   \n",
       "2                 NaN           NaN         NaN                  NaN  ...   \n",
       "3                 NaN           NaN         NaN                  NaN  ...   \n",
       "4                 NaN           NaN         NaN                  NaN  ...   \n",
       "\n",
       "   female_smokers  male_smokers  handwashing_facilities  \\\n",
       "0             NaN           NaN                  37.746   \n",
       "1             NaN           NaN                  37.746   \n",
       "2             NaN           NaN                  37.746   \n",
       "3             NaN           NaN                  37.746   \n",
       "4             NaN           NaN                  37.746   \n",
       "\n",
       "   hospital_beds_per_thousand  life_expectancy  human_development_index  \\\n",
       "0                         0.5            64.83                    0.511   \n",
       "1                         0.5            64.83                    0.511   \n",
       "2                         0.5            64.83                    0.511   \n",
       "3                         0.5            64.83                    0.511   \n",
       "4                         0.5            64.83                    0.511   \n",
       "\n",
       "   excess_mortality_cumulative_absolute  excess_mortality_cumulative  \\\n",
       "0                                   NaN                          NaN   \n",
       "1                                   NaN                          NaN   \n",
       "2                                   NaN                          NaN   \n",
       "3                                   NaN                          NaN   \n",
       "4                                   NaN                          NaN   \n",
       "\n",
       "   excess_mortality  excess_mortality_cumulative_per_million  \n",
       "0               NaN                                      NaN  \n",
       "1               NaN                                      NaN  \n",
       "2               NaN                                      NaN  \n",
       "3               NaN                                      NaN  \n",
       "4               NaN                                      NaN  \n",
       "\n",
       "[5 rows x 67 columns]"
      ]
     },
     "execution_count": 29,
     "metadata": {},
     "output_type": "execute_result"
    }
   ],
   "source": [
    "#loading data from csvs\n",
    "df= pd.read_csv('owid-covid-data.csv')\n",
    "df.head()"
   ]
  },
  {
   "cell_type": "code",
   "execution_count": 4,
   "metadata": {},
   "outputs": [
    {
     "data": {
      "text/plain": [
       "(177381, 67)"
      ]
     },
     "execution_count": 4,
     "metadata": {},
     "output_type": "execute_result"
    }
   ],
   "source": [
    "df.shape"
   ]
  },
  {
   "cell_type": "code",
   "execution_count": 5,
   "metadata": {},
   "outputs": [
    {
     "name": "stdout",
     "output_type": "stream",
     "text": [
      "<class 'pandas.core.frame.DataFrame'>\n",
      "RangeIndex: 177381 entries, 0 to 177380\n",
      "Data columns (total 67 columns):\n",
      " #   Column                                      Non-Null Count   Dtype  \n",
      "---  ------                                      --------------   -----  \n",
      " 0   iso_code                                    177381 non-null  object \n",
      " 1   continent                                   166983 non-null  object \n",
      " 2   location                                    177381 non-null  object \n",
      " 3   date                                        177381 non-null  object \n",
      " 4   total_cases                                 171045 non-null  float64\n",
      " 5   new_cases                                   170884 non-null  float64\n",
      " 6   new_cases_smoothed                          169715 non-null  float64\n",
      " 7   total_deaths                                152933 non-null  float64\n",
      " 8   new_deaths                                  152953 non-null  float64\n",
      " 9   new_deaths_smoothed                         151806 non-null  float64\n",
      " 10  total_cases_per_million                     170253 non-null  float64\n",
      " 11  new_cases_per_million                       170092 non-null  float64\n",
      " 12  new_cases_smoothed_per_million              168928 non-null  float64\n",
      " 13  total_deaths_per_million                    152154 non-null  float64\n",
      " 14  new_deaths_per_million                      152174 non-null  float64\n",
      " 15  new_deaths_smoothed_per_million             151032 non-null  float64\n",
      " 16  reproduction_rate                           132482 non-null  float64\n",
      " 17  icu_patients                                24404 non-null   float64\n",
      " 18  icu_patients_per_million                    24404 non-null   float64\n",
      " 19  hosp_patients                               25152 non-null   float64\n",
      " 20  hosp_patients_per_million                   25152 non-null   float64\n",
      " 21  weekly_icu_admissions                       5768 non-null    float64\n",
      " 22  weekly_icu_admissions_per_million           5768 non-null    float64\n",
      " 23  weekly_hosp_admissions                      11498 non-null   float64\n",
      " 24  weekly_hosp_admissions_per_million          11498 non-null   float64\n",
      " 25  total_tests                                 74100 non-null   float64\n",
      " 26  new_tests                                   71583 non-null   float64\n",
      " 27  total_tests_per_thousand                    74100 non-null   float64\n",
      " 28  new_tests_per_thousand                      71583 non-null   float64\n",
      " 29  new_tests_smoothed                          92175 non-null   float64\n",
      " 30  new_tests_smoothed_per_thousand             92175 non-null   float64\n",
      " 31  positive_rate                               85758 non-null   float64\n",
      " 32  tests_per_case                              84874 non-null   float64\n",
      " 33  tests_units                                 94787 non-null   object \n",
      " 34  total_vaccinations                          48181 non-null   float64\n",
      " 35  people_vaccinated                           45810 non-null   float64\n",
      " 36  people_fully_vaccinated                     43184 non-null   float64\n",
      " 37  total_boosters                              20724 non-null   float64\n",
      " 38  new_vaccinations                            39778 non-null   float64\n",
      " 39  new_vaccinations_smoothed                   91849 non-null   float64\n",
      " 40  total_vaccinations_per_hundred              48181 non-null   float64\n",
      " 41  people_vaccinated_per_hundred               45810 non-null   float64\n",
      " 42  people_fully_vaccinated_per_hundred         43184 non-null   float64\n",
      " 43  total_boosters_per_hundred                  20724 non-null   float64\n",
      " 44  new_vaccinations_smoothed_per_million       91849 non-null   float64\n",
      " 45  new_people_vaccinated_smoothed              90960 non-null   float64\n",
      " 46  new_people_vaccinated_smoothed_per_hundred  90960 non-null   float64\n",
      " 47  stringency_index                            0 non-null       float64\n",
      " 48  population                                  176272 non-null  float64\n",
      " 49  population_density                          158007 non-null  float64\n",
      " 50  median_age                                  146553 non-null  float64\n",
      " 51  aged_65_older                               144991 non-null  float64\n",
      " 52  aged_70_older                               145780 non-null  float64\n",
      " 53  gdp_per_capita                              146036 non-null  float64\n",
      " 54  extreme_poverty                             95460 non-null   float64\n",
      " 55  cardiovasc_death_rate                       146250 non-null  float64\n",
      " 56  diabetes_prevalence                         153213 non-null  float64\n",
      " 57  female_smokers                              111071 non-null  float64\n",
      " 58  male_smokers                                109548 non-null  float64\n",
      " 59  handwashing_facilities                      71975 non-null   float64\n",
      " 60  hospital_beds_per_thousand                  129682 non-null  float64\n",
      " 61  life_expectancy                             165830 non-null  float64\n",
      " 62  human_development_index                     142855 non-null  float64\n",
      " 63  excess_mortality_cumulative_absolute        6078 non-null    float64\n",
      " 64  excess_mortality_cumulative                 6078 non-null    float64\n",
      " 65  excess_mortality                            6078 non-null    float64\n",
      " 66  excess_mortality_cumulative_per_million     6078 non-null    float64\n",
      "dtypes: float64(62), object(5)\n",
      "memory usage: 90.7+ MB\n"
     ]
    }
   ],
   "source": [
    "df.info()"
   ]
  },
  {
   "cell_type": "code",
   "execution_count": 6,
   "metadata": {},
   "outputs": [
    {
     "data": {
      "text/plain": [
       "array(['Asia', nan, 'Europe', 'Africa', 'North America', 'South America',\n",
       "       'Oceania'], dtype=object)"
      ]
     },
     "execution_count": 6,
     "metadata": {},
     "output_type": "execute_result"
    }
   ],
   "source": [
    "df['continent'].unique()"
   ]
  },
  {
   "cell_type": "code",
   "execution_count": 30,
   "metadata": {},
   "outputs": [],
   "source": [
    "df= df[df['continent']=='Asia']"
   ]
  },
  {
   "cell_type": "code",
   "execution_count": 8,
   "metadata": {},
   "outputs": [
    {
     "data": {
      "text/html": [
       "<div>\n",
       "<style scoped>\n",
       "    .dataframe tbody tr th:only-of-type {\n",
       "        vertical-align: middle;\n",
       "    }\n",
       "\n",
       "    .dataframe tbody tr th {\n",
       "        vertical-align: top;\n",
       "    }\n",
       "\n",
       "    .dataframe thead th {\n",
       "        text-align: right;\n",
       "    }\n",
       "</style>\n",
       "<table border=\"1\" class=\"dataframe\">\n",
       "  <thead>\n",
       "    <tr style=\"text-align: right;\">\n",
       "      <th></th>\n",
       "      <th>iso_code</th>\n",
       "      <th>continent</th>\n",
       "      <th>location</th>\n",
       "      <th>date</th>\n",
       "      <th>total_cases</th>\n",
       "      <th>new_cases</th>\n",
       "      <th>new_cases_smoothed</th>\n",
       "      <th>total_deaths</th>\n",
       "      <th>new_deaths</th>\n",
       "      <th>new_deaths_smoothed</th>\n",
       "      <th>...</th>\n",
       "      <th>female_smokers</th>\n",
       "      <th>male_smokers</th>\n",
       "      <th>handwashing_facilities</th>\n",
       "      <th>hospital_beds_per_thousand</th>\n",
       "      <th>life_expectancy</th>\n",
       "      <th>human_development_index</th>\n",
       "      <th>excess_mortality_cumulative_absolute</th>\n",
       "      <th>excess_mortality_cumulative</th>\n",
       "      <th>excess_mortality</th>\n",
       "      <th>excess_mortality_cumulative_per_million</th>\n",
       "    </tr>\n",
       "  </thead>\n",
       "  <tbody>\n",
       "    <tr>\n",
       "      <th>0</th>\n",
       "      <td>AFG</td>\n",
       "      <td>Asia</td>\n",
       "      <td>Afghanistan</td>\n",
       "      <td>2020-02-24</td>\n",
       "      <td>5.0</td>\n",
       "      <td>5.0</td>\n",
       "      <td>NaN</td>\n",
       "      <td>NaN</td>\n",
       "      <td>NaN</td>\n",
       "      <td>NaN</td>\n",
       "      <td>...</td>\n",
       "      <td>NaN</td>\n",
       "      <td>NaN</td>\n",
       "      <td>37.746</td>\n",
       "      <td>0.5</td>\n",
       "      <td>64.83</td>\n",
       "      <td>0.511</td>\n",
       "      <td>NaN</td>\n",
       "      <td>NaN</td>\n",
       "      <td>NaN</td>\n",
       "      <td>NaN</td>\n",
       "    </tr>\n",
       "    <tr>\n",
       "      <th>1</th>\n",
       "      <td>AFG</td>\n",
       "      <td>Asia</td>\n",
       "      <td>Afghanistan</td>\n",
       "      <td>2020-02-25</td>\n",
       "      <td>5.0</td>\n",
       "      <td>0.0</td>\n",
       "      <td>NaN</td>\n",
       "      <td>NaN</td>\n",
       "      <td>NaN</td>\n",
       "      <td>NaN</td>\n",
       "      <td>...</td>\n",
       "      <td>NaN</td>\n",
       "      <td>NaN</td>\n",
       "      <td>37.746</td>\n",
       "      <td>0.5</td>\n",
       "      <td>64.83</td>\n",
       "      <td>0.511</td>\n",
       "      <td>NaN</td>\n",
       "      <td>NaN</td>\n",
       "      <td>NaN</td>\n",
       "      <td>NaN</td>\n",
       "    </tr>\n",
       "    <tr>\n",
       "      <th>2</th>\n",
       "      <td>AFG</td>\n",
       "      <td>Asia</td>\n",
       "      <td>Afghanistan</td>\n",
       "      <td>2020-02-26</td>\n",
       "      <td>5.0</td>\n",
       "      <td>0.0</td>\n",
       "      <td>NaN</td>\n",
       "      <td>NaN</td>\n",
       "      <td>NaN</td>\n",
       "      <td>NaN</td>\n",
       "      <td>...</td>\n",
       "      <td>NaN</td>\n",
       "      <td>NaN</td>\n",
       "      <td>37.746</td>\n",
       "      <td>0.5</td>\n",
       "      <td>64.83</td>\n",
       "      <td>0.511</td>\n",
       "      <td>NaN</td>\n",
       "      <td>NaN</td>\n",
       "      <td>NaN</td>\n",
       "      <td>NaN</td>\n",
       "    </tr>\n",
       "    <tr>\n",
       "      <th>3</th>\n",
       "      <td>AFG</td>\n",
       "      <td>Asia</td>\n",
       "      <td>Afghanistan</td>\n",
       "      <td>2020-02-27</td>\n",
       "      <td>5.0</td>\n",
       "      <td>0.0</td>\n",
       "      <td>NaN</td>\n",
       "      <td>NaN</td>\n",
       "      <td>NaN</td>\n",
       "      <td>NaN</td>\n",
       "      <td>...</td>\n",
       "      <td>NaN</td>\n",
       "      <td>NaN</td>\n",
       "      <td>37.746</td>\n",
       "      <td>0.5</td>\n",
       "      <td>64.83</td>\n",
       "      <td>0.511</td>\n",
       "      <td>NaN</td>\n",
       "      <td>NaN</td>\n",
       "      <td>NaN</td>\n",
       "      <td>NaN</td>\n",
       "    </tr>\n",
       "    <tr>\n",
       "      <th>4</th>\n",
       "      <td>AFG</td>\n",
       "      <td>Asia</td>\n",
       "      <td>Afghanistan</td>\n",
       "      <td>2020-02-28</td>\n",
       "      <td>5.0</td>\n",
       "      <td>0.0</td>\n",
       "      <td>NaN</td>\n",
       "      <td>NaN</td>\n",
       "      <td>NaN</td>\n",
       "      <td>NaN</td>\n",
       "      <td>...</td>\n",
       "      <td>NaN</td>\n",
       "      <td>NaN</td>\n",
       "      <td>37.746</td>\n",
       "      <td>0.5</td>\n",
       "      <td>64.83</td>\n",
       "      <td>0.511</td>\n",
       "      <td>NaN</td>\n",
       "      <td>NaN</td>\n",
       "      <td>NaN</td>\n",
       "      <td>NaN</td>\n",
       "    </tr>\n",
       "  </tbody>\n",
       "</table>\n",
       "<p>5 rows × 67 columns</p>\n",
       "</div>"
      ],
      "text/plain": [
       "  iso_code continent     location        date  total_cases  new_cases  \\\n",
       "0      AFG      Asia  Afghanistan  2020-02-24          5.0        5.0   \n",
       "1      AFG      Asia  Afghanistan  2020-02-25          5.0        0.0   \n",
       "2      AFG      Asia  Afghanistan  2020-02-26          5.0        0.0   \n",
       "3      AFG      Asia  Afghanistan  2020-02-27          5.0        0.0   \n",
       "4      AFG      Asia  Afghanistan  2020-02-28          5.0        0.0   \n",
       "\n",
       "   new_cases_smoothed  total_deaths  new_deaths  new_deaths_smoothed  ...  \\\n",
       "0                 NaN           NaN         NaN                  NaN  ...   \n",
       "1                 NaN           NaN         NaN                  NaN  ...   \n",
       "2                 NaN           NaN         NaN                  NaN  ...   \n",
       "3                 NaN           NaN         NaN                  NaN  ...   \n",
       "4                 NaN           NaN         NaN                  NaN  ...   \n",
       "\n",
       "   female_smokers  male_smokers  handwashing_facilities  \\\n",
       "0             NaN           NaN                  37.746   \n",
       "1             NaN           NaN                  37.746   \n",
       "2             NaN           NaN                  37.746   \n",
       "3             NaN           NaN                  37.746   \n",
       "4             NaN           NaN                  37.746   \n",
       "\n",
       "   hospital_beds_per_thousand  life_expectancy  human_development_index  \\\n",
       "0                         0.5            64.83                    0.511   \n",
       "1                         0.5            64.83                    0.511   \n",
       "2                         0.5            64.83                    0.511   \n",
       "3                         0.5            64.83                    0.511   \n",
       "4                         0.5            64.83                    0.511   \n",
       "\n",
       "   excess_mortality_cumulative_absolute  excess_mortality_cumulative  \\\n",
       "0                                   NaN                          NaN   \n",
       "1                                   NaN                          NaN   \n",
       "2                                   NaN                          NaN   \n",
       "3                                   NaN                          NaN   \n",
       "4                                   NaN                          NaN   \n",
       "\n",
       "   excess_mortality  excess_mortality_cumulative_per_million  \n",
       "0               NaN                                      NaN  \n",
       "1               NaN                                      NaN  \n",
       "2               NaN                                      NaN  \n",
       "3               NaN                                      NaN  \n",
       "4               NaN                                      NaN  \n",
       "\n",
       "[5 rows x 67 columns]"
      ]
     },
     "execution_count": 8,
     "metadata": {},
     "output_type": "execute_result"
    }
   ],
   "source": [
    "df.head()"
   ]
  },
  {
   "cell_type": "code",
   "execution_count": 9,
   "metadata": {},
   "outputs": [
    {
     "data": {
      "text/plain": [
       "array(['Asia'], dtype=object)"
      ]
     },
     "execution_count": 9,
     "metadata": {},
     "output_type": "execute_result"
    }
   ],
   "source": [
    "df['continent'].unique()"
   ]
  },
  {
   "cell_type": "code",
   "execution_count": 10,
   "metadata": {},
   "outputs": [
    {
     "data": {
      "text/plain": [
       "(37834, 67)"
      ]
     },
     "execution_count": 10,
     "metadata": {},
     "output_type": "execute_result"
    }
   ],
   "source": [
    "df.shape"
   ]
  },
  {
   "cell_type": "code",
   "execution_count": 11,
   "metadata": {},
   "outputs": [
    {
     "data": {
      "text/plain": [
       "array(['Afghanistan', 'Armenia', 'Azerbaijan', 'Bahrain', 'Bangladesh',\n",
       "       'Bhutan', 'Brunei', 'Cambodia', 'China', 'Georgia', 'Hong Kong',\n",
       "       'India', 'Indonesia', 'Iran', 'Iraq', 'Israel', 'Japan', 'Jordan',\n",
       "       'Kazakhstan', 'Kuwait', 'Kyrgyzstan', 'Laos', 'Lebanon', 'Macao',\n",
       "       'Malaysia', 'Maldives', 'Mongolia', 'Myanmar', 'Nepal',\n",
       "       'Northern Cyprus', 'Oman', 'Pakistan', 'Palestine', 'Philippines',\n",
       "       'Qatar', 'Saudi Arabia', 'Singapore', 'South Korea', 'Sri Lanka',\n",
       "       'Syria', 'Taiwan', 'Tajikistan', 'Thailand', 'Timor', 'Turkey',\n",
       "       'Turkmenistan', 'United Arab Emirates', 'Uzbekistan', 'Vietnam',\n",
       "       'Yemen'], dtype=object)"
      ]
     },
     "execution_count": 11,
     "metadata": {},
     "output_type": "execute_result"
    }
   ],
   "source": [
    "df['location'].unique()"
   ]
  },
  {
   "cell_type": "code",
   "execution_count": 33,
   "metadata": {},
   "outputs": [
    {
     "data": {
      "text/plain": [
       "iso_code                                    0.000000\n",
       "continent                                   0.000000\n",
       "location                                    0.000000\n",
       "date                                        0.000000\n",
       "total_cases                                 1.480150\n",
       "                                             ...    \n",
       "human_development_index                     5.125020\n",
       "excess_mortality_cumulative_absolute       97.859069\n",
       "excess_mortality_cumulative                97.859069\n",
       "excess_mortality                           97.859069\n",
       "excess_mortality_cumulative_per_million    97.859069\n",
       "Length: 67, dtype: float64"
      ]
     },
     "execution_count": 33,
     "metadata": {},
     "output_type": "execute_result"
    }
   ],
   "source": [
    "df.isnull().sum() / df.shape[0] *100"
   ]
  },
  {
   "cell_type": "code",
   "execution_count": 16,
   "metadata": {},
   "outputs": [
    {
     "data": {
      "text/plain": [
       "Index(['iso_code', 'continent', 'location', 'date', 'total_cases', 'new_cases',\n",
       "       'new_cases_smoothed', 'total_deaths', 'new_deaths',\n",
       "       'new_deaths_smoothed', 'total_cases_per_million',\n",
       "       'new_cases_per_million', 'new_cases_smoothed_per_million',\n",
       "       'total_deaths_per_million', 'new_deaths_per_million',\n",
       "       'new_deaths_smoothed_per_million', 'reproduction_rate', 'icu_patients',\n",
       "       'icu_patients_per_million', 'hosp_patients',\n",
       "       'hosp_patients_per_million', 'weekly_icu_admissions',\n",
       "       'weekly_icu_admissions_per_million', 'weekly_hosp_admissions',\n",
       "       'weekly_hosp_admissions_per_million', 'total_tests', 'new_tests',\n",
       "       'total_tests_per_thousand', 'new_tests_per_thousand',\n",
       "       'new_tests_smoothed', 'new_tests_smoothed_per_thousand',\n",
       "       'positive_rate', 'tests_per_case', 'tests_units', 'total_vaccinations',\n",
       "       'people_vaccinated', 'people_fully_vaccinated', 'total_boosters',\n",
       "       'new_vaccinations', 'new_vaccinations_smoothed',\n",
       "       'total_vaccinations_per_hundred', 'people_vaccinated_per_hundred',\n",
       "       'people_fully_vaccinated_per_hundred', 'total_boosters_per_hundred',\n",
       "       'new_vaccinations_smoothed_per_million',\n",
       "       'new_people_vaccinated_smoothed',\n",
       "       'new_people_vaccinated_smoothed_per_hundred', 'stringency_index',\n",
       "       'population', 'population_density', 'median_age', 'aged_65_older',\n",
       "       'aged_70_older', 'gdp_per_capita', 'extreme_poverty',\n",
       "       'cardiovasc_death_rate', 'diabetes_prevalence', 'female_smokers',\n",
       "       'male_smokers', 'handwashing_facilities', 'hospital_beds_per_thousand',\n",
       "       'life_expectancy', 'human_development_index',\n",
       "       'excess_mortality_cumulative_absolute', 'excess_mortality_cumulative',\n",
       "       'excess_mortality', 'excess_mortality_cumulative_per_million'],\n",
       "      dtype='object')"
      ]
     },
     "execution_count": 16,
     "metadata": {},
     "output_type": "execute_result"
    }
   ],
   "source": [
    "df.columns"
   ]
  },
  {
   "cell_type": "code",
   "execution_count": 34,
   "metadata": {},
   "outputs": [],
   "source": [
    "df= df[['continent', 'location', 'date', 'total_cases','total_deaths','icu_patients','hosp_patients',\n",
    "        'total_tests','people_vaccinated', 'people_fully_vaccinated','total_boosters','population', 'median_age', 'human_development_index']]"
   ]
  },
  {
   "cell_type": "code",
   "execution_count": 35,
   "metadata": {},
   "outputs": [
    {
     "data": {
      "text/plain": [
       "(37834, 14)"
      ]
     },
     "execution_count": 35,
     "metadata": {},
     "output_type": "execute_result"
    }
   ],
   "source": [
    "df.shape"
   ]
  },
  {
   "cell_type": "code",
   "execution_count": 37,
   "metadata": {},
   "outputs": [],
   "source": [
    "df= df[df['location']=='Pakistan']\n",
    "# df1= df[df['location']=='china']"
   ]
  },
  {
   "cell_type": "code",
   "execution_count": 38,
   "metadata": {},
   "outputs": [
    {
     "data": {
      "text/plain": [
       "(774, 14)"
      ]
     },
     "execution_count": 38,
     "metadata": {},
     "output_type": "execute_result"
    }
   ],
   "source": [
    "df.shape"
   ]
  },
  {
   "cell_type": "code",
   "execution_count": 40,
   "metadata": {},
   "outputs": [
    {
     "name": "stdout",
     "output_type": "stream",
     "text": [
      "<class 'pandas.core.frame.DataFrame'>\n",
      "Int64Index: 774 entries, 122484 to 123257\n",
      "Data columns (total 14 columns):\n",
      " #   Column                   Non-Null Count  Dtype  \n",
      "---  ------                   --------------  -----  \n",
      " 0   continent                774 non-null    object \n",
      " 1   location                 774 non-null    object \n",
      " 2   date                     774 non-null    object \n",
      " 3   total_cases              774 non-null    float64\n",
      " 4   total_deaths             752 non-null    float64\n",
      " 5   icu_patients             0 non-null      float64\n",
      " 6   hosp_patients            0 non-null      float64\n",
      " 7   total_tests              661 non-null    float64\n",
      " 8   people_vaccinated        168 non-null    float64\n",
      " 9   people_fully_vaccinated  136 non-null    float64\n",
      " 10  total_boosters           23 non-null     float64\n",
      " 11  population               774 non-null    float64\n",
      " 12  median_age               774 non-null    float64\n",
      " 13  human_development_index  774 non-null    float64\n",
      "dtypes: float64(11), object(3)\n",
      "memory usage: 90.7+ KB\n"
     ]
    }
   ],
   "source": [
    "df.info()"
   ]
  },
  {
   "cell_type": "code",
   "execution_count": 41,
   "metadata": {},
   "outputs": [
    {
     "data": {
      "text/plain": [
       "continent                    0.000000\n",
       "location                     0.000000\n",
       "date                         0.000000\n",
       "total_cases                  0.000000\n",
       "total_deaths                 2.842377\n",
       "icu_patients               100.000000\n",
       "hosp_patients              100.000000\n",
       "total_tests                 14.599483\n",
       "people_vaccinated           78.294574\n",
       "people_fully_vaccinated     82.428941\n",
       "total_boosters              97.028424\n",
       "population                   0.000000\n",
       "median_age                   0.000000\n",
       "human_development_index      0.000000\n",
       "dtype: float64"
      ]
     },
     "execution_count": 41,
     "metadata": {},
     "output_type": "execute_result"
    }
   ],
   "source": [
    "df.isnull().sum() / df.shape[0] *100"
   ]
  },
  {
   "cell_type": "code",
   "execution_count": 43,
   "metadata": {},
   "outputs": [],
   "source": [
    "df= df.drop(columns=['icu_patients','hosp_patients','people_vaccinated','people_fully_vaccinated','total_boosters'])"
   ]
  },
  {
   "cell_type": "code",
   "execution_count": 44,
   "metadata": {},
   "outputs": [
    {
     "data": {
      "text/plain": [
       "continent                   0.000000\n",
       "location                    0.000000\n",
       "date                        0.000000\n",
       "total_cases                 0.000000\n",
       "total_deaths                2.842377\n",
       "total_tests                14.599483\n",
       "population                  0.000000\n",
       "median_age                  0.000000\n",
       "human_development_index     0.000000\n",
       "dtype: float64"
      ]
     },
     "execution_count": 44,
     "metadata": {},
     "output_type": "execute_result"
    }
   ],
   "source": [
    "df.isnull().sum() / df.shape[0] *100"
   ]
  },
  {
   "cell_type": "code",
   "execution_count": 45,
   "metadata": {},
   "outputs": [],
   "source": [
    "#Finding the mean of the column having NaN\n",
    "mean_value=df['total_tests'].mean()\n",
    "  \n",
    "# Replace NaNs with mean of values in the same column\n",
    "df['total_tests'].fillna(value=mean_value, inplace=True)"
   ]
  },
  {
   "cell_type": "code",
   "execution_count": 46,
   "metadata": {},
   "outputs": [
    {
     "data": {
      "text/plain": [
       "continent                  0.000000\n",
       "location                   0.000000\n",
       "date                       0.000000\n",
       "total_cases                0.000000\n",
       "total_deaths               2.842377\n",
       "total_tests                0.000000\n",
       "population                 0.000000\n",
       "median_age                 0.000000\n",
       "human_development_index    0.000000\n",
       "dtype: float64"
      ]
     },
     "execution_count": 46,
     "metadata": {},
     "output_type": "execute_result"
    }
   ],
   "source": [
    "df.isnull().sum() / df.shape[0] *100"
   ]
  },
  {
   "cell_type": "code",
   "execution_count": 47,
   "metadata": {},
   "outputs": [],
   "source": [
    "#Finding the mean of the column having NaN\n",
    "mean_value=df['total_deaths'].mean()\n",
    "  \n",
    "# Replace NaNs with mean of values in the same column\n",
    "df['total_deaths'].fillna(value=mean_value, inplace=True)"
   ]
  },
  {
   "cell_type": "code",
   "execution_count": 48,
   "metadata": {},
   "outputs": [
    {
     "data": {
      "text/plain": [
       "continent                  0.0\n",
       "location                   0.0\n",
       "date                       0.0\n",
       "total_cases                0.0\n",
       "total_deaths               0.0\n",
       "total_tests                0.0\n",
       "population                 0.0\n",
       "median_age                 0.0\n",
       "human_development_index    0.0\n",
       "dtype: float64"
      ]
     },
     "execution_count": 48,
     "metadata": {},
     "output_type": "execute_result"
    }
   ],
   "source": [
    "df.isnull().sum() / df.shape[0] *100"
   ]
  },
  {
   "cell_type": "code",
   "execution_count": 49,
   "metadata": {},
   "outputs": [
    {
     "data": {
      "text/html": [
       "<div>\n",
       "<style scoped>\n",
       "    .dataframe tbody tr th:only-of-type {\n",
       "        vertical-align: middle;\n",
       "    }\n",
       "\n",
       "    .dataframe tbody tr th {\n",
       "        vertical-align: top;\n",
       "    }\n",
       "\n",
       "    .dataframe thead th {\n",
       "        text-align: right;\n",
       "    }\n",
       "</style>\n",
       "<table border=\"1\" class=\"dataframe\">\n",
       "  <thead>\n",
       "    <tr style=\"text-align: right;\">\n",
       "      <th></th>\n",
       "      <th>continent</th>\n",
       "      <th>location</th>\n",
       "      <th>date</th>\n",
       "      <th>total_cases</th>\n",
       "      <th>total_deaths</th>\n",
       "      <th>total_tests</th>\n",
       "      <th>population</th>\n",
       "      <th>median_age</th>\n",
       "      <th>human_development_index</th>\n",
       "    </tr>\n",
       "  </thead>\n",
       "  <tbody>\n",
       "    <tr>\n",
       "      <th>122484</th>\n",
       "      <td>Asia</td>\n",
       "      <td>Pakistan</td>\n",
       "      <td>2020-02-25</td>\n",
       "      <td>2.0</td>\n",
       "      <td>16034.542553</td>\n",
       "      <td>1.023301e+07</td>\n",
       "      <td>225199929.0</td>\n",
       "      <td>23.5</td>\n",
       "      <td>0.557</td>\n",
       "    </tr>\n",
       "    <tr>\n",
       "      <th>122485</th>\n",
       "      <td>Asia</td>\n",
       "      <td>Pakistan</td>\n",
       "      <td>2020-02-26</td>\n",
       "      <td>2.0</td>\n",
       "      <td>16034.542553</td>\n",
       "      <td>1.023301e+07</td>\n",
       "      <td>225199929.0</td>\n",
       "      <td>23.5</td>\n",
       "      <td>0.557</td>\n",
       "    </tr>\n",
       "    <tr>\n",
       "      <th>122486</th>\n",
       "      <td>Asia</td>\n",
       "      <td>Pakistan</td>\n",
       "      <td>2020-02-27</td>\n",
       "      <td>2.0</td>\n",
       "      <td>16034.542553</td>\n",
       "      <td>1.023301e+07</td>\n",
       "      <td>225199929.0</td>\n",
       "      <td>23.5</td>\n",
       "      <td>0.557</td>\n",
       "    </tr>\n",
       "    <tr>\n",
       "      <th>122487</th>\n",
       "      <td>Asia</td>\n",
       "      <td>Pakistan</td>\n",
       "      <td>2020-02-28</td>\n",
       "      <td>4.0</td>\n",
       "      <td>16034.542553</td>\n",
       "      <td>1.023301e+07</td>\n",
       "      <td>225199929.0</td>\n",
       "      <td>23.5</td>\n",
       "      <td>0.557</td>\n",
       "    </tr>\n",
       "    <tr>\n",
       "      <th>122488</th>\n",
       "      <td>Asia</td>\n",
       "      <td>Pakistan</td>\n",
       "      <td>2020-02-29</td>\n",
       "      <td>4.0</td>\n",
       "      <td>16034.542553</td>\n",
       "      <td>1.023301e+07</td>\n",
       "      <td>225199929.0</td>\n",
       "      <td>23.5</td>\n",
       "      <td>0.557</td>\n",
       "    </tr>\n",
       "  </tbody>\n",
       "</table>\n",
       "</div>"
      ],
      "text/plain": [
       "       continent  location        date  total_cases  total_deaths  \\\n",
       "122484      Asia  Pakistan  2020-02-25          2.0  16034.542553   \n",
       "122485      Asia  Pakistan  2020-02-26          2.0  16034.542553   \n",
       "122486      Asia  Pakistan  2020-02-27          2.0  16034.542553   \n",
       "122487      Asia  Pakistan  2020-02-28          4.0  16034.542553   \n",
       "122488      Asia  Pakistan  2020-02-29          4.0  16034.542553   \n",
       "\n",
       "         total_tests   population  median_age  human_development_index  \n",
       "122484  1.023301e+07  225199929.0        23.5                    0.557  \n",
       "122485  1.023301e+07  225199929.0        23.5                    0.557  \n",
       "122486  1.023301e+07  225199929.0        23.5                    0.557  \n",
       "122487  1.023301e+07  225199929.0        23.5                    0.557  \n",
       "122488  1.023301e+07  225199929.0        23.5                    0.557  "
      ]
     },
     "execution_count": 49,
     "metadata": {},
     "output_type": "execute_result"
    }
   ],
   "source": [
    "df.head()"
   ]
  },
  {
   "cell_type": "code",
   "execution_count": 50,
   "metadata": {},
   "outputs": [],
   "source": [
    "# Type casting \n",
    "# convert time into datetime objects\n",
    "from datetime import date, datetime\n",
    "df['date'] = pd.to_datetime(df['date']) "
   ]
  },
  {
   "cell_type": "code",
   "execution_count": 51,
   "metadata": {},
   "outputs": [
    {
     "name": "stdout",
     "output_type": "stream",
     "text": [
      "<class 'pandas.core.frame.DataFrame'>\n",
      "Int64Index: 774 entries, 122484 to 123257\n",
      "Data columns (total 9 columns):\n",
      " #   Column                   Non-Null Count  Dtype         \n",
      "---  ------                   --------------  -----         \n",
      " 0   continent                774 non-null    object        \n",
      " 1   location                 774 non-null    object        \n",
      " 2   date                     774 non-null    datetime64[ns]\n",
      " 3   total_cases              774 non-null    float64       \n",
      " 4   total_deaths             774 non-null    float64       \n",
      " 5   total_tests              774 non-null    float64       \n",
      " 6   population               774 non-null    float64       \n",
      " 7   median_age               774 non-null    float64       \n",
      " 8   human_development_index  774 non-null    float64       \n",
      "dtypes: datetime64[ns](1), float64(6), object(2)\n",
      "memory usage: 60.5+ KB\n"
     ]
    }
   ],
   "source": [
    "df.info()"
   ]
  },
  {
   "cell_type": "code",
   "execution_count": 52,
   "metadata": {},
   "outputs": [],
   "source": [
    "#convert to string\n",
    "df[[\"location\", \"continent\"]] =df[[\"location\", \"continent\"]].astype('str').astype(\"string\")"
   ]
  },
  {
   "cell_type": "code",
   "execution_count": 53,
   "metadata": {},
   "outputs": [
    {
     "name": "stdout",
     "output_type": "stream",
     "text": [
      "<class 'pandas.core.frame.DataFrame'>\n",
      "Int64Index: 774 entries, 122484 to 123257\n",
      "Data columns (total 9 columns):\n",
      " #   Column                   Non-Null Count  Dtype         \n",
      "---  ------                   --------------  -----         \n",
      " 0   continent                774 non-null    string        \n",
      " 1   location                 774 non-null    string        \n",
      " 2   date                     774 non-null    datetime64[ns]\n",
      " 3   total_cases              774 non-null    float64       \n",
      " 4   total_deaths             774 non-null    float64       \n",
      " 5   total_tests              774 non-null    float64       \n",
      " 6   population               774 non-null    float64       \n",
      " 7   median_age               774 non-null    float64       \n",
      " 8   human_development_index  774 non-null    float64       \n",
      "dtypes: datetime64[ns](1), float64(6), string(2)\n",
      "memory usage: 60.5 KB\n"
     ]
    }
   ],
   "source": [
    "df.info()"
   ]
  },
  {
   "cell_type": "code",
   "execution_count": 55,
   "metadata": {},
   "outputs": [
    {
     "data": {
      "text/plain": [
       "<StringArray>\n",
       "['Pakistan']\n",
       "Length: 1, dtype: string"
      ]
     },
     "execution_count": 55,
     "metadata": {},
     "output_type": "execute_result"
    }
   ],
   "source": [
    "df['location'].unique()"
   ]
  },
  {
   "cell_type": "code",
   "execution_count": 56,
   "metadata": {},
   "outputs": [],
   "source": [
    "df= df.drop(columns=[\"location\", \"continent\"])"
   ]
  },
  {
   "cell_type": "code",
   "execution_count": 57,
   "metadata": {},
   "outputs": [
    {
     "data": {
      "text/html": [
       "<div>\n",
       "<style scoped>\n",
       "    .dataframe tbody tr th:only-of-type {\n",
       "        vertical-align: middle;\n",
       "    }\n",
       "\n",
       "    .dataframe tbody tr th {\n",
       "        vertical-align: top;\n",
       "    }\n",
       "\n",
       "    .dataframe thead th {\n",
       "        text-align: right;\n",
       "    }\n",
       "</style>\n",
       "<table border=\"1\" class=\"dataframe\">\n",
       "  <thead>\n",
       "    <tr style=\"text-align: right;\">\n",
       "      <th></th>\n",
       "      <th>date</th>\n",
       "      <th>total_cases</th>\n",
       "      <th>total_deaths</th>\n",
       "      <th>total_tests</th>\n",
       "      <th>population</th>\n",
       "      <th>median_age</th>\n",
       "      <th>human_development_index</th>\n",
       "    </tr>\n",
       "  </thead>\n",
       "  <tbody>\n",
       "    <tr>\n",
       "      <th>122484</th>\n",
       "      <td>2020-02-25</td>\n",
       "      <td>2.0</td>\n",
       "      <td>16034.542553</td>\n",
       "      <td>1.023301e+07</td>\n",
       "      <td>225199929.0</td>\n",
       "      <td>23.5</td>\n",
       "      <td>0.557</td>\n",
       "    </tr>\n",
       "    <tr>\n",
       "      <th>122485</th>\n",
       "      <td>2020-02-26</td>\n",
       "      <td>2.0</td>\n",
       "      <td>16034.542553</td>\n",
       "      <td>1.023301e+07</td>\n",
       "      <td>225199929.0</td>\n",
       "      <td>23.5</td>\n",
       "      <td>0.557</td>\n",
       "    </tr>\n",
       "    <tr>\n",
       "      <th>122486</th>\n",
       "      <td>2020-02-27</td>\n",
       "      <td>2.0</td>\n",
       "      <td>16034.542553</td>\n",
       "      <td>1.023301e+07</td>\n",
       "      <td>225199929.0</td>\n",
       "      <td>23.5</td>\n",
       "      <td>0.557</td>\n",
       "    </tr>\n",
       "    <tr>\n",
       "      <th>122487</th>\n",
       "      <td>2020-02-28</td>\n",
       "      <td>4.0</td>\n",
       "      <td>16034.542553</td>\n",
       "      <td>1.023301e+07</td>\n",
       "      <td>225199929.0</td>\n",
       "      <td>23.5</td>\n",
       "      <td>0.557</td>\n",
       "    </tr>\n",
       "    <tr>\n",
       "      <th>122488</th>\n",
       "      <td>2020-02-29</td>\n",
       "      <td>4.0</td>\n",
       "      <td>16034.542553</td>\n",
       "      <td>1.023301e+07</td>\n",
       "      <td>225199929.0</td>\n",
       "      <td>23.5</td>\n",
       "      <td>0.557</td>\n",
       "    </tr>\n",
       "  </tbody>\n",
       "</table>\n",
       "</div>"
      ],
      "text/plain": [
       "             date  total_cases  total_deaths   total_tests   population  \\\n",
       "122484 2020-02-25          2.0  16034.542553  1.023301e+07  225199929.0   \n",
       "122485 2020-02-26          2.0  16034.542553  1.023301e+07  225199929.0   \n",
       "122486 2020-02-27          2.0  16034.542553  1.023301e+07  225199929.0   \n",
       "122487 2020-02-28          4.0  16034.542553  1.023301e+07  225199929.0   \n",
       "122488 2020-02-29          4.0  16034.542553  1.023301e+07  225199929.0   \n",
       "\n",
       "        median_age  human_development_index  \n",
       "122484        23.5                    0.557  \n",
       "122485        23.5                    0.557  \n",
       "122486        23.5                    0.557  \n",
       "122487        23.5                    0.557  \n",
       "122488        23.5                    0.557  "
      ]
     },
     "execution_count": 57,
     "metadata": {},
     "output_type": "execute_result"
    }
   ],
   "source": [
    "df.head()"
   ]
  },
  {
   "cell_type": "code",
   "execution_count": 58,
   "metadata": {},
   "outputs": [
    {
     "data": {
      "text/plain": [
       "array([2.25199929e+08])"
      ]
     },
     "execution_count": 58,
     "metadata": {},
     "output_type": "execute_result"
    }
   ],
   "source": [
    "df['population'].unique()"
   ]
  },
  {
   "cell_type": "code",
   "execution_count": 59,
   "metadata": {},
   "outputs": [],
   "source": [
    "df= df.drop(columns=['population'])"
   ]
  },
  {
   "cell_type": "code",
   "execution_count": 60,
   "metadata": {},
   "outputs": [
    {
     "data": {
      "text/plain": [
       "array([23.5])"
      ]
     },
     "execution_count": 60,
     "metadata": {},
     "output_type": "execute_result"
    }
   ],
   "source": [
    "df['median_age'].unique()"
   ]
  },
  {
   "cell_type": "code",
   "execution_count": 61,
   "metadata": {},
   "outputs": [],
   "source": [
    "df= df.drop(columns=['median_age'])"
   ]
  },
  {
   "cell_type": "code",
   "execution_count": 62,
   "metadata": {},
   "outputs": [
    {
     "data": {
      "text/plain": [
       "array([0.557])"
      ]
     },
     "execution_count": 62,
     "metadata": {},
     "output_type": "execute_result"
    }
   ],
   "source": [
    "df['human_development_index'].unique()"
   ]
  },
  {
   "cell_type": "code",
   "execution_count": 63,
   "metadata": {},
   "outputs": [],
   "source": [
    "df= df.drop(columns=['human_development_index'])"
   ]
  },
  {
   "cell_type": "code",
   "execution_count": 64,
   "metadata": {},
   "outputs": [
    {
     "data": {
      "text/html": [
       "<div>\n",
       "<style scoped>\n",
       "    .dataframe tbody tr th:only-of-type {\n",
       "        vertical-align: middle;\n",
       "    }\n",
       "\n",
       "    .dataframe tbody tr th {\n",
       "        vertical-align: top;\n",
       "    }\n",
       "\n",
       "    .dataframe thead th {\n",
       "        text-align: right;\n",
       "    }\n",
       "</style>\n",
       "<table border=\"1\" class=\"dataframe\">\n",
       "  <thead>\n",
       "    <tr style=\"text-align: right;\">\n",
       "      <th></th>\n",
       "      <th>date</th>\n",
       "      <th>total_cases</th>\n",
       "      <th>total_deaths</th>\n",
       "      <th>total_tests</th>\n",
       "    </tr>\n",
       "  </thead>\n",
       "  <tbody>\n",
       "    <tr>\n",
       "      <th>122484</th>\n",
       "      <td>2020-02-25</td>\n",
       "      <td>2.0</td>\n",
       "      <td>16034.542553</td>\n",
       "      <td>1.023301e+07</td>\n",
       "    </tr>\n",
       "    <tr>\n",
       "      <th>122485</th>\n",
       "      <td>2020-02-26</td>\n",
       "      <td>2.0</td>\n",
       "      <td>16034.542553</td>\n",
       "      <td>1.023301e+07</td>\n",
       "    </tr>\n",
       "    <tr>\n",
       "      <th>122486</th>\n",
       "      <td>2020-02-27</td>\n",
       "      <td>2.0</td>\n",
       "      <td>16034.542553</td>\n",
       "      <td>1.023301e+07</td>\n",
       "    </tr>\n",
       "    <tr>\n",
       "      <th>122487</th>\n",
       "      <td>2020-02-28</td>\n",
       "      <td>4.0</td>\n",
       "      <td>16034.542553</td>\n",
       "      <td>1.023301e+07</td>\n",
       "    </tr>\n",
       "    <tr>\n",
       "      <th>122488</th>\n",
       "      <td>2020-02-29</td>\n",
       "      <td>4.0</td>\n",
       "      <td>16034.542553</td>\n",
       "      <td>1.023301e+07</td>\n",
       "    </tr>\n",
       "  </tbody>\n",
       "</table>\n",
       "</div>"
      ],
      "text/plain": [
       "             date  total_cases  total_deaths   total_tests\n",
       "122484 2020-02-25          2.0  16034.542553  1.023301e+07\n",
       "122485 2020-02-26          2.0  16034.542553  1.023301e+07\n",
       "122486 2020-02-27          2.0  16034.542553  1.023301e+07\n",
       "122487 2020-02-28          4.0  16034.542553  1.023301e+07\n",
       "122488 2020-02-29          4.0  16034.542553  1.023301e+07"
      ]
     },
     "execution_count": 64,
     "metadata": {},
     "output_type": "execute_result"
    }
   ],
   "source": [
    "df.head()"
   ]
  },
  {
   "cell_type": "code",
   "execution_count": 67,
   "metadata": {},
   "outputs": [
    {
     "ename": "NameError",
     "evalue": "name 'dtypes' is not defined",
     "output_type": "error",
     "traceback": [
      "\u001b[1;31m---------------------------------------------------------------------------\u001b[0m",
      "\u001b[1;31mNameError\u001b[0m                                 Traceback (most recent call last)",
      "\u001b[1;32m~\\AppData\\Local\\Temp/ipykernel_2100/1835432317.py\u001b[0m in \u001b[0;36m<module>\u001b[1;34m\u001b[0m\n\u001b[1;32m----> 1\u001b[1;33m \u001b[0mdtypes\u001b[0m\u001b[1;33m(\u001b[0m\u001b[0mdf\u001b[0m\u001b[1;33m[\u001b[0m\u001b[1;34m'total_cases'\u001b[0m\u001b[1;33m]\u001b[0m\u001b[1;33m)\u001b[0m\u001b[1;33m\u001b[0m\u001b[1;33m\u001b[0m\u001b[0m\n\u001b[0m",
      "\u001b[1;31mNameError\u001b[0m: name 'dtypes' is not defined"
     ]
    }
   ],
   "source": [
    "dtypes(df['total_cases'])"
   ]
  },
  {
   "cell_type": "code",
   "execution_count": null,
   "metadata": {},
   "outputs": [],
   "source": []
  }
 ],
 "metadata": {
  "interpreter": {
   "hash": "0d69e6d194a9951b421559ac9f165de68eeed9895d5d287c2d9854b2dca19775"
  },
  "kernelspec": {
   "display_name": "Python 3.9.7 ('base')",
   "language": "python",
   "name": "python3"
  },
  "language_info": {
   "codemirror_mode": {
    "name": "ipython",
    "version": 3
   },
   "file_extension": ".py",
   "mimetype": "text/x-python",
   "name": "python",
   "nbconvert_exporter": "python",
   "pygments_lexer": "ipython3",
   "version": "3.9.7"
  },
  "orig_nbformat": 4
 },
 "nbformat": 4,
 "nbformat_minor": 2
}
