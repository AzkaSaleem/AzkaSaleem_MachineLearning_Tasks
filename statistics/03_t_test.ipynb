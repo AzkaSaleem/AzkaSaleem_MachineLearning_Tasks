{
 "cells": [
  {
   "cell_type": "markdown",
   "metadata": {},
   "source": [
    "# Student’s T-Test\n",
    "In 1908 **William Sealy Gosset**, an Englishman publishing under the pseudonym Student, developed the t-test and t distribution.\n",
    "\n",
    "A t-test is a statistical test that is used to compare the means of two groups. It is often used in hypothesis testing to determine whether a process or treatment actually has an effect on the population of interest, or whether two groups are different from one another.\n",
    "\n",
    "There are three types of t-tests we can perform based on the data at hand: One sample t-test. Independent two-sample t-test. Paired sample t-test."
   ]
  },
  {
   "cell_type": "code",
   "execution_count": 1,
   "metadata": {},
   "outputs": [],
   "source": [
    "#import libararies\n",
    "import pandas as pd\n",
    "import seaborn as sns\n",
    "import scipy as sc\n",
    "import matplotlib.pyplot as plt"
   ]
  },
  {
   "cell_type": "code",
   "execution_count": 2,
   "metadata": {},
   "outputs": [
    {
     "data": {
      "text/html": [
       "<div>\n",
       "<style scoped>\n",
       "    .dataframe tbody tr th:only-of-type {\n",
       "        vertical-align: middle;\n",
       "    }\n",
       "\n",
       "    .dataframe tbody tr th {\n",
       "        vertical-align: top;\n",
       "    }\n",
       "\n",
       "    .dataframe thead th {\n",
       "        text-align: right;\n",
       "    }\n",
       "</style>\n",
       "<table border=\"1\" class=\"dataframe\">\n",
       "  <thead>\n",
       "    <tr style=\"text-align: right;\">\n",
       "      <th></th>\n",
       "      <th>survived</th>\n",
       "      <th>pclass</th>\n",
       "      <th>sex</th>\n",
       "      <th>age</th>\n",
       "      <th>sibsp</th>\n",
       "      <th>parch</th>\n",
       "      <th>fare</th>\n",
       "      <th>embarked</th>\n",
       "      <th>class</th>\n",
       "      <th>who</th>\n",
       "      <th>adult_male</th>\n",
       "      <th>deck</th>\n",
       "      <th>embark_town</th>\n",
       "      <th>alive</th>\n",
       "      <th>alone</th>\n",
       "    </tr>\n",
       "  </thead>\n",
       "  <tbody>\n",
       "    <tr>\n",
       "      <th>0</th>\n",
       "      <td>0</td>\n",
       "      <td>3</td>\n",
       "      <td>male</td>\n",
       "      <td>22.0</td>\n",
       "      <td>1</td>\n",
       "      <td>0</td>\n",
       "      <td>7.2500</td>\n",
       "      <td>S</td>\n",
       "      <td>Third</td>\n",
       "      <td>man</td>\n",
       "      <td>True</td>\n",
       "      <td>NaN</td>\n",
       "      <td>Southampton</td>\n",
       "      <td>no</td>\n",
       "      <td>False</td>\n",
       "    </tr>\n",
       "    <tr>\n",
       "      <th>1</th>\n",
       "      <td>1</td>\n",
       "      <td>1</td>\n",
       "      <td>female</td>\n",
       "      <td>38.0</td>\n",
       "      <td>1</td>\n",
       "      <td>0</td>\n",
       "      <td>71.2833</td>\n",
       "      <td>C</td>\n",
       "      <td>First</td>\n",
       "      <td>woman</td>\n",
       "      <td>False</td>\n",
       "      <td>C</td>\n",
       "      <td>Cherbourg</td>\n",
       "      <td>yes</td>\n",
       "      <td>False</td>\n",
       "    </tr>\n",
       "    <tr>\n",
       "      <th>2</th>\n",
       "      <td>1</td>\n",
       "      <td>3</td>\n",
       "      <td>female</td>\n",
       "      <td>26.0</td>\n",
       "      <td>0</td>\n",
       "      <td>0</td>\n",
       "      <td>7.9250</td>\n",
       "      <td>S</td>\n",
       "      <td>Third</td>\n",
       "      <td>woman</td>\n",
       "      <td>False</td>\n",
       "      <td>NaN</td>\n",
       "      <td>Southampton</td>\n",
       "      <td>yes</td>\n",
       "      <td>True</td>\n",
       "    </tr>\n",
       "    <tr>\n",
       "      <th>3</th>\n",
       "      <td>1</td>\n",
       "      <td>1</td>\n",
       "      <td>female</td>\n",
       "      <td>35.0</td>\n",
       "      <td>1</td>\n",
       "      <td>0</td>\n",
       "      <td>53.1000</td>\n",
       "      <td>S</td>\n",
       "      <td>First</td>\n",
       "      <td>woman</td>\n",
       "      <td>False</td>\n",
       "      <td>C</td>\n",
       "      <td>Southampton</td>\n",
       "      <td>yes</td>\n",
       "      <td>False</td>\n",
       "    </tr>\n",
       "    <tr>\n",
       "      <th>4</th>\n",
       "      <td>0</td>\n",
       "      <td>3</td>\n",
       "      <td>male</td>\n",
       "      <td>35.0</td>\n",
       "      <td>0</td>\n",
       "      <td>0</td>\n",
       "      <td>8.0500</td>\n",
       "      <td>S</td>\n",
       "      <td>Third</td>\n",
       "      <td>man</td>\n",
       "      <td>True</td>\n",
       "      <td>NaN</td>\n",
       "      <td>Southampton</td>\n",
       "      <td>no</td>\n",
       "      <td>True</td>\n",
       "    </tr>\n",
       "  </tbody>\n",
       "</table>\n",
       "</div>"
      ],
      "text/plain": [
       "   survived  pclass     sex   age  sibsp  parch     fare embarked  class  \\\n",
       "0         0       3    male  22.0      1      0   7.2500        S  Third   \n",
       "1         1       1  female  38.0      1      0  71.2833        C  First   \n",
       "2         1       3  female  26.0      0      0   7.9250        S  Third   \n",
       "3         1       1  female  35.0      1      0  53.1000        S  First   \n",
       "4         0       3    male  35.0      0      0   8.0500        S  Third   \n",
       "\n",
       "     who  adult_male deck  embark_town alive  alone  \n",
       "0    man        True  NaN  Southampton    no  False  \n",
       "1  woman       False    C    Cherbourg   yes  False  \n",
       "2  woman       False  NaN  Southampton   yes   True  \n",
       "3  woman       False    C  Southampton   yes  False  \n",
       "4    man        True  NaN  Southampton    no   True  "
      ]
     },
     "execution_count": 2,
     "metadata": {},
     "output_type": "execute_result"
    }
   ],
   "source": [
    "kashti = sns.load_dataset(\"titanic\")\n",
    "kashti.head()"
   ]
  },
  {
   "cell_type": "code",
   "execution_count": 3,
   "metadata": {},
   "outputs": [
    {
     "data": {
      "text/plain": [
       "survived         0\n",
       "pclass           0\n",
       "sex              0\n",
       "age            177\n",
       "sibsp            0\n",
       "parch            0\n",
       "fare             0\n",
       "embarked         2\n",
       "class            0\n",
       "who              0\n",
       "adult_male       0\n",
       "deck           688\n",
       "embark_town      2\n",
       "alive            0\n",
       "alone            0\n",
       "dtype: int64"
      ]
     },
     "execution_count": 3,
     "metadata": {},
     "output_type": "execute_result"
    }
   ],
   "source": [
    "kashti.isna().sum()"
   ]
  },
  {
   "cell_type": "code",
   "execution_count": 4,
   "metadata": {},
   "outputs": [
    {
     "data": {
      "text/plain": [
       "survived         0\n",
       "pclass           0\n",
       "sex              0\n",
       "age              0\n",
       "sibsp            0\n",
       "parch            0\n",
       "fare             0\n",
       "embarked         2\n",
       "class            0\n",
       "who              0\n",
       "adult_male       0\n",
       "deck           530\n",
       "embark_town      2\n",
       "alive            0\n",
       "alone            0\n",
       "dtype: int64"
      ]
     },
     "execution_count": 4,
     "metadata": {},
     "output_type": "execute_result"
    }
   ],
   "source": [
    "kashti.dropna(subset=['age'],axis=0,inplace=True)\n",
    "kashti.isna().sum()"
   ]
  },
  {
   "cell_type": "code",
   "execution_count": 5,
   "metadata": {},
   "outputs": [
    {
     "data": {
      "text/html": [
       "<div>\n",
       "<style scoped>\n",
       "    .dataframe tbody tr th:only-of-type {\n",
       "        vertical-align: middle;\n",
       "    }\n",
       "\n",
       "    .dataframe tbody tr th {\n",
       "        vertical-align: top;\n",
       "    }\n",
       "\n",
       "    .dataframe thead th {\n",
       "        text-align: right;\n",
       "    }\n",
       "</style>\n",
       "<table border=\"1\" class=\"dataframe\">\n",
       "  <thead>\n",
       "    <tr style=\"text-align: right;\">\n",
       "      <th></th>\n",
       "      <th>sex</th>\n",
       "      <th>age</th>\n",
       "      <th>fare</th>\n",
       "    </tr>\n",
       "  </thead>\n",
       "  <tbody>\n",
       "    <tr>\n",
       "      <th>0</th>\n",
       "      <td>male</td>\n",
       "      <td>22.0</td>\n",
       "      <td>7.2500</td>\n",
       "    </tr>\n",
       "    <tr>\n",
       "      <th>1</th>\n",
       "      <td>female</td>\n",
       "      <td>38.0</td>\n",
       "      <td>71.2833</td>\n",
       "    </tr>\n",
       "    <tr>\n",
       "      <th>2</th>\n",
       "      <td>female</td>\n",
       "      <td>26.0</td>\n",
       "      <td>7.9250</td>\n",
       "    </tr>\n",
       "    <tr>\n",
       "      <th>3</th>\n",
       "      <td>female</td>\n",
       "      <td>35.0</td>\n",
       "      <td>53.1000</td>\n",
       "    </tr>\n",
       "    <tr>\n",
       "      <th>4</th>\n",
       "      <td>male</td>\n",
       "      <td>35.0</td>\n",
       "      <td>8.0500</td>\n",
       "    </tr>\n",
       "  </tbody>\n",
       "</table>\n",
       "</div>"
      ],
      "text/plain": [
       "      sex   age     fare\n",
       "0    male  22.0   7.2500\n",
       "1  female  38.0  71.2833\n",
       "2  female  26.0   7.9250\n",
       "3  female  35.0  53.1000\n",
       "4    male  35.0   8.0500"
      ]
     },
     "execution_count": 5,
     "metadata": {},
     "output_type": "execute_result"
    }
   ],
   "source": [
    "df = kashti[['sex','age','fare']]\n",
    "df.head()"
   ]
  },
  {
   "cell_type": "markdown",
   "metadata": {},
   "source": [
    "## One-sample student's t-test\n",
    "Test a sample with a known standard value. \n",
    "**Assumptions**\n",
    "- Observations in each sample are independent and identically distributed.\n",
    "- Observations in each sample are normally distributed.\n",
    "- \n",
    " **Interpretation**\n",
    "\n",
    "**H0:** the means of the samples are equal to the known value.\n",
    "\n",
    "**H1:** the means of the samples are unequal to the known value."
   ]
  },
  {
   "cell_type": "code",
   "execution_count": 7,
   "metadata": {},
   "outputs": [
    {
     "name": "stdout",
     "output_type": "stream",
     "text": [
      "stat=-7.647,p=0.000\n",
      "There is a significance difference\n"
     ]
    }
   ],
   "source": [
    "# 1 sample t test to compare the age of male vs female\n",
    "\n",
    "#1. import libarary\n",
    "from scipy.stats import ttest_1samp\n",
    "\n",
    "#2. sub set of male vs female\n",
    "df_male =  df[df['sex']=='male']\n",
    "df_female =  df[df['sex']=='female']\n",
    "\n",
    "#3. t test\n",
    "stat,p = ttest_1samp(df_male['age'],36)\n",
    "print('stat=%.3f,p=%.3f'% (stat,p))\n",
    "\n",
    "#4. make a conditional argument for further case\n",
    "if p > 0.05:\n",
    "  print('There is no significance difference')\n",
    "else:\n",
    "    print('There is a significance difference')\n"
   ]
  },
  {
   "cell_type": "markdown",
   "metadata": {},
   "source": [
    "## Independent student's t-test\n",
    "\n",
    "**Assumptions**\n",
    "- Observations in each sample are independent and identically distributed.\n",
    "- Observations in each sample are normally distributed.\n",
    "- Observations in each sample have the same variance.\n",
    "\n",
    "**Interpretation**\n",
    "\n",
    "**H0:** the means of the samples are equal. \n",
    "\n",
    "**H1:** the means of the samples are unequal"
   ]
  },
  {
   "cell_type": "code",
   "execution_count": 26,
   "metadata": {},
   "outputs": [
    {
     "name": "stdout",
     "output_type": "stream",
     "text": [
      "stat=2.499,p=0.013\n",
      "There is a significance difference\n"
     ]
    }
   ],
   "source": [
    "# 2 sample t test to compare the age of male vs female\n",
    "\n",
    "#1. import libarary\n",
    "from scipy.stats import ttest_ind\n",
    "\n",
    "#2. sub set of male vs female\n",
    "df_male =  df[df['sex']=='male']\n",
    "df_female =  df[df['sex']=='female']\n",
    "\n",
    "#3. t test(unpaired/two sample/independent)\n",
    "stat,p = ttest_ind(df_male['age'],df_female['age'])\n",
    "print('stat=%.3f,p=%.3f'% (stat,p))\n",
    "\n",
    "#4. make a conditional argument for further case\n",
    "if p > 0.05:\n",
    "  print('There is no significance difference')\n",
    "else:\n",
    "    print('There is a significance difference')"
   ]
  },
  {
   "cell_type": "markdown",
   "metadata": {},
   "source": [
    "## Paired student's t-test\n",
    "Tests whether the means of two paired samples are significantly different.\n",
    "**Assumptions**\n",
    "- Observations in each sample are independent and identically distributed.\n",
    "- Observations in each sample are normally distributed.\n",
    "- Observations in each sample have the same variance.\n",
    "- Observations across each sample are paired.\n",
    "- \n",
    "**Interpretation**\n",
    "\n",
    "**H0:** the means of the samples are equal.\n",
    "\n",
    "**H1:** the means of the samples are unequal."
   ]
  },
  {
   "cell_type": "code",
   "execution_count": 24,
   "metadata": {},
   "outputs": [
    {
     "name": "stdout",
     "output_type": "stream",
     "text": [
      "stat=3.970,p=0.000\n",
      "There is a significance difference\n"
     ]
    }
   ],
   "source": [
    "# 2 sample t test to compare the age of male in first and second class\n",
    "#1. import libarary\n",
    "from scipy.stats import ttest_rel\n",
    "\n",
    "#2. sub set of male vs female\n",
    "df = kashti[['sex','age','class']]\n",
    "df.head()\n",
    "df_male =  df[df['sex']=='male']\n",
    "df_male.head()\n",
    "df_male_1st =  df_male[df_male['class']=='First']\n",
    "df_male_1st.head()\n",
    "df_male_2nd =  df_male[df_male['class']=='Second']\n",
    "df_male_2nd.head()\n",
    "\n",
    "# equaling the rows of the df_male_1st and df_male_2nd\n",
    "df_male_1st= df_male_1st.sample(n=100,replace=True)\n",
    "df_male_2nd= df_male_2nd.sample(n=100,replace=True)\n",
    "\n",
    "#3. t test(paired/two sample/dependent)\n",
    "stat,p = ttest_rel(df_male_1st['age'],df_male_2nd['age'])\n",
    "print('stat=%.3f,p=%.3f'% (stat,p))\n",
    "\n",
    "#4. make a conditional argument for further case\n",
    "if p > 0.05:\n",
    "  print('There is no significance difference')\n",
    "else:\n",
    "    print('There is a significance difference')"
   ]
  },
  {
   "cell_type": "code",
   "execution_count": 25,
   "metadata": {},
   "outputs": [
    {
     "name": "stdout",
     "output_type": "stream",
     "text": [
      "stat=5.996,p=0.000\n",
      "There is a significance difference\n"
     ]
    }
   ],
   "source": [
    "# 2 sample t test to compare the age of male in first, second class and third class\n",
    "#1. import libarary\n",
    "from scipy.stats import ttest_rel\n",
    "\n",
    "#2. sub set of male vs female\n",
    "df = kashti[['sex','age','class']]\n",
    "df.head()\n",
    "df_male =  df[df['sex']=='male']\n",
    "df_male.head()\n",
    "df_male_1st =  df_male[df_male['class']=='First']\n",
    "df_male_1st.head()\n",
    "df_male_2nd =  df_male[df_male['class']=='Second']\n",
    "df_male_2nd.head()\n",
    "df_male_3rd =  df_male[df_male['class']=='Third']\n",
    "df_male_3rd.head()\n",
    "\n",
    "# equaling the rows of the df_male_1st and df_male_2nd\n",
    "df_male_1st= df_male_1st.sample(n=100,replace=True)\n",
    "df_male_2nd= df_male_2nd.sample(n=100,replace=True)\n",
    "df_male_3rd= df_male_3rd.sample(n=100,replace=True)\n",
    "\n",
    "#3. t test(paired/two sample/dependent)\n",
    "stat,p = ttest_rel(df_male_1st['age'],df_male_2nd['age'])\n",
    "print('stat=%.3f,p=%.3f'% (stat,p))\n",
    "\n",
    "#4. make a conditional argument for further case\n",
    "if p > 0.05:\n",
    "  print('There is no significance difference')\n",
    "else:\n",
    "    print('There is a significance difference')"
   ]
  },
  {
   "cell_type": "code",
   "execution_count": null,
   "metadata": {},
   "outputs": [],
   "source": [
    "#another way \n",
    "# 2 sample t test to compare the fare and  age of male \n",
    "#1. import libarary\n",
    "from scipy.stats import ttest_rel\n",
    "\n",
    "#2. sub set of male vs female\n",
    "df = kashti[['sex','age','fare']]\n",
    "df.head()\n",
    "df_male =  df[df['sex']=='male']\n",
    "df_male.head()\n",
    "\n",
    "#3. t test(paired/two sample/dependent)\n",
    "stat,p = ttest_rel(df_male['age'],df_male['fare'])\n",
    "print('stat=%.3f,p=%.3f'% (stat,p))\n",
    "\n",
    "#4. make a conditional argument for further case\n",
    "if p > 0.05:\n",
    "  print('There is no significance difference')\n",
    "else:\n",
    "    print('There is a significance difference')"
   ]
  },
  {
   "cell_type": "markdown",
   "metadata": {},
   "source": []
  }
 ],
 "metadata": {
  "interpreter": {
   "hash": "0d69e6d194a9951b421559ac9f165de68eeed9895d5d287c2d9854b2dca19775"
  },
  "kernelspec": {
   "display_name": "Python 3.9.7 ('base')",
   "language": "python",
   "name": "python3"
  },
  "language_info": {
   "codemirror_mode": {
    "name": "ipython",
    "version": 3
   },
   "file_extension": ".py",
   "mimetype": "text/x-python",
   "name": "python",
   "nbconvert_exporter": "python",
   "pygments_lexer": "ipython3",
   "version": "3.9.7"
  },
  "orig_nbformat": 4
 },
 "nbformat": 4,
 "nbformat_minor": 2
}
