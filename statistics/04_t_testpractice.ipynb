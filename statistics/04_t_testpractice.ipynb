{
 "cells": [
  {
   "cell_type": "markdown",
   "metadata": {},
   "source": [
    "# Student’s T-Test\n",
    "In 1908 **William Sealy Gosset**, an Englishman publishing under the pseudonym Student, developed the t-test and t distribution.\n",
    "\n",
    "A t-test is a statistical test that is used to compare the means of two groups. It is often used in hypothesis testing to determine whether a process or treatment actually has an effect on the population of interest, or whether two groups are different from one another.\n",
    "\n",
    "There are three types of t-tests we can perform based on the data at hand: One sample t-test. Independent two-sample t-test. Paired sample t-test."
   ]
  },
  {
   "cell_type": "code",
   "execution_count": 11,
   "metadata": {},
   "outputs": [],
   "source": [
    "#import libararies\n",
    "import pandas as pd\n",
    "import seaborn as sns\n",
    "import scipy as sc\n",
    "import matplotlib.pyplot as plt\n",
    "import numpy as np"
   ]
  },
  {
   "cell_type": "code",
   "execution_count": 12,
   "metadata": {},
   "outputs": [
    {
     "data": {
      "text/html": [
       "<div>\n",
       "<style scoped>\n",
       "    .dataframe tbody tr th:only-of-type {\n",
       "        vertical-align: middle;\n",
       "    }\n",
       "\n",
       "    .dataframe tbody tr th {\n",
       "        vertical-align: top;\n",
       "    }\n",
       "\n",
       "    .dataframe thead th {\n",
       "        text-align: right;\n",
       "    }\n",
       "</style>\n",
       "<table border=\"1\" class=\"dataframe\">\n",
       "  <thead>\n",
       "    <tr style=\"text-align: right;\">\n",
       "      <th></th>\n",
       "      <th>age</th>\n",
       "      <th>distance</th>\n",
       "      <th>YearsExperience</th>\n",
       "      <th>Salary</th>\n",
       "    </tr>\n",
       "  </thead>\n",
       "  <tbody>\n",
       "    <tr>\n",
       "      <th>0</th>\n",
       "      <td>31.1</td>\n",
       "      <td>77.75</td>\n",
       "      <td>1.1</td>\n",
       "      <td>39343</td>\n",
       "    </tr>\n",
       "    <tr>\n",
       "      <th>1</th>\n",
       "      <td>31.3</td>\n",
       "      <td>78.25</td>\n",
       "      <td>1.3</td>\n",
       "      <td>46205</td>\n",
       "    </tr>\n",
       "    <tr>\n",
       "      <th>2</th>\n",
       "      <td>31.5</td>\n",
       "      <td>78.75</td>\n",
       "      <td>1.5</td>\n",
       "      <td>37731</td>\n",
       "    </tr>\n",
       "    <tr>\n",
       "      <th>3</th>\n",
       "      <td>32.0</td>\n",
       "      <td>80.00</td>\n",
       "      <td>2.0</td>\n",
       "      <td>43525</td>\n",
       "    </tr>\n",
       "    <tr>\n",
       "      <th>4</th>\n",
       "      <td>32.2</td>\n",
       "      <td>80.50</td>\n",
       "      <td>2.2</td>\n",
       "      <td>39891</td>\n",
       "    </tr>\n",
       "  </tbody>\n",
       "</table>\n",
       "</div>"
      ],
      "text/plain": [
       "    age  distance  YearsExperience  Salary\n",
       "0  31.1     77.75              1.1   39343\n",
       "1  31.3     78.25              1.3   46205\n",
       "2  31.5     78.75              1.5   37731\n",
       "3  32.0     80.00              2.0   43525\n",
       "4  32.2     80.50              2.2   39891"
      ]
     },
     "execution_count": 12,
     "metadata": {},
     "output_type": "execute_result"
    }
   ],
   "source": [
    "salarykadata = pd.read_csv('ml_data_salary.csv')\n",
    "salarykadata.head()"
   ]
  },
  {
   "cell_type": "code",
   "execution_count": 4,
   "metadata": {},
   "outputs": [
    {
     "data": {
      "text/plain": [
       "age                0\n",
       "distance           0\n",
       "YearsExperience    0\n",
       "Salary             0\n",
       "dtype: int64"
      ]
     },
     "execution_count": 4,
     "metadata": {},
     "output_type": "execute_result"
    }
   ],
   "source": [
    "salarykadata.isna().sum()"
   ]
  },
  {
   "cell_type": "code",
   "execution_count": 13,
   "metadata": {},
   "outputs": [
    {
     "data": {
      "text/plain": [
       "0     bachy\n",
       "1     bachy\n",
       "2     bachy\n",
       "3     bachy\n",
       "4     bachy\n",
       "5     bachy\n",
       "6     bachy\n",
       "7     bachy\n",
       "8     bachy\n",
       "9     bachy\n",
       "10    bachy\n",
       "11    bachy\n",
       "12    bachy\n",
       "13    bachy\n",
       "14    jawan\n",
       "15    jawan\n",
       "16    jawan\n",
       "17    jawan\n",
       "18    jawan\n",
       "19    jawan\n",
       "20    jawan\n",
       "21    jawan\n",
       "22    borhy\n",
       "23    borhy\n",
       "24    borhy\n",
       "25    borhy\n",
       "26    borhy\n",
       "27    borhy\n",
       "28    borhy\n",
       "29    borhy\n",
       "Name: age, dtype: category\n",
       "Categories (3, object): ['bachy' < 'jawan' < 'borhy']"
      ]
     },
     "execution_count": 13,
     "metadata": {},
     "output_type": "execute_result"
    }
   ],
   "source": [
    "#binning of age column into 3 catagories\n",
    "bins = np.linspace(min(salarykadata['age']),max(salarykadata['age']),4)\n",
    "age_groups= ['bachy','jawan','borhy']\n",
    "salarykadata['age']= pd.cut(salarykadata['age'],bins,labels=age_groups, include_lowest=True)\n",
    "salarykadata['age']"
   ]
  },
  {
   "cell_type": "code",
   "execution_count": 14,
   "metadata": {},
   "outputs": [
    {
     "data": {
      "text/html": [
       "<div>\n",
       "<style scoped>\n",
       "    .dataframe tbody tr th:only-of-type {\n",
       "        vertical-align: middle;\n",
       "    }\n",
       "\n",
       "    .dataframe tbody tr th {\n",
       "        vertical-align: top;\n",
       "    }\n",
       "\n",
       "    .dataframe thead th {\n",
       "        text-align: right;\n",
       "    }\n",
       "</style>\n",
       "<table border=\"1\" class=\"dataframe\">\n",
       "  <thead>\n",
       "    <tr style=\"text-align: right;\">\n",
       "      <th></th>\n",
       "      <th>age</th>\n",
       "      <th>YearsExperience</th>\n",
       "      <th>Salary</th>\n",
       "    </tr>\n",
       "  </thead>\n",
       "  <tbody>\n",
       "    <tr>\n",
       "      <th>0</th>\n",
       "      <td>bachy</td>\n",
       "      <td>1.1</td>\n",
       "      <td>39343</td>\n",
       "    </tr>\n",
       "    <tr>\n",
       "      <th>1</th>\n",
       "      <td>bachy</td>\n",
       "      <td>1.3</td>\n",
       "      <td>46205</td>\n",
       "    </tr>\n",
       "    <tr>\n",
       "      <th>2</th>\n",
       "      <td>bachy</td>\n",
       "      <td>1.5</td>\n",
       "      <td>37731</td>\n",
       "    </tr>\n",
       "    <tr>\n",
       "      <th>3</th>\n",
       "      <td>bachy</td>\n",
       "      <td>2.0</td>\n",
       "      <td>43525</td>\n",
       "    </tr>\n",
       "    <tr>\n",
       "      <th>4</th>\n",
       "      <td>bachy</td>\n",
       "      <td>2.2</td>\n",
       "      <td>39891</td>\n",
       "    </tr>\n",
       "  </tbody>\n",
       "</table>\n",
       "</div>"
      ],
      "text/plain": [
       "     age  YearsExperience  Salary\n",
       "0  bachy              1.1   39343\n",
       "1  bachy              1.3   46205\n",
       "2  bachy              1.5   37731\n",
       "3  bachy              2.0   43525\n",
       "4  bachy              2.2   39891"
      ]
     },
     "execution_count": 14,
     "metadata": {},
     "output_type": "execute_result"
    }
   ],
   "source": [
    "df = salarykadata[['age','YearsExperience','Salary']]\n",
    "df.head()"
   ]
  },
  {
   "cell_type": "markdown",
   "metadata": {},
   "source": [
    "## One-sample student's t-test\n",
    "Test a sample with a known standard value. \n",
    "**Assumptions**\n",
    "- Observations in each sample are independent and identically distributed.\n",
    "- Observations in each sample are normally distributed.\n",
    "- \n",
    " **Interpretation**\n",
    "\n",
    "**H0:** the means of the samples are equal to the known value.\n",
    "\n",
    "**H1:** the means of the samples are unequal to the known value."
   ]
  },
  {
   "cell_type": "code",
   "execution_count": 16,
   "metadata": {},
   "outputs": [
    {
     "name": "stdout",
     "output_type": "stream",
     "text": [
      "stat=8.165,p=0.000\n",
      "There is a significance difference\n"
     ]
    }
   ],
   "source": [
    "# 1 sample t test to compare the salary of young workers with 40000\n",
    "#1. import libarary\n",
    "from scipy.stats import ttest_1samp\n",
    "\n",
    "#2. sub set of age by bachy jawan borhy\n",
    "df_bachy=  df[df['age']=='bachy']\n",
    "df_jawan =  df[df['age']=='jawan']\n",
    "df_borhy=  df[df['age']=='borhy']\n",
    "\n",
    "#3. t test\n",
    "stat,p = ttest_1samp(df_jawan['Salary'],40000)\n",
    "print('stat=%.3f,p=%.3f'% (stat,p))\n",
    "\n",
    "#4. make a conditional argument for further case\n",
    "if p > 0.05:\n",
    "  print('There is no significance difference')\n",
    "else:\n",
    "    print('There is a significance difference')\n"
   ]
  },
  {
   "cell_type": "markdown",
   "metadata": {},
   "source": [
    "## Independent student's t-test\n",
    "\n",
    "**Assumptions**\n",
    "- Observations in each sample are independent and identically distributed.\n",
    "- Observations in each sample are normally distributed.\n",
    "- Observations in each sample have the same variance.\n",
    "\n",
    "**Interpretation**\n",
    "\n",
    "**H0:** the means of the samples are equal. \n",
    "\n",
    "**H1:** the means of the samples are unequal"
   ]
  },
  {
   "cell_type": "code",
   "execution_count": 17,
   "metadata": {},
   "outputs": [
    {
     "name": "stdout",
     "output_type": "stream",
     "text": [
      "stat=-5.806,p=0.000\n",
      "There is a significance difference\n"
     ]
    }
   ],
   "source": [
    "# 2 sample t test to compare the salary of jawan and borhy\n",
    "\n",
    "#1. import libarary\n",
    "from scipy.stats import ttest_ind\n",
    "\n",
    "#2. sub set of age by bachy borhy jawan\n",
    "df_jawan =  df[df['age']=='jawan']\n",
    "df_borhy=  df[df['age']=='borhy']\n",
    "\n",
    "#3. t test(unpaired/two sample/independent)\n",
    "stat,p = ttest_ind(df_jawan['Salary'],df_borhy['Salary'])\n",
    "print('stat=%.3f,p=%.3f'% (stat,p))\n",
    "\n",
    "#4. make a conditional argument for further case\n",
    "if p > 0.05:\n",
    "  print('There is no significance difference')\n",
    "else:\n",
    "    print('There is a significance difference')"
   ]
  },
  {
   "cell_type": "markdown",
   "metadata": {},
   "source": [
    "## Paired student's t-test\n",
    "Tests whether the means of two paired samples are significantly different.\n",
    "**Assumptions**\n",
    "- Observations in each sample are independent and identically distributed.\n",
    "- Observations in each sample are normally distributed.\n",
    "- Observations in each sample have the same variance.\n",
    "- Observations across each sample are paired.\n",
    "- \n",
    "**Interpretation**\n",
    "\n",
    "**H0:** the means of the samples are equal.\n",
    "\n",
    "**H1:** the means of the samples are unequal."
   ]
  },
  {
   "cell_type": "code",
   "execution_count": 18,
   "metadata": {},
   "outputs": [
    {
     "name": "stderr",
     "output_type": "stream",
     "text": [
      "C:\\Users\\Azka\\AppData\\Local\\Temp/ipykernel_11944/1679920551.py:3: SettingWithCopyWarning: \n",
      "A value is trying to be set on a copy of a slice from a DataFrame.\n",
      "Try using .loc[row_indexer,col_indexer] = value instead\n",
      "\n",
      "See the caveats in the documentation: https://pandas.pydata.org/pandas-docs/stable/user_guide/indexing.html#returning-a-view-versus-a-copy\n",
      "  df['YearsExperience']= pd.cut(df['YearsExperience'],bins,labels=ex_grp, include_lowest=True)\n"
     ]
    },
    {
     "data": {
      "text/plain": [
       "0     expert\n",
       "1     expert\n",
       "2     expert\n",
       "3     expert\n",
       "4     expert\n",
       "5     expert\n",
       "6     expert\n",
       "7     expert\n",
       "8     expert\n",
       "9     expert\n",
       "10    expert\n",
       "11    expert\n",
       "12    expert\n",
       "13    expert\n",
       "14    expert\n",
       "15    expert\n",
       "16    expert\n",
       "17    expert\n",
       "18    newbee\n",
       "19    newbee\n",
       "20    newbee\n",
       "21    newbee\n",
       "22    newbee\n",
       "23    newbee\n",
       "24    newbee\n",
       "25    newbee\n",
       "26    newbee\n",
       "27    newbee\n",
       "28    newbee\n",
       "29    newbee\n",
       "Name: YearsExperience, dtype: category\n",
       "Categories (2, object): ['expert' < 'newbee']"
      ]
     },
     "execution_count": 18,
     "metadata": {},
     "output_type": "execute_result"
    }
   ],
   "source": [
    "#binning the YearsExperience column\n",
    "bins = np.linspace(min(df['YearsExperience']),max(df['YearsExperience']),3)\n",
    "ex_grp= ['expert','newbee']\n",
    "df['YearsExperience']= pd.cut(df['YearsExperience'],bins,labels=ex_grp, include_lowest=True)\n",
    "df['YearsExperience']"
   ]
  },
  {
   "cell_type": "code",
   "execution_count": 19,
   "metadata": {},
   "outputs": [
    {
     "name": "stdout",
     "output_type": "stream",
     "text": [
      "stat=-8.486,p=0.003\n",
      "There is a significance difference\n"
     ]
    }
   ],
   "source": [
    "# 2 sample t test to compare the salary of young and experienced worker with young and beginners.\n",
    "\n",
    "#1. import libarary\n",
    "from scipy.stats import ttest_rel\n",
    "\n",
    "#2. sub set of age by bachy borhy jawan\n",
    "df_bachy=  df[df['age']=='bachy']\n",
    "df_jawan =  df[df['age']=='jawan']\n",
    "\n",
    "df_jawan_expert =  df_jawan[df_jawan['YearsExperience']=='expert']\n",
    "df_jawan_expert.head()\n",
    "df_jawan_newbee =  df_jawan[df_jawan['YearsExperience']=='newbee']\n",
    "df_jawan_newbee.head()\n",
    "\n",
    "# equaling the rows of the df_jawan_expert and df_jawan_newbee\n",
    "df_male_1st= df_jawan_expert.sample(n=10,replace=True)\n",
    "df_male_2nd= df_jawan_newbee.sample(n=10,replace=True)\n",
    "\n",
    "#3. t test(paired/two sample/dependent)\n",
    "stat,p = ttest_rel(df_jawan_expert['Salary'],df_jawan_newbee['Salary'])\n",
    "print('stat=%.3f,p=%.3f'% (stat,p))\n",
    "\n",
    "#4. make a conditional argument for further case\n",
    "if p > 0.05:\n",
    "  print('There is no significance difference')\n",
    "else:\n",
    "    print('There is a significance difference')"
   ]
  }
 ],
 "metadata": {
  "interpreter": {
   "hash": "0d69e6d194a9951b421559ac9f165de68eeed9895d5d287c2d9854b2dca19775"
  },
  "kernelspec": {
   "display_name": "Python 3.9.7 ('base')",
   "language": "python",
   "name": "python3"
  },
  "language_info": {
   "codemirror_mode": {
    "name": "ipython",
    "version": 3
   },
   "file_extension": ".py",
   "mimetype": "text/x-python",
   "name": "python",
   "nbconvert_exporter": "python",
   "pygments_lexer": "ipython3",
   "version": "3.9.7"
  },
  "orig_nbformat": 4
 },
 "nbformat": 4,
 "nbformat_minor": 2
}
